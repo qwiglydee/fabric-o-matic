{
 "cells": [
  {
   "cell_type": "markdown",
   "metadata": {},
   "source": [
    "# Spline curves\n",
    "\n",
    "General properties:\n",
    "- polynomial of degree $d$ for $t$\n",
    "- (distance/projection equation is of degree $2d-1$)\n",
    "- uniform cooficients for all segments\n",
    "- locality: $d+1$ points affect a segment, $d-1$ segments affected by a point  \n",
    "- parametric continuity: at least $C^0$, other depends on arrangement\n",
    "- geometric continuity can be acheved by arranging control points"
   ]
  },
  {
   "cell_type": "markdown",
   "metadata": {},
   "source": [
    "## General math\n",
    "\n",
    "Piece-wise spline curve of degree $d$ with characteristic matrix $M$ of size $(d+1) × (d+1)$\n",
    "\n",
    "$Q_i(t_l) =\n",
    "\\begin{bmatrix}\n",
    "1 & t_l & t_l^2 & \\dots & t_l^d\n",
    "\\end{bmatrix}\n",
    "M\n",
    "\\begin{bmatrix}\n",
    "P_i\\\\\n",
    "P_{i+1} \\\\\n",
    "\\vdots \\\\\n",
    "P_{i+d} \\\\\n",
    "\\end{bmatrix}\n",
    "$\n",
    "\n",
    "\n",
    "Each $i$-th segment runs by local $t_l \\in [0, 1]$ and global $t = t_i + t_l$. The segment is generally supported by $d+1$ points $P_i, \\dots, P_{i+d}$. \n",
    "\n",
    "Curve can extrapolate beyond the points with values of $$ outside $[0, 1]$, though. The extrapolation runs with the same speed/acceleration as at an edge point.\n",
    "\n",
    "### Derivatives\n",
    "\n",
    "\n",
    "Velocity:\n",
    "\n",
    "$Q'(t) = \\frac{d}{dt} Q(t) = \n",
    "\\begin{bmatrix}\n",
    "0 & 1 & 2 t & \\dots & d t^{d-1}\n",
    "\\end{bmatrix}\n",
    "M\n",
    "\\begin{bmatrix}\\vdots \\\\ P \\\\ \\vdots\\end{bmatrix}\n",
    "$\n",
    "\n",
    "Acceleration:\n",
    "\n",
    "$Q''(t) = \\frac{d^2}{dt^2} Q(t) = \n",
    "\\begin{bmatrix}\n",
    "0 & 0 & 2 & \\dots & d (d-1) t^{d-2}\n",
    "\\end{bmatrix}\n",
    "M\n",
    "\\begin{bmatrix}\\vdots \\\\ P \\\\ \\vdots\\end{bmatrix}\n",
    "$\n",
    "\n",
    "Tangent (normalized):\n",
    "\n",
    "$T(t) = \\frac{Q'(t)}{\\|Q'(t)\\|}$\n",
    "\n",
    "Normal (in a plane of the osculating circle):\n",
    "\n",
    "$N(t) = \\frac{d}{dt} T(t) = \\frac{Q''(t)}{\\|Q''(t)\\|}$"
   ]
  },
  {
   "cell_type": "code",
   "execution_count": 1,
   "metadata": {},
   "outputs": [],
   "source": [
    "import math\n",
    "import random\n",
    "\n",
    "import numpy as np\n",
    "from plotly import graph_objects as go\n",
    "import ipywidgets as iw\n",
    "from IPython.display import display\n",
    "\n",
    "from vectors import vec\n",
    "import splines as spl"
   ]
  },
  {
   "cell_type": "code",
   "execution_count": 2,
   "metadata": {},
   "outputs": [],
   "source": [
    "#### generating random points in x-aligned grid\n",
    "\n",
    "def genpoints2d(n):\n",
    "    return np.random.random((n, 2))\n",
    "\n",
    "def genpoints3d(n):\n",
    "    return np.random.random((n, 3))\n",
    "\n",
    "# evenly distributed along x\n",
    "\n",
    "def genpoints2dx(n):\n",
    "    return np.array([np.arange(n) + np.random.random(n) * 0.5, np.random.random(n)]).T\n",
    "\n",
    "def genpoints3dx(n):\n",
    "    return np.array([np.arange(n) + np.random.random(n) * 0.5, np.random.random(n), np.random.random(n)]).T\n"
   ]
  },
  {
   "cell_type": "markdown",
   "metadata": {},
   "source": [
    "## Bezier curves\n",
    "\n",
    "Piece-wise curve, interpolating edge control points, approximating interior control points. \n",
    "At its edges the curve is tangent to vectors $P_1 - P_0$ and $P_{d} - P_{d-1}$.\n",
    "\n",
    "Equivalent to non-uniform B-spline with knot vector of 0 and 1 repeated $d$ times\n",
    "\n",
    "### Construction\n",
    "\n",
    "Recursive:\n",
    "\n",
    "- $Q^{(1)}_i(t|P_0, P_1) = (1-t) P_0 + (t) P_1$ — linear: lerping between 2 points\n",
    "- $Q^{(2)}_i(t|P_0, P_1, P_2) = (1-t) B^{(1)}(t|P_0, P_1) + (t) B^{(1)}(t|P_1, P_2)$ — cuadratic: lerping between lerped points\n",
    "- $Q^{(3)}_i(t|P_0, P_1, P_2, P_3) = (1-t) B^{(2)}(t|P_0, P_1, P_2) + (t) B^{(2)}(t|P_1, P_2, P_3)$ — cubic: lerping between lerped^2 points\n",
    "\n",
    "Polynomial:\n",
    "\n",
    "$b^{(d)}_k(t) = \\binom{d}{k} t^k (1-t)^{(d-k)}$ — Bernstein polynomial\n",
    "\n",
    "$Q^{(d)}(t) = \\sum\\limits_{k=0}^{d} b^{(d)}_k(t)P_k$\n",
    "\n",
    "Segments supproted by generally independent $d+1$ points $P_0 \\cdots P_d$, with local $t \\in [0, 1]$.\n",
    "\n",
    "### Smoothness\n",
    "\n",
    "Continuity depends on construction and relations of the points.\n",
    "\n",
    "- $C^0$: $P_{i,d} = P_{i+1,0}$ — shared edge point\n",
    "- $G^1$ (tangent): $\\|P_{i,d} - P_{i,d-1}\\| = \\|P_{i+1,1} - P_{i+1,0}\\|$ — edge vectors are aligned with a degreee of freedom \n",
    "- $C^1$ (speed): $P_{i,d} - P_{i,d-1} = P_{i+1,1} - P_{i+1,0}$ — edge vectors are mirrored, dependant P_1 and P_{d-1} \n",
    "- $G^2, C^2$ (curvature, accel): induces fail of local control (all points dependant)\n",
    "\n",
    "### Matrices \n",
    "\n",
    "$Q^{(2)}(t) =\n",
    "\\begin{bmatrix} 1 & t & t^2 \\end{bmatrix}\n",
    "\\begin{bmatrix} \n",
    "1 & 0 & 0 \\\\ \n",
    "-2 & 2 & 0 \\\\ \n",
    "1 & -2 & 1 \\\\ \n",
    "\\end{bmatrix}\n",
    "\\begin{bmatrix} P_0 \\\\ P_1 \\\\ P_2 \\end{bmatrix}\n",
    "$\n",
    "\n",
    "$Q^{(3)}(t) =\n",
    "\\begin{bmatrix} 1 & t & t^2 & t^3 \\end{bmatrix}\n",
    "\\begin{bmatrix} \n",
    "1 & 0 & 0 & 0 \\\\  \n",
    "-3 & 3 & 0 & 0 \\\\\n",
    "3 & -6 & 3 & 0 \\\\\n",
    "-1 & 3 & -3 & 1 \\\\\n",
    "\\end{bmatrix}\n",
    "\\begin{bmatrix} P_0 \\\\ P_1 \\\\ P_2 \\\\ P_3 \\end{bmatrix}\n",
    "$"
   ]
  },
  {
   "cell_type": "code",
   "execution_count": 3,
   "metadata": {},
   "outputs": [
    {
     "data": {
      "application/vnd.plotly.v1+json": {
       "config": {
        "plotlyServerURL": "https://plot.ly"
       },
       "data": [
        {
         "line": {
          "dash": "dot"
         },
         "mode": "lines+markers",
         "name": "points",
         "type": "scatter",
         "x": [
          0.28815309397466343,
          1.375587236223474,
          2.248720068468735,
          3.1015022625062985,
          4.104529913016319,
          5.243615541487537
         ],
         "y": [
          0.8759567021072968,
          0.6436503103822734,
          0.43540702419701405,
          0.32304622831932506,
          0.3738130320241716,
          0.7546881629473641
         ]
        },
        {
         "mode": "lines",
         "name": "Bezier 2",
         "type": "scatter",
         "x": [
          0.012946100443655344,
          0.3183182589387501,
          0.6154226199800041,
          0.9042591835674177,
          1.1848279497009906,
          1.4571289183807226,
          1.7211620896066144,
          1.976927463378665,
          2.224425039696875,
          2.463654818561245
         ],
         "y": [
          0.9344092860626115,
          0.8695083885843679,
          0.8055358516593558,
          0.7424916752875756,
          0.6803758594690269,
          0.6191884042037098,
          0.5589293094916243,
          0.4995985753327706,
          0.4411962017271485,
          0.38372218867475805
         ]
        },
        {
         "mode": "lines",
         "name": "Bezier 3",
         "type": "scatter",
         "x": [
          1.9359972113957626,
          2.284339569478229,
          2.650048641468081,
          3.0328963621886307,
          3.4326546664631934,
          3.8490954891150837,
          4.281990764967617,
          4.731112428844105,
          5.196232415567864,
          5.677122659962207
         ],
         "y": [
          0.4848627946479151,
          0.4308201742868944,
          0.3959264863743985,
          0.38286596328626044,
          0.394322837398313,
          0.43298134108638897,
          0.5015257067263214,
          0.6026401666939429,
          0.7390089533650865,
          0.913316299115585
         ]
        }
       ],
       "layout": {
        "template": {
         "data": {
          "bar": [
           {
            "error_x": {
             "color": "#2a3f5f"
            },
            "error_y": {
             "color": "#2a3f5f"
            },
            "marker": {
             "line": {
              "color": "#E5ECF6",
              "width": 0.5
             },
             "pattern": {
              "fillmode": "overlay",
              "size": 10,
              "solidity": 0.2
             }
            },
            "type": "bar"
           }
          ],
          "barpolar": [
           {
            "marker": {
             "line": {
              "color": "#E5ECF6",
              "width": 0.5
             },
             "pattern": {
              "fillmode": "overlay",
              "size": 10,
              "solidity": 0.2
             }
            },
            "type": "barpolar"
           }
          ],
          "carpet": [
           {
            "aaxis": {
             "endlinecolor": "#2a3f5f",
             "gridcolor": "white",
             "linecolor": "white",
             "minorgridcolor": "white",
             "startlinecolor": "#2a3f5f"
            },
            "baxis": {
             "endlinecolor": "#2a3f5f",
             "gridcolor": "white",
             "linecolor": "white",
             "minorgridcolor": "white",
             "startlinecolor": "#2a3f5f"
            },
            "type": "carpet"
           }
          ],
          "choropleth": [
           {
            "colorbar": {
             "outlinewidth": 0,
             "ticks": ""
            },
            "type": "choropleth"
           }
          ],
          "contour": [
           {
            "colorbar": {
             "outlinewidth": 0,
             "ticks": ""
            },
            "colorscale": [
             [
              0,
              "#0d0887"
             ],
             [
              0.1111111111111111,
              "#46039f"
             ],
             [
              0.2222222222222222,
              "#7201a8"
             ],
             [
              0.3333333333333333,
              "#9c179e"
             ],
             [
              0.4444444444444444,
              "#bd3786"
             ],
             [
              0.5555555555555556,
              "#d8576b"
             ],
             [
              0.6666666666666666,
              "#ed7953"
             ],
             [
              0.7777777777777778,
              "#fb9f3a"
             ],
             [
              0.8888888888888888,
              "#fdca26"
             ],
             [
              1,
              "#f0f921"
             ]
            ],
            "type": "contour"
           }
          ],
          "contourcarpet": [
           {
            "colorbar": {
             "outlinewidth": 0,
             "ticks": ""
            },
            "type": "contourcarpet"
           }
          ],
          "heatmap": [
           {
            "colorbar": {
             "outlinewidth": 0,
             "ticks": ""
            },
            "colorscale": [
             [
              0,
              "#0d0887"
             ],
             [
              0.1111111111111111,
              "#46039f"
             ],
             [
              0.2222222222222222,
              "#7201a8"
             ],
             [
              0.3333333333333333,
              "#9c179e"
             ],
             [
              0.4444444444444444,
              "#bd3786"
             ],
             [
              0.5555555555555556,
              "#d8576b"
             ],
             [
              0.6666666666666666,
              "#ed7953"
             ],
             [
              0.7777777777777778,
              "#fb9f3a"
             ],
             [
              0.8888888888888888,
              "#fdca26"
             ],
             [
              1,
              "#f0f921"
             ]
            ],
            "type": "heatmap"
           }
          ],
          "heatmapgl": [
           {
            "colorbar": {
             "outlinewidth": 0,
             "ticks": ""
            },
            "colorscale": [
             [
              0,
              "#0d0887"
             ],
             [
              0.1111111111111111,
              "#46039f"
             ],
             [
              0.2222222222222222,
              "#7201a8"
             ],
             [
              0.3333333333333333,
              "#9c179e"
             ],
             [
              0.4444444444444444,
              "#bd3786"
             ],
             [
              0.5555555555555556,
              "#d8576b"
             ],
             [
              0.6666666666666666,
              "#ed7953"
             ],
             [
              0.7777777777777778,
              "#fb9f3a"
             ],
             [
              0.8888888888888888,
              "#fdca26"
             ],
             [
              1,
              "#f0f921"
             ]
            ],
            "type": "heatmapgl"
           }
          ],
          "histogram": [
           {
            "marker": {
             "pattern": {
              "fillmode": "overlay",
              "size": 10,
              "solidity": 0.2
             }
            },
            "type": "histogram"
           }
          ],
          "histogram2d": [
           {
            "colorbar": {
             "outlinewidth": 0,
             "ticks": ""
            },
            "colorscale": [
             [
              0,
              "#0d0887"
             ],
             [
              0.1111111111111111,
              "#46039f"
             ],
             [
              0.2222222222222222,
              "#7201a8"
             ],
             [
              0.3333333333333333,
              "#9c179e"
             ],
             [
              0.4444444444444444,
              "#bd3786"
             ],
             [
              0.5555555555555556,
              "#d8576b"
             ],
             [
              0.6666666666666666,
              "#ed7953"
             ],
             [
              0.7777777777777778,
              "#fb9f3a"
             ],
             [
              0.8888888888888888,
              "#fdca26"
             ],
             [
              1,
              "#f0f921"
             ]
            ],
            "type": "histogram2d"
           }
          ],
          "histogram2dcontour": [
           {
            "colorbar": {
             "outlinewidth": 0,
             "ticks": ""
            },
            "colorscale": [
             [
              0,
              "#0d0887"
             ],
             [
              0.1111111111111111,
              "#46039f"
             ],
             [
              0.2222222222222222,
              "#7201a8"
             ],
             [
              0.3333333333333333,
              "#9c179e"
             ],
             [
              0.4444444444444444,
              "#bd3786"
             ],
             [
              0.5555555555555556,
              "#d8576b"
             ],
             [
              0.6666666666666666,
              "#ed7953"
             ],
             [
              0.7777777777777778,
              "#fb9f3a"
             ],
             [
              0.8888888888888888,
              "#fdca26"
             ],
             [
              1,
              "#f0f921"
             ]
            ],
            "type": "histogram2dcontour"
           }
          ],
          "mesh3d": [
           {
            "colorbar": {
             "outlinewidth": 0,
             "ticks": ""
            },
            "type": "mesh3d"
           }
          ],
          "parcoords": [
           {
            "line": {
             "colorbar": {
              "outlinewidth": 0,
              "ticks": ""
             }
            },
            "type": "parcoords"
           }
          ],
          "pie": [
           {
            "automargin": true,
            "type": "pie"
           }
          ],
          "scatter": [
           {
            "fillpattern": {
             "fillmode": "overlay",
             "size": 10,
             "solidity": 0.2
            },
            "type": "scatter"
           }
          ],
          "scatter3d": [
           {
            "line": {
             "colorbar": {
              "outlinewidth": 0,
              "ticks": ""
             }
            },
            "marker": {
             "colorbar": {
              "outlinewidth": 0,
              "ticks": ""
             }
            },
            "type": "scatter3d"
           }
          ],
          "scattercarpet": [
           {
            "marker": {
             "colorbar": {
              "outlinewidth": 0,
              "ticks": ""
             }
            },
            "type": "scattercarpet"
           }
          ],
          "scattergeo": [
           {
            "marker": {
             "colorbar": {
              "outlinewidth": 0,
              "ticks": ""
             }
            },
            "type": "scattergeo"
           }
          ],
          "scattergl": [
           {
            "marker": {
             "colorbar": {
              "outlinewidth": 0,
              "ticks": ""
             }
            },
            "type": "scattergl"
           }
          ],
          "scattermapbox": [
           {
            "marker": {
             "colorbar": {
              "outlinewidth": 0,
              "ticks": ""
             }
            },
            "type": "scattermapbox"
           }
          ],
          "scatterpolar": [
           {
            "marker": {
             "colorbar": {
              "outlinewidth": 0,
              "ticks": ""
             }
            },
            "type": "scatterpolar"
           }
          ],
          "scatterpolargl": [
           {
            "marker": {
             "colorbar": {
              "outlinewidth": 0,
              "ticks": ""
             }
            },
            "type": "scatterpolargl"
           }
          ],
          "scatterternary": [
           {
            "marker": {
             "colorbar": {
              "outlinewidth": 0,
              "ticks": ""
             }
            },
            "type": "scatterternary"
           }
          ],
          "surface": [
           {
            "colorbar": {
             "outlinewidth": 0,
             "ticks": ""
            },
            "colorscale": [
             [
              0,
              "#0d0887"
             ],
             [
              0.1111111111111111,
              "#46039f"
             ],
             [
              0.2222222222222222,
              "#7201a8"
             ],
             [
              0.3333333333333333,
              "#9c179e"
             ],
             [
              0.4444444444444444,
              "#bd3786"
             ],
             [
              0.5555555555555556,
              "#d8576b"
             ],
             [
              0.6666666666666666,
              "#ed7953"
             ],
             [
              0.7777777777777778,
              "#fb9f3a"
             ],
             [
              0.8888888888888888,
              "#fdca26"
             ],
             [
              1,
              "#f0f921"
             ]
            ],
            "type": "surface"
           }
          ],
          "table": [
           {
            "cells": {
             "fill": {
              "color": "#EBF0F8"
             },
             "line": {
              "color": "white"
             }
            },
            "header": {
             "fill": {
              "color": "#C8D4E3"
             },
             "line": {
              "color": "white"
             }
            },
            "type": "table"
           }
          ]
         },
         "layout": {
          "annotationdefaults": {
           "arrowcolor": "#2a3f5f",
           "arrowhead": 0,
           "arrowwidth": 1
          },
          "autotypenumbers": "strict",
          "coloraxis": {
           "colorbar": {
            "outlinewidth": 0,
            "ticks": ""
           }
          },
          "colorscale": {
           "diverging": [
            [
             0,
             "#8e0152"
            ],
            [
             0.1,
             "#c51b7d"
            ],
            [
             0.2,
             "#de77ae"
            ],
            [
             0.3,
             "#f1b6da"
            ],
            [
             0.4,
             "#fde0ef"
            ],
            [
             0.5,
             "#f7f7f7"
            ],
            [
             0.6,
             "#e6f5d0"
            ],
            [
             0.7,
             "#b8e186"
            ],
            [
             0.8,
             "#7fbc41"
            ],
            [
             0.9,
             "#4d9221"
            ],
            [
             1,
             "#276419"
            ]
           ],
           "sequential": [
            [
             0,
             "#0d0887"
            ],
            [
             0.1111111111111111,
             "#46039f"
            ],
            [
             0.2222222222222222,
             "#7201a8"
            ],
            [
             0.3333333333333333,
             "#9c179e"
            ],
            [
             0.4444444444444444,
             "#bd3786"
            ],
            [
             0.5555555555555556,
             "#d8576b"
            ],
            [
             0.6666666666666666,
             "#ed7953"
            ],
            [
             0.7777777777777778,
             "#fb9f3a"
            ],
            [
             0.8888888888888888,
             "#fdca26"
            ],
            [
             1,
             "#f0f921"
            ]
           ],
           "sequentialminus": [
            [
             0,
             "#0d0887"
            ],
            [
             0.1111111111111111,
             "#46039f"
            ],
            [
             0.2222222222222222,
             "#7201a8"
            ],
            [
             0.3333333333333333,
             "#9c179e"
            ],
            [
             0.4444444444444444,
             "#bd3786"
            ],
            [
             0.5555555555555556,
             "#d8576b"
            ],
            [
             0.6666666666666666,
             "#ed7953"
            ],
            [
             0.7777777777777778,
             "#fb9f3a"
            ],
            [
             0.8888888888888888,
             "#fdca26"
            ],
            [
             1,
             "#f0f921"
            ]
           ]
          },
          "colorway": [
           "#636efa",
           "#EF553B",
           "#00cc96",
           "#ab63fa",
           "#FFA15A",
           "#19d3f3",
           "#FF6692",
           "#B6E880",
           "#FF97FF",
           "#FECB52"
          ],
          "font": {
           "color": "#2a3f5f"
          },
          "geo": {
           "bgcolor": "white",
           "lakecolor": "white",
           "landcolor": "#E5ECF6",
           "showlakes": true,
           "showland": true,
           "subunitcolor": "white"
          },
          "hoverlabel": {
           "align": "left"
          },
          "hovermode": "closest",
          "mapbox": {
           "style": "light"
          },
          "paper_bgcolor": "white",
          "plot_bgcolor": "#E5ECF6",
          "polar": {
           "angularaxis": {
            "gridcolor": "white",
            "linecolor": "white",
            "ticks": ""
           },
           "bgcolor": "#E5ECF6",
           "radialaxis": {
            "gridcolor": "white",
            "linecolor": "white",
            "ticks": ""
           }
          },
          "scene": {
           "xaxis": {
            "backgroundcolor": "#E5ECF6",
            "gridcolor": "white",
            "gridwidth": 2,
            "linecolor": "white",
            "showbackground": true,
            "ticks": "",
            "zerolinecolor": "white"
           },
           "yaxis": {
            "backgroundcolor": "#E5ECF6",
            "gridcolor": "white",
            "gridwidth": 2,
            "linecolor": "white",
            "showbackground": true,
            "ticks": "",
            "zerolinecolor": "white"
           },
           "zaxis": {
            "backgroundcolor": "#E5ECF6",
            "gridcolor": "white",
            "gridwidth": 2,
            "linecolor": "white",
            "showbackground": true,
            "ticks": "",
            "zerolinecolor": "white"
           }
          },
          "shapedefaults": {
           "line": {
            "color": "#2a3f5f"
           }
          },
          "ternary": {
           "aaxis": {
            "gridcolor": "white",
            "linecolor": "white",
            "ticks": ""
           },
           "baxis": {
            "gridcolor": "white",
            "linecolor": "white",
            "ticks": ""
           },
           "bgcolor": "#E5ECF6",
           "caxis": {
            "gridcolor": "white",
            "linecolor": "white",
            "ticks": ""
           }
          },
          "title": {
           "x": 0.05
          },
          "xaxis": {
           "automargin": true,
           "gridcolor": "white",
           "linecolor": "white",
           "ticks": "",
           "title": {
            "standoff": 15
           },
           "zerolinecolor": "white",
           "zerolinewidth": 2
          },
          "yaxis": {
           "automargin": true,
           "gridcolor": "white",
           "linecolor": "white",
           "ticks": "",
           "title": {
            "standoff": 15
           },
           "zerolinecolor": "white",
           "zerolinewidth": 2
          }
         }
        },
        "xaxis": {
         "range": [
          0,
          6
         ]
        },
        "yaxis": {
         "range": [
          0,
          1
         ]
        }
       }
      }
     },
     "metadata": {},
     "output_type": "display_data"
    }
   ],
   "source": [
    "npoints = 6\n",
    "points = genpoints2dx(npoints)\n",
    "tt = np.linspace(0-.125, 1.125, 10)\n",
    "\n",
    "curve2, _ = spl.build_curve(spl.Bezier2, points[:3])\n",
    "curve3, _ = spl.build_curve(spl.Bezier3, points[2:6])\n",
    "\n",
    "pxx, pyy = points.T\n",
    "c2xx, c2yy = curve2(tt).T\n",
    "c3xx, c3yy = curve3(tt).T\n",
    "\n",
    "go.Figure(\n",
    "    [\n",
    "        go.Scatter(x=pxx, y=pyy, mode=\"lines+markers\", line=dict(dash=\"dot\"), name=\"points\"),\n",
    "        go.Scatter(x=c2xx, y=c2yy, mode=\"lines\", name=\"Bezier 2\"),\n",
    "        go.Scatter(x=c3xx, y=c3yy, mode=\"lines\", name=\"Bezier 3\"),\n",
    "    ],\n",
    "    layout=dict(yaxis=dict(range=(0, 1)), xaxis=dict(range=(0, npoints))),\n",
    ")\n"
   ]
  },
  {
   "cell_type": "markdown",
   "metadata": {},
   "source": [
    "## Uniform B-splines\n",
    "\n",
    "Unlimited overlapping-piecewise curve approximating all control points.\n",
    "\n",
    "Quadratic B-spline curve: tangent to line segments $[P_{i}, P_{i+1}]$ at midpoints\n",
    "\n",
    "### Construction\n",
    "\n",
    "With non-uniform knot vector $T = [t_0, t_1, ..., t_{n+d}]$ dividing curve into $n+d$ segments with any $n$ (points)\n",
    "\n",
    "$B^{(0)}_j[T](t) =\n",
    "\\begin{cases}\n",
    "1 \\text{ if } t_{j} ≤ t < t_{j+1} \\\\\n",
    "0 \\text{ otherwise }\n",
    "\\end{cases}$\n",
    "\n",
    "$B^{(d)}_j[T](t) = \\frac{t - t_j}{t_{j+d} - t_j} B^{(d-1)}_j[T](t) + \\frac{t_{j+d+1} - t}{t_{j+d+1} - t_{j+1}} B^{(d-1)}_{j+1}[T](t)$\n",
    "\n",
    "With uniform knot vector $T = t_{j+1} - t_{j} = 1, t_{j} = j$\n",
    "\n",
    "$B^{(d)}_j(t) = \\frac{1}{d} ((t - j) B^{(d-1)}_j(t) + (d + 1 - (t - j)) B^{(d-1)}_{j+1}(t))$\n",
    "\n",
    "### Smoothness\n",
    "\n",
    "Continuos everywhere up to $C^d$ on all points.\n",
    "\n",
    "### Matrices\n",
    "\n",
    "With normalized $t \\in [0,1]$ between points, $j = \\lfloor t \\rfloor$\n",
    "\n",
    "$B^{(2)}(t) = \n",
    "\\begin{bmatrix} 1 & t & t^2 \\end{bmatrix}\n",
    "\\frac{1}{2}\n",
    "\\begin{bmatrix} 1 & 1 & 0 \\\\ -2 & 2 & 0 \\\\ 1 & -2 & 1 \\end{bmatrix}\n",
    "\\begin{bmatrix} P_{j} \\\\ P_{j+1} \\\\ P_{j+2} \\end{bmatrix}\n",
    "$\n",
    "\n",
    "$B^{(3)}(t) =\n",
    "\\begin{bmatrix} 1 & t & t^2 & t^3 \\end{bmatrix}\n",
    "\\frac{1}{6}\n",
    "\\begin{bmatrix} 1 & 4 & 1 & 0 \\\\ -3 & 0 & 3 & 0 \\\\  3 & -6 & 3 & 0 \\\\ -1 & 3 & -3 & 1 \\end{bmatrix}\n",
    "\\begin{bmatrix} P_{j} \\\\ P_{j+1} \\\\ P_{j+2} \\\\ P_{j+3} \\end{bmatrix}\n",
    "$\n",
    "\n"
   ]
  },
  {
   "cell_type": "code",
   "execution_count": 4,
   "metadata": {},
   "outputs": [
    {
     "data": {
      "application/vnd.plotly.v1+json": {
       "config": {
        "plotlyServerURL": "https://plot.ly"
       },
       "data": [
        {
         "line": {
          "dash": "dot"
         },
         "mode": "lines+markers",
         "name": "points",
         "type": "scatter",
         "x": [
          0.27025010337644545,
          1.4015561127058458,
          2.4309346881166665,
          3.2650192301429137,
          4.360734155089812,
          5.377961997616477
         ],
         "y": [
          0.7810093429181514,
          0.07831822622077977,
          0.019935426488461028,
          0.4483912359332253,
          0.02671115403323654,
          0.5844297590710595
         ]
        },
        {
         "mode": "lines",
         "name": "B2",
         "type": "scatter",
         "x": [
          0.8359031080411456,
          0.9765200511298318,
          1.1155443780635401,
          1.2529760888422707,
          1.3888151834660234,
          1.523061661934798,
          1.6557155242485952,
          1.7867767704074147,
          1.9162454004112561,
          2.0433919877017916,
          2.1674871057206935,
          2.288530754467961,
          2.4065229339435947,
          2.5214636441475946,
          2.6333528850799603,
          2.7421906567406924,
          2.84797695912979,
          2.9542815142496384,
          3.064674044102622,
          3.1791545486887407,
          3.2977230280079946,
          3.4203794820603837,
          3.5471239108459085,
          3.677956314364568,
          3.8128766926163626,
          3.9492278779033168,
          4.084352702527455,
          4.218251166488777,
          4.350923269787283,
          4.482369012422972,
          4.6125883943958454,
          4.741581415705903
         ],
         "y": [
          0.4296637845694656,
          0.3468610537085836,
          0.2741256403002805,
          0.2114575443445565,
          0.1588567658414114,
          0.11632330479084521,
          0.08385716119285797,
          0.061458335047449714,
          0.0491268263546204,
          0.045632403022276516,
          0.04974483295832456,
          0.061464116162764516,
          0.0807902526355964,
          0.10772324237682021,
          0.14226308538643592,
          0.18440978166444358,
          0.23416333121084315,
          0.28107862074030776,
          0.3147105369675107,
          0.3350590798924518,
          0.34212424951513115,
          0.3359060458355487,
          0.31640446885370466,
          0.28361951856959855,
          0.2375511949832309,
          0.19249273698743397,
          0.16273738347504035,
          0.14828513444605002,
          0.149135989900463,
          0.1652899498382793,
          0.19674701425949892,
          0.24350718316412184
         ]
        },
        {
         "mode": "lines",
         "name": "B3",
         "type": "scatter",
         "x": [
          1.3845682483160973,
          1.5187843340406615,
          1.6512254471449845,
          1.781709231163803,
          1.9100533296318525,
          2.0360753860838705,
          2.1595930440545934,
          2.280423947078757,
          2.398385754030034,
          2.513475202679508,
          2.6264056127301902,
          2.738069414854925,
          2.8493590397265542,
          2.961166918017922,
          3.0743854804018707,
          3.1899071575512425,
          3.30862439256771,
          3.43117013132794,
          3.557139553068351,
          3.6858683660359883,
          3.816692278477898,
          3.948946998641125,
          4.081968234772717,
          4.215091695119716
         ],
         "y": [
          0.1857029512493343,
          0.14311823052503742,
          0.11029326921093519,
          0.0869205092646433,
          0.07269239264377746,
          0.06730136130595335,
          0.07043985720878673,
          0.0818003223098932,
          0.10107519769691707,
          0.12757297438408494,
          0.1590663260153091,
          0.19294397426625387,
          0.22659464081258368,
          0.25740704732996283,
          0.2827699154940557,
          0.30007196698052674,
          0.3067019298495293,
          0.30107927779595794,
          0.28574656219619077,
          0.2642770928062939,
          0.2402441793823334,
          0.2172211316803752,
          0.19878125945648545,
          0.18849787246672997
         ]
        }
       ],
       "layout": {
        "template": {
         "data": {
          "bar": [
           {
            "error_x": {
             "color": "#2a3f5f"
            },
            "error_y": {
             "color": "#2a3f5f"
            },
            "marker": {
             "line": {
              "color": "#E5ECF6",
              "width": 0.5
             },
             "pattern": {
              "fillmode": "overlay",
              "size": 10,
              "solidity": 0.2
             }
            },
            "type": "bar"
           }
          ],
          "barpolar": [
           {
            "marker": {
             "line": {
              "color": "#E5ECF6",
              "width": 0.5
             },
             "pattern": {
              "fillmode": "overlay",
              "size": 10,
              "solidity": 0.2
             }
            },
            "type": "barpolar"
           }
          ],
          "carpet": [
           {
            "aaxis": {
             "endlinecolor": "#2a3f5f",
             "gridcolor": "white",
             "linecolor": "white",
             "minorgridcolor": "white",
             "startlinecolor": "#2a3f5f"
            },
            "baxis": {
             "endlinecolor": "#2a3f5f",
             "gridcolor": "white",
             "linecolor": "white",
             "minorgridcolor": "white",
             "startlinecolor": "#2a3f5f"
            },
            "type": "carpet"
           }
          ],
          "choropleth": [
           {
            "colorbar": {
             "outlinewidth": 0,
             "ticks": ""
            },
            "type": "choropleth"
           }
          ],
          "contour": [
           {
            "colorbar": {
             "outlinewidth": 0,
             "ticks": ""
            },
            "colorscale": [
             [
              0,
              "#0d0887"
             ],
             [
              0.1111111111111111,
              "#46039f"
             ],
             [
              0.2222222222222222,
              "#7201a8"
             ],
             [
              0.3333333333333333,
              "#9c179e"
             ],
             [
              0.4444444444444444,
              "#bd3786"
             ],
             [
              0.5555555555555556,
              "#d8576b"
             ],
             [
              0.6666666666666666,
              "#ed7953"
             ],
             [
              0.7777777777777778,
              "#fb9f3a"
             ],
             [
              0.8888888888888888,
              "#fdca26"
             ],
             [
              1,
              "#f0f921"
             ]
            ],
            "type": "contour"
           }
          ],
          "contourcarpet": [
           {
            "colorbar": {
             "outlinewidth": 0,
             "ticks": ""
            },
            "type": "contourcarpet"
           }
          ],
          "heatmap": [
           {
            "colorbar": {
             "outlinewidth": 0,
             "ticks": ""
            },
            "colorscale": [
             [
              0,
              "#0d0887"
             ],
             [
              0.1111111111111111,
              "#46039f"
             ],
             [
              0.2222222222222222,
              "#7201a8"
             ],
             [
              0.3333333333333333,
              "#9c179e"
             ],
             [
              0.4444444444444444,
              "#bd3786"
             ],
             [
              0.5555555555555556,
              "#d8576b"
             ],
             [
              0.6666666666666666,
              "#ed7953"
             ],
             [
              0.7777777777777778,
              "#fb9f3a"
             ],
             [
              0.8888888888888888,
              "#fdca26"
             ],
             [
              1,
              "#f0f921"
             ]
            ],
            "type": "heatmap"
           }
          ],
          "heatmapgl": [
           {
            "colorbar": {
             "outlinewidth": 0,
             "ticks": ""
            },
            "colorscale": [
             [
              0,
              "#0d0887"
             ],
             [
              0.1111111111111111,
              "#46039f"
             ],
             [
              0.2222222222222222,
              "#7201a8"
             ],
             [
              0.3333333333333333,
              "#9c179e"
             ],
             [
              0.4444444444444444,
              "#bd3786"
             ],
             [
              0.5555555555555556,
              "#d8576b"
             ],
             [
              0.6666666666666666,
              "#ed7953"
             ],
             [
              0.7777777777777778,
              "#fb9f3a"
             ],
             [
              0.8888888888888888,
              "#fdca26"
             ],
             [
              1,
              "#f0f921"
             ]
            ],
            "type": "heatmapgl"
           }
          ],
          "histogram": [
           {
            "marker": {
             "pattern": {
              "fillmode": "overlay",
              "size": 10,
              "solidity": 0.2
             }
            },
            "type": "histogram"
           }
          ],
          "histogram2d": [
           {
            "colorbar": {
             "outlinewidth": 0,
             "ticks": ""
            },
            "colorscale": [
             [
              0,
              "#0d0887"
             ],
             [
              0.1111111111111111,
              "#46039f"
             ],
             [
              0.2222222222222222,
              "#7201a8"
             ],
             [
              0.3333333333333333,
              "#9c179e"
             ],
             [
              0.4444444444444444,
              "#bd3786"
             ],
             [
              0.5555555555555556,
              "#d8576b"
             ],
             [
              0.6666666666666666,
              "#ed7953"
             ],
             [
              0.7777777777777778,
              "#fb9f3a"
             ],
             [
              0.8888888888888888,
              "#fdca26"
             ],
             [
              1,
              "#f0f921"
             ]
            ],
            "type": "histogram2d"
           }
          ],
          "histogram2dcontour": [
           {
            "colorbar": {
             "outlinewidth": 0,
             "ticks": ""
            },
            "colorscale": [
             [
              0,
              "#0d0887"
             ],
             [
              0.1111111111111111,
              "#46039f"
             ],
             [
              0.2222222222222222,
              "#7201a8"
             ],
             [
              0.3333333333333333,
              "#9c179e"
             ],
             [
              0.4444444444444444,
              "#bd3786"
             ],
             [
              0.5555555555555556,
              "#d8576b"
             ],
             [
              0.6666666666666666,
              "#ed7953"
             ],
             [
              0.7777777777777778,
              "#fb9f3a"
             ],
             [
              0.8888888888888888,
              "#fdca26"
             ],
             [
              1,
              "#f0f921"
             ]
            ],
            "type": "histogram2dcontour"
           }
          ],
          "mesh3d": [
           {
            "colorbar": {
             "outlinewidth": 0,
             "ticks": ""
            },
            "type": "mesh3d"
           }
          ],
          "parcoords": [
           {
            "line": {
             "colorbar": {
              "outlinewidth": 0,
              "ticks": ""
             }
            },
            "type": "parcoords"
           }
          ],
          "pie": [
           {
            "automargin": true,
            "type": "pie"
           }
          ],
          "scatter": [
           {
            "fillpattern": {
             "fillmode": "overlay",
             "size": 10,
             "solidity": 0.2
            },
            "type": "scatter"
           }
          ],
          "scatter3d": [
           {
            "line": {
             "colorbar": {
              "outlinewidth": 0,
              "ticks": ""
             }
            },
            "marker": {
             "colorbar": {
              "outlinewidth": 0,
              "ticks": ""
             }
            },
            "type": "scatter3d"
           }
          ],
          "scattercarpet": [
           {
            "marker": {
             "colorbar": {
              "outlinewidth": 0,
              "ticks": ""
             }
            },
            "type": "scattercarpet"
           }
          ],
          "scattergeo": [
           {
            "marker": {
             "colorbar": {
              "outlinewidth": 0,
              "ticks": ""
             }
            },
            "type": "scattergeo"
           }
          ],
          "scattergl": [
           {
            "marker": {
             "colorbar": {
              "outlinewidth": 0,
              "ticks": ""
             }
            },
            "type": "scattergl"
           }
          ],
          "scattermapbox": [
           {
            "marker": {
             "colorbar": {
              "outlinewidth": 0,
              "ticks": ""
             }
            },
            "type": "scattermapbox"
           }
          ],
          "scatterpolar": [
           {
            "marker": {
             "colorbar": {
              "outlinewidth": 0,
              "ticks": ""
             }
            },
            "type": "scatterpolar"
           }
          ],
          "scatterpolargl": [
           {
            "marker": {
             "colorbar": {
              "outlinewidth": 0,
              "ticks": ""
             }
            },
            "type": "scatterpolargl"
           }
          ],
          "scatterternary": [
           {
            "marker": {
             "colorbar": {
              "outlinewidth": 0,
              "ticks": ""
             }
            },
            "type": "scatterternary"
           }
          ],
          "surface": [
           {
            "colorbar": {
             "outlinewidth": 0,
             "ticks": ""
            },
            "colorscale": [
             [
              0,
              "#0d0887"
             ],
             [
              0.1111111111111111,
              "#46039f"
             ],
             [
              0.2222222222222222,
              "#7201a8"
             ],
             [
              0.3333333333333333,
              "#9c179e"
             ],
             [
              0.4444444444444444,
              "#bd3786"
             ],
             [
              0.5555555555555556,
              "#d8576b"
             ],
             [
              0.6666666666666666,
              "#ed7953"
             ],
             [
              0.7777777777777778,
              "#fb9f3a"
             ],
             [
              0.8888888888888888,
              "#fdca26"
             ],
             [
              1,
              "#f0f921"
             ]
            ],
            "type": "surface"
           }
          ],
          "table": [
           {
            "cells": {
             "fill": {
              "color": "#EBF0F8"
             },
             "line": {
              "color": "white"
             }
            },
            "header": {
             "fill": {
              "color": "#C8D4E3"
             },
             "line": {
              "color": "white"
             }
            },
            "type": "table"
           }
          ]
         },
         "layout": {
          "annotationdefaults": {
           "arrowcolor": "#2a3f5f",
           "arrowhead": 0,
           "arrowwidth": 1
          },
          "autotypenumbers": "strict",
          "coloraxis": {
           "colorbar": {
            "outlinewidth": 0,
            "ticks": ""
           }
          },
          "colorscale": {
           "diverging": [
            [
             0,
             "#8e0152"
            ],
            [
             0.1,
             "#c51b7d"
            ],
            [
             0.2,
             "#de77ae"
            ],
            [
             0.3,
             "#f1b6da"
            ],
            [
             0.4,
             "#fde0ef"
            ],
            [
             0.5,
             "#f7f7f7"
            ],
            [
             0.6,
             "#e6f5d0"
            ],
            [
             0.7,
             "#b8e186"
            ],
            [
             0.8,
             "#7fbc41"
            ],
            [
             0.9,
             "#4d9221"
            ],
            [
             1,
             "#276419"
            ]
           ],
           "sequential": [
            [
             0,
             "#0d0887"
            ],
            [
             0.1111111111111111,
             "#46039f"
            ],
            [
             0.2222222222222222,
             "#7201a8"
            ],
            [
             0.3333333333333333,
             "#9c179e"
            ],
            [
             0.4444444444444444,
             "#bd3786"
            ],
            [
             0.5555555555555556,
             "#d8576b"
            ],
            [
             0.6666666666666666,
             "#ed7953"
            ],
            [
             0.7777777777777778,
             "#fb9f3a"
            ],
            [
             0.8888888888888888,
             "#fdca26"
            ],
            [
             1,
             "#f0f921"
            ]
           ],
           "sequentialminus": [
            [
             0,
             "#0d0887"
            ],
            [
             0.1111111111111111,
             "#46039f"
            ],
            [
             0.2222222222222222,
             "#7201a8"
            ],
            [
             0.3333333333333333,
             "#9c179e"
            ],
            [
             0.4444444444444444,
             "#bd3786"
            ],
            [
             0.5555555555555556,
             "#d8576b"
            ],
            [
             0.6666666666666666,
             "#ed7953"
            ],
            [
             0.7777777777777778,
             "#fb9f3a"
            ],
            [
             0.8888888888888888,
             "#fdca26"
            ],
            [
             1,
             "#f0f921"
            ]
           ]
          },
          "colorway": [
           "#636efa",
           "#EF553B",
           "#00cc96",
           "#ab63fa",
           "#FFA15A",
           "#19d3f3",
           "#FF6692",
           "#B6E880",
           "#FF97FF",
           "#FECB52"
          ],
          "font": {
           "color": "#2a3f5f"
          },
          "geo": {
           "bgcolor": "white",
           "lakecolor": "white",
           "landcolor": "#E5ECF6",
           "showlakes": true,
           "showland": true,
           "subunitcolor": "white"
          },
          "hoverlabel": {
           "align": "left"
          },
          "hovermode": "closest",
          "mapbox": {
           "style": "light"
          },
          "paper_bgcolor": "white",
          "plot_bgcolor": "#E5ECF6",
          "polar": {
           "angularaxis": {
            "gridcolor": "white",
            "linecolor": "white",
            "ticks": ""
           },
           "bgcolor": "#E5ECF6",
           "radialaxis": {
            "gridcolor": "white",
            "linecolor": "white",
            "ticks": ""
           }
          },
          "scene": {
           "xaxis": {
            "backgroundcolor": "#E5ECF6",
            "gridcolor": "white",
            "gridwidth": 2,
            "linecolor": "white",
            "showbackground": true,
            "ticks": "",
            "zerolinecolor": "white"
           },
           "yaxis": {
            "backgroundcolor": "#E5ECF6",
            "gridcolor": "white",
            "gridwidth": 2,
            "linecolor": "white",
            "showbackground": true,
            "ticks": "",
            "zerolinecolor": "white"
           },
           "zaxis": {
            "backgroundcolor": "#E5ECF6",
            "gridcolor": "white",
            "gridwidth": 2,
            "linecolor": "white",
            "showbackground": true,
            "ticks": "",
            "zerolinecolor": "white"
           }
          },
          "shapedefaults": {
           "line": {
            "color": "#2a3f5f"
           }
          },
          "ternary": {
           "aaxis": {
            "gridcolor": "white",
            "linecolor": "white",
            "ticks": ""
           },
           "baxis": {
            "gridcolor": "white",
            "linecolor": "white",
            "ticks": ""
           },
           "bgcolor": "#E5ECF6",
           "caxis": {
            "gridcolor": "white",
            "linecolor": "white",
            "ticks": ""
           }
          },
          "title": {
           "x": 0.05
          },
          "xaxis": {
           "automargin": true,
           "gridcolor": "white",
           "linecolor": "white",
           "ticks": "",
           "title": {
            "standoff": 15
           },
           "zerolinecolor": "white",
           "zerolinewidth": 2
          },
          "yaxis": {
           "automargin": true,
           "gridcolor": "white",
           "linecolor": "white",
           "ticks": "",
           "title": {
            "standoff": 15
           },
           "zerolinecolor": "white",
           "zerolinewidth": 2
          }
         }
        },
        "xaxis": {
         "range": [
          0,
          6
         ]
        },
        "yaxis": {
         "range": [
          0,
          1
         ]
        }
       }
      }
     },
     "metadata": {},
     "output_type": "display_data"
    }
   ],
   "source": [
    "npoints = 6\n",
    "points = genpoints2dx(npoints)\n",
    "\n",
    "curve2, _ = spl.build_curve(spl.B2, points)\n",
    "curve3, _ = spl.build_curve(spl.B3, points)\n",
    "\n",
    "pxx, pyy = points.T\n",
    "c2xx, c2yy = curve2(np.arange(0, npoints-2, .125)).T\n",
    "c3xx, c3yy = curve3(np.arange(0, npoints-3, .125)).T\n",
    "\n",
    "go.Figure(\n",
    "    [\n",
    "        go.Scatter(x=pxx, y=pyy, mode=\"lines+markers\", line=dict(dash=\"dot\"), name=\"points\"),\n",
    "        go.Scatter(x=c2xx, y=c2yy, mode=\"lines\", name=\"B2\"),\n",
    "        go.Scatter(x=c3xx, y=c3yy, mode=\"lines\", name=\"B3\"),\n",
    "    ],\n",
    "    layout=dict(yaxis=dict(range=(0, 1)), xaxis=dict(range=(0, npoints))),\n",
    ")\n"
   ]
  },
  {
   "cell_type": "markdown",
   "metadata": {},
   "source": [
    "# Tangents\n",
    "\n",
    "$\\frac{d}{dt} Q(t)$ — curve velocity\n",
    "\n",
    "normalized $\\frac{d}{dt} Q(t)$ — curve tangent"
   ]
  },
  {
   "cell_type": "code",
   "execution_count": 5,
   "metadata": {},
   "outputs": [
    {
     "data": {
      "application/vnd.jupyter.widget-view+json": {
       "model_id": "4d70baeaf07f472dbf0715656c0a9225",
       "version_major": 2,
       "version_minor": 0
      },
      "text/plain": [
       "FigureWidget({\n",
       "    'data': [{'hoverinfo': 'skip',\n",
       "              'line': {'dash': 'dot'},\n",
       "              'mode': 'lines+markers',\n",
       "              'name': 'points',\n",
       "              'type': 'scatter',\n",
       "              'uid': 'c90e4528-cf16-43d8-b6ee-485a87d06d98',\n",
       "              'x': array([0.07285704, 1.44445695, 2.38565707, 3.24162678, 4.05987696, 5.07060702]),\n",
       "              'y': array([0.38614553, 0.71318799, 0.32734232, 0.84736244, 0.45062323, 0.28447209])},\n",
       "             {'hoverinfo': 'none',\n",
       "              'line': {'width': 4},\n",
       "              'mode': 'lines',\n",
       "              'name': 'curve',\n",
       "              'type': 'scatter',\n",
       "              'uid': '50d7216e-4941-4a40-9706-78848c9874bf',\n",
       "              'x': array([0.758657  , 0.92674449, 1.08810698, 1.24274448, 1.39065698, 1.53184448,\n",
       "                          1.66630699, 1.7940445 , 1.91505701, 2.03204116, 2.14769359, 2.26201429,\n",
       "                          2.37500327, 2.48666052, 2.59698605, 2.70597985, 2.81364192, 2.92034345,\n",
       "                          3.02645561, 3.13197841, 3.23691184, 3.3412559 , 3.44501059, 3.54817591,\n",
       "                          3.65075187, 3.75453689, 3.86132941, 3.97112943, 4.08393695, 4.19975196,\n",
       "                          4.31857447, 4.44040448, 4.56524199, 4.693087  , 4.8239395 , 4.9577995 ,\n",
       "                          5.094667  , 5.234542  , 5.3774245 , 5.52331449, 5.67221198, 5.82411697,\n",
       "                          5.97902946, 6.13694944, 6.29787693, 6.46181191, 6.62875439, 6.79870436]),\n",
       "              'y': array([0.54966676, 0.58497763, 0.60914962, 0.62218273, 0.62407697, 0.61483233,\n",
       "                          0.59444882, 0.56292642, 0.52026515, 0.47911152, 0.45211204, 0.43926672,\n",
       "                          0.44057554, 0.45603852, 0.48565566, 0.52942694, 0.58735238, 0.64519271,\n",
       "                          0.68870868, 0.71790029, 0.73276753, 0.7333104 , 0.71952891, 0.69142306,\n",
       "                          0.64899284, 0.60120191, 0.55701391, 0.51642886, 0.47944674, 0.44606757,\n",
       "                          0.41629133, 0.39011803, 0.36754766, 0.34858024, 0.33321576, 0.32145421,\n",
       "                          0.3132956 , 0.30873994, 0.3077872 , 0.31043741, 0.31669056, 0.32654665,\n",
       "                          0.34000567, 0.35706763, 0.37773253, 0.40200037, 0.42987115, 0.46134487])},\n",
       "             {'hoverinfo': 'skip',\n",
       "              'marker': {'angleref': 'previous', 'size': 10, 'symbol': 'arrow'},\n",
       "              'mode': 'lines+markers',\n",
       "              'name': 'curve/dt',\n",
       "              'type': 'scatter',\n",
       "              'uid': '2adbb5e5-3fe0-4b23-b550-5cc92f85261a',\n",
       "              'x': [0, 0],\n",
       "              'y': [0, 0]}],\n",
       "    'layout': {'template': '...', 'xaxis': {'range': [0, 6]}, 'yaxis': {'range': [0, 1]}}\n",
       "})"
      ]
     },
     "metadata": {},
     "output_type": "display_data"
    }
   ],
   "source": [
    "npoints = 6\n",
    "points = genpoints2dx(npoints)\n",
    "\n",
    "M = spl.B2\n",
    "d = M.shape[0]\n",
    "\n",
    "tt = np.arange(0, npoints, .125)\n",
    "\n",
    "curve, curve_dt = spl.build_curve(M, points)\n",
    "\n",
    "pxx, pyy = points.T\n",
    "cxx, cyy = curve(tt).T\n",
    "txx = [0, 0]\n",
    "tyy = [0, 0]\n",
    "\n",
    "fig = go.FigureWidget(\n",
    "    [\n",
    "        go.Scatter(x=pxx, y=pyy, mode=\"lines+markers\", line=dict(dash=\"dot\"), name=\"points\", hoverinfo=\"skip\"),\n",
    "        go.Scatter(x=cxx, y=cyy, mode=\"lines\", name=\"curve\", line=dict(width=4), hoverinfo=\"none\"),\n",
    "        go.Scatter(x=txx, y=tyy, mode=\"lines+markers\", name=\"curve/dt\", marker=dict(size=10, symbol=\"arrow\", angleref=\"previous\"), hoverinfo=\"skip\")\n",
    "    ],\n",
    "    layout=dict(yaxis=dict(range=(0, 1)), xaxis=dict(range=(0, npoints))),\n",
    ")\n",
    "\n",
    "poins_plt, curve_plt, tang_plt = fig.data\n",
    "\n",
    "def show_tang(inds):\n",
    "    if len(inds) == 0:\n",
    "        tang_plt.visible = False\n",
    "        return\n",
    "\n",
    "    i = inds[0]\n",
    "    tx, ty = curve_dt(tt[i]).T\n",
    "    with fig.batch_update():\n",
    "        tang_plt.visible = True\n",
    "        tang_plt.x = [cxx[i], cxx[i]+tx]\n",
    "        tang_plt.y = [cyy[i], cyy[i]+ty]\n",
    "\n",
    "\n",
    "fig.data[1].on_hover(lambda _t, pnts, _d: show_tang(pnts.point_inds))\n",
    "display(fig)"
   ]
  },
  {
   "cell_type": "markdown",
   "metadata": {},
   "source": [
    "# Projection\n",
    "\n",
    "Finding closest point $p^* = q(t^*)$ on curve.\n",
    "\n",
    "Distance to curve squared:\n",
    "\n",
    "$\\|(p - p^*)\\|^2 = (p - p^*) \\cdot (p - p^*)$\n",
    "\n",
    "Signed distance:\n",
    "\n",
    "$d^* = \n",
    "\\begin{cases} + \\|p - p^*\\| & \\text{ if (rightward of tangent) } & [(p - p^*) × T(t^*)]_z > 0 \\\\ - \\|p - p^*\\| & \\text{ if (leftward of tangent) }  & [(p - p^*) × T(t^*)]_z < 0 \\end{cases}\n",
    "$\n",
    "\n",
    "General equation of closest point:\n",
    "\n",
    "$(p - q(t^*)) \\cdot q'(t^*) = 0$\n",
    "\n",
    "The equation is of degree $2d-1$.\n",
    "\n",
    "#### Problems\n",
    "\n",
    "- generally solvable only for degrees below 3 (for linear and quadratic curves)\n",
    "- multiple legit solutions possible for points inside a lobe, including points with exactly the same distance  \n"
   ]
  },
  {
   "cell_type": "markdown",
   "metadata": {},
   "source": [
    "\n",
    "## Linear case\n",
    "\n",
    "$q(t) = p_0 + (p1 - p0) t$\n",
    "\n",
    "$q'(t) = p1 - p0$\n",
    "\n",
    "Equation:\n",
    "\n",
    "$(p - q(t^*))·q'(t^*) = 0$\n",
    "\n",
    "$t^* = \\frac{(p - p_0)·(p_1 - p_0)}{(p_1 - p_0)·(p_1 - p_0)}$\n"
   ]
  },
  {
   "cell_type": "code",
   "execution_count": 6,
   "metadata": {},
   "outputs": [],
   "source": [
    "def project_1(p0, p1):\n",
    "    q1 = p1 - p0\n",
    "\n",
    "    def proj(p):\n",
    "        return ((p - p0) @ q1)/(q1 @ q1)\n",
    "\n",
    "    return proj"
   ]
  },
  {
   "cell_type": "markdown",
   "metadata": {},
   "source": [
    "## Quadratic\n",
    "\n",
    "$\n",
    "q(t) = \n",
    "\\begin{bmatrix} 1 & t & t^2 \\end{bmatrix}\n",
    "\\begin{bmatrix} q_0 \\\\ q_1 \\\\ q_2 \\end{bmatrix} = \n",
    "q_0 + q_1 t + q_2 t^2 \n",
    "$\n",
    "\n",
    "$\n",
    "q'(t) =\n",
    "\\begin{bmatrix} 0 & 1 & 2t \\end{bmatrix}\n",
    "\\begin{bmatrix} q_0 \\\\ q_1 \\\\ q_2 \\end{bmatrix} = \n",
    "q_1 + 2 q_2 t\n",
    "$\n",
    "\n",
    "\n",
    "$q_p = p - q_0$\n",
    "\n",
    "Equation:\n",
    "\n",
    "$(p - q_0 - q_1 t - q_2 t^2) \\cdot (q_1 + 2 q_2 t) = 0$\n",
    "\n",
    "$\n",
    "\\begin{bmatrix} 1 & t & t^2 & t^3 \\end{bmatrix}\n",
    "\\begin{bmatrix}\n",
    "(q_p \\cdot q_1) \\\\\n",
    "2 (q_p \\cdot q_2) - (q_1 \\cdot q_1) \\\\\n",
    "-3 (q_1 \\cdot q_2) \\\\\n",
    "-2 (q_2 \\cdot q_2) \\\\\n",
    "\\end{bmatrix}\n",
    "=0\n",
    "$"
   ]
  },
  {
   "cell_type": "code",
   "execution_count": 7,
   "metadata": {},
   "outputs": [],
   "source": [
    "### solving by numpy for general curves\n",
    "\n",
    "def project_2np(M, cpoints):\n",
    "    \"\"\"returns all possible solutions \"\"\"\n",
    "    Q = M @ cpoints\n",
    "\n",
    "    def proj(p):\n",
    "        qp = p - Q[0]\n",
    "        poly = np.polynomial.Polynomial([\n",
    "            np.dot(qp,Q[1]),\n",
    "            2*np.dot(qp, Q[2]) - np.dot(Q[1], Q[1]),\n",
    "            -3*np.dot(Q[1], Q[2]),\n",
    "            -2*np.dot(Q[2], Q[2])\n",
    "        ])\n",
    "        roots = poly.roots()\n",
    "        return roots[np.isreal(roots)].real\n",
    "\n",
    "    return proj"
   ]
  },
  {
   "cell_type": "code",
   "execution_count": 8,
   "metadata": {},
   "outputs": [],
   "source": [
    "def project_B2_lin(curve):\n",
    "    \"\"\"projecting via linear approximation between midpoints\"\"\"\n",
    "    pm0 = curve(0)\n",
    "    pm = curve(0.5)\n",
    "    pm1 = curve(1)\n",
    "\n",
    "    proj0 = project_1(pm0, pm)\n",
    "    proj1 = project_1(pm, pm1)\n",
    "\n",
    "    def proj(p):\n",
    "        t = proj1(p)\n",
    "        if t > 0:\n",
    "            return np.array([t * 0.5 + 0.5])\n",
    "\n",
    "        t = proj0(p)\n",
    "        if t < 1:\n",
    "            return np.array([t * 0.5])\n",
    "\n",
    "        return np.array([0.5])\n",
    "\n",
    "    return proj"
   ]
  },
  {
   "cell_type": "code",
   "execution_count": 9,
   "metadata": {},
   "outputs": [],
   "source": [
    "def distmap(curve, tang, proj):\n",
    "\n",
    "    @np.vectorize(signature=\"(),()->(),()\")\n",
    "    def dist(x, y):\n",
    "        \"plane (x,y) -> (t*, dist)\"\n",
    "        p = vec(x, y)\n",
    "        tt = proj(p)\n",
    "        jj = p - curve(tt)\n",
    "        ll = (jj * jj).sum(1)\n",
    "\n",
    "        lmin = np.min(ll)\n",
    "        ismin = np.isclose(ll, lmin)\n",
    "\n",
    "        t_best = tt[ismin][0]\n",
    "        j_best = jj[ismin][0]\n",
    "        g_best = tang(t_best)\n",
    "\n",
    "        dist = math.sqrt(lmin)\n",
    "        z_cross = j_best[0] * g_best[1] - j_best[1] * g_best[0]\n",
    "        sdist = dist if z_cross > 0 else -dist\n",
    "\n",
    "        return t_best, sdist\n",
    "\n",
    "    return dist"
   ]
  },
  {
   "cell_type": "code",
   "execution_count": 10,
   "metadata": {},
   "outputs": [
    {
     "data": {
      "application/vnd.jupyter.widget-view+json": {
       "model_id": "ce223de347354c59bef04f58170b8887",
       "version_major": 2,
       "version_minor": 0
      },
      "text/plain": [
       "FigureWidget({\n",
       "    'data': [{'hoverinfo': 'none',\n",
       "              'line': {'width': 4},\n",
       "              'mode': 'lines',\n",
       "              'name': 'curve',\n",
       "              'type': 'scatter',\n",
       "              'uid': 'f1502078-6bbc-46b2-9247-584aa7f7a430',\n",
       "              'x': array([0.83954691, 0.9116883 , 0.98335739, 1.05455418, 1.12527866, 1.19553084,\n",
       "                          1.26531071, 1.33461828, 1.40345355, 1.47181651, 1.53970716, 1.60712552,\n",
       "                          1.67407157, 1.74054531, 1.80654675, 1.87207589]),\n",
       "              'y': array([0.51474729, 0.56923821, 0.62013062, 0.66742453, 0.71111993, 0.75121682,\n",
       "                          0.7877152 , 0.82061508, 0.84991645, 0.87561932, 0.89772368, 0.91622953,\n",
       "                          0.93113687, 0.94244571, 0.95015604, 0.95426787])},\n",
       "             {'colorscale': [[0.0, 'rgb(5,48,97)'], [0.1, 'rgb(33,102,172)'],\n",
       "                             [0.2, 'rgb(67,147,195)'], [0.3, 'rgb(146,197,222)'],\n",
       "                             [0.4, 'rgb(209,229,240)'], [0.5, 'rgb(247,247,247)'],\n",
       "                             [0.6, 'rgb(253,219,199)'], [0.7, 'rgb(244,165,130)'],\n",
       "                             [0.8, 'rgb(214,96,77)'], [0.9, 'rgb(178,24,43)'],\n",
       "                             [1.0, 'rgb(103,0,31)']],\n",
       "              'hovertemplate': 'x: %{x:.2f}<br>y: %{y:.2f}<br>dist: %{z:.3f}',\n",
       "              'name': 'distmap',\n",
       "              'type': 'heatmap',\n",
       "              'uid': 'aa2e57fc-a8cf-4207-8ae3-c4936c1d96b7',\n",
       "              'x': array([0.83954691, 0.85517191, 0.87079691, 0.88642191, 0.90204691, 0.91767191,\n",
       "                          0.93329691, 0.94892191, 0.96454691, 0.98017191, 0.99579691, 1.01142191,\n",
       "                          1.02704691, 1.04267191, 1.05829691, 1.07392191, 1.08954691, 1.10517191,\n",
       "                          1.12079691, 1.13642191, 1.15204691, 1.16767191, 1.18329691, 1.19892191,\n",
       "                          1.21454691, 1.23017191, 1.24579691, 1.26142191, 1.27704691, 1.29267191,\n",
       "                          1.30829691, 1.32392191, 1.33954691, 1.35517191, 1.37079691, 1.38642191,\n",
       "                          1.40204691, 1.41767191, 1.43329691, 1.44892191, 1.46454691, 1.48017191,\n",
       "                          1.49579691, 1.51142191, 1.52704691, 1.54267191, 1.55829691, 1.57392191,\n",
       "                          1.58954691, 1.60517191, 1.62079691, 1.63642191, 1.65204691, 1.66767191,\n",
       "                          1.68329691, 1.69892191, 1.71454691, 1.73017191, 1.74579691, 1.76142191,\n",
       "                          1.77704691, 1.79267191, 1.80829691, 1.82392191, 1.83954691, 1.85517191,\n",
       "                          1.87079691]),\n",
       "              'y': array([0.51474729, 0.53037229, 0.54599729, 0.56162229, 0.57724729, 0.59287229,\n",
       "                          0.60849729, 0.62412229, 0.63974729, 0.65537229, 0.67099729, 0.68662229,\n",
       "                          0.70224729, 0.71787229, 0.73349729, 0.74912229, 0.76474729, 0.78037229,\n",
       "                          0.79599729, 0.81162229, 0.82724729, 0.84287229, 0.85849729, 0.87412229,\n",
       "                          0.88974729, 0.90537229, 0.92099729, 0.93662229, 0.95224729]),\n",
       "              'z': array([[ 2.60158430e-08,  9.87340142e-03,  1.96652297e-02, ...,\n",
       "                            4.38589907e-01,  4.40714492e-01,  4.42673680e-01],\n",
       "                          [-1.23612499e-02, -3.36263566e-03,  7.83418910e-03, ...,\n",
       "                            4.23054409e-01,  4.25139656e-01,  4.27059568e-01],\n",
       "                          [-2.47482775e-02, -1.52816657e-02, -6.78003727e-03, ...,\n",
       "                            4.07509705e-01,  4.09555602e-01,  4.11436230e-01],\n",
       "                          ...,\n",
       "                          [-3.29847997e-01, -3.21263093e-01, -3.12751441e-01, ...,\n",
       "                            3.17292995e-02,  3.27866076e-02,  3.37071381e-02],\n",
       "                          [-3.42889412e-01, -3.34347056e-01, -3.25877736e-01, ...,\n",
       "                            1.60227882e-02,  1.69898336e-02,  1.78530872e-02],\n",
       "                          [-3.55957410e-01, -3.47457696e-01, -3.39030837e-01, ...,\n",
       "                            2.10860153e-03,  1.59541685e-03,  1.99141831e-03]])},\n",
       "             {'hoverinfo': 'skip',\n",
       "              'marker': {'color': 'black', 'size': 10},\n",
       "              'mode': 'markers',\n",
       "              'name': 'proj',\n",
       "              'type': 'scatter',\n",
       "              'uid': 'f3c48f47-17db-44c7-a260-79c596f9556d',\n",
       "              'visible': False,\n",
       "              'x': [0, 0],\n",
       "              'y': [0, 0]}],\n",
       "    'layout': {'showlegend': False, 'template': '...', 'xaxis': {'scaleanchor': 'y'}}\n",
       "})"
      ]
     },
     "metadata": {},
     "output_type": "display_data"
    }
   ],
   "source": [
    "npoints = 3\n",
    "points = genpoints2dx(npoints)\n",
    "# points = np.array([vec(0, 0), vec(1.0, 1.0), vec(2, 0)])\n",
    "\n",
    "curve, curve_dt = spl.build_curve(spl.B2, points)\n",
    "# proj = project_2np(spl.B2, points)\n",
    "proj = project_B2_lin(curve)\n",
    "\n",
    "pxx, pyy = points.T\n",
    "\n",
    "tt = np.linspace(0, 1, 16)\n",
    "cxx, cyy = curve(tt).T\n",
    "\n",
    "range_x = np.min(cxx), np.max(cxx)\n",
    "range_y = np.min(cyy), np.max(cyy)\n",
    "\n",
    "uu = np.arange(*range_x, 1 / 64)\n",
    "vv = np.arange(*range_y, 1 / 64)\n",
    "\n",
    "uuu, vvv = np.meshgrid(uu, vv)\n",
    "\n",
    "tproj, dist = distmap(curve, curve_dt, proj)(uuu, vvv)\n",
    "\n",
    "txx = [0, 0]\n",
    "tyy = [0, 0]\n",
    "\n",
    "fig = go.FigureWidget(\n",
    "    [\n",
    "        go.Scatter(x=cxx, y=cyy, mode=\"lines\", name=\"curve\", line=dict(width=4), hoverinfo=\"none\"),\n",
    "        go.Heatmap(\n",
    "            x=uu,\n",
    "            y=vv,\n",
    "            z=dist,\n",
    "            name=\"distmap\",\n",
    "            hovertemplate=\"x: %{x:.2f}<br>y: %{y:.2f}<br>dist: %{z:.3f}\",\n",
    "            colorscale=\"RdBu_r\",\n",
    "        ),\n",
    "        go.Scatter(x=txx, y=tyy, mode=\"markers\", name=\"proj\", marker=dict(size=10, color=\"black\"), hoverinfo=\"skip\", visible=False),\n",
    "    ],\n",
    "    layout=go.Layout(xaxis=dict(scaleanchor=\"y\"), showlegend=False),\n",
    ")\n",
    "\n",
    "curve_plt, dist_plt, proj_plt = fig.data\n",
    "\n",
    "\n",
    "def show_proj(inds):\n",
    "    if len(inds) == 0:\n",
    "        proj_plt.visible = False\n",
    "        return\n",
    "\n",
    "    i, j = inds[0]\n",
    "    px = uuu[i][j]\n",
    "    py = vvv[i][j]\n",
    "    tt = proj(vec(px, py))\n",
    "    cx, cy = curve(tt).T\n",
    "    with fig.batch_update():\n",
    "        proj_plt.visible = True\n",
    "        proj_plt.x = cx\n",
    "        proj_plt.y = cy\n",
    "\n",
    "\n",
    "dist_plt.on_hover(lambda _t, pnts, _d: show_proj(pnts.point_inds))\n",
    "\n",
    "display(fig)"
   ]
  },
  {
   "cell_type": "markdown",
   "metadata": {},
   "source": [
    "# Pipe surface\n",
    "\n",
    "Directrix (spine): \n",
    "- point: $A(u) \\in R^3$ \n",
    "- tangent: $\\frac{d}{du}A(u) \\in R^3$\n",
    "\n",
    "Generatrix (profile): $C(v) \\in R^2$\n",
    "\n",
    "Circle (measuring $\\phi$ from top): \n",
    "\n",
    "$C(\\phi) = r \\begin{bmatrix} sin(\\phi) \\\\ cos(\\phi) \\end{bmatrix}$\n",
    "\n",
    "$C_{norm}(\\phi) = \\begin{bmatrix} sin(\\phi) \\\\ cos(\\phi) \\end{bmatrix}$\n",
    "\n",
    "Generatrix frame aligned to horizon:\n",
    "\n",
    "- $z$-axis: $T(u) \\simeq A'(u)$ — spine tangent\n",
    "- $x$-axis: $X(u) \\simeq  T(u) × e_z$ — horizontal and perpendicular to tangent\n",
    "- $y$-axis: $Y(u) \\simeq  X(u) × T(u)$ — mutually perpendicular and approximately up\n",
    "\n",
    "(everything should be normalized)\n",
    "\n",
    "Pipe surface, with $v = \\phi$:\n",
    "\n",
    "$S(u, v) = A(u) + C(v)_x X(u) + C(v)_y Y(u)$\n",
    "\n",
    "Normal to the surface:\n",
    "\n",
    "$N(u, v) = \\begin{bmatrix} X(u) \\\\ Y(u) \\\\ T(u) \\end{bmatrix}^T C_{norm}(v)$ — translated into uv fabric frame"
   ]
  },
  {
   "cell_type": "code",
   "execution_count": 17,
   "metadata": {},
   "outputs": [],
   "source": [
    "import pipes"
   ]
  },
  {
   "cell_type": "code",
   "execution_count": 18,
   "metadata": {},
   "outputs": [],
   "source": [
    "# test texture\n",
    "def checker(u, v):\n",
    "    \"(u, v) -> rgb\"\n",
    "    val = np.mod(np.floor(u) + np.floor(v), 2)\n",
    "    return val"
   ]
  },
  {
   "cell_type": "code",
   "execution_count": 19,
   "metadata": {},
   "outputs": [
    {
     "data": {
      "application/vnd.plotly.v1+json": {
       "config": {
        "plotlyServerURL": "https://plot.ly"
       },
       "data": [
        {
         "hoverinfo": "skip",
         "line": {
          "dash": "dot"
         },
         "mode": "lines+markers",
         "name": "points",
         "type": "scatter3d",
         "x": [
          0.13959102006075613,
          1.2282366185190825,
          2.192642851663868,
          3.154233191482754,
          4.057021856376672,
          5.325584000436377
         ],
         "y": [
          0.7671069140373906,
          0.48281166406753784,
          0.25849146605514184,
          0.3463582981083533,
          0.26887394140303755,
          0.5581248936756399
         ],
         "z": [
          0.2556341282203869,
          0.33837867220321016,
          0.33202278021067133,
          0.25240206103485807,
          0.4969426727741305,
          0.12671666326582698
         ]
        },
        {
         "hoverinfo": "skip",
         "line": {
          "width": 4
         },
         "mode": "lines",
         "name": "curve",
         "type": "scatter3d",
         "x": [
          0.6839138192899193,
          0.8190238990556981,
          0.9521927387384528,
          1.0834203383381833,
          1.21270669785489,
          1.3400518172885723,
          1.4654556966392307,
          1.588918335906865,
          1.7104397350914753,
          1.8309685150679649,
          1.9514532967112372,
          2.0718940800212926,
          2.1922908649981308,
          2.3126436516417517,
          2.4329524399521554,
          2.553217229929342,
          2.673438021573311,
          2.793177425965321,
          2.9119980541866277,
          3.0298999062372314,
          3.146882982117133,
          3.262947281826332,
          3.3780928053648283,
          3.492319552732622,
          3.605627523929713,
          3.7213337123474357,
          3.842755111377123,
          3.9698917210187767,
          4.102743541272395,
          4.241310572137979,
          4.3855928136155296,
          4.535590265705045
         ],
         "y": [
          0.6249592890524642,
          0.5898909378996502,
          0.5557596969336716,
          0.5225655661545281,
          0.4903085455622199,
          0.458988635156747,
          0.4286058349381094,
          0.399160144906307,
          0.37065156506133984,
          0.3450505014821779,
          0.324327360247791,
          0.30848214135817936,
          0.2975148448133428,
          0.2914254706132813,
          0.2902140187579949,
          0.29388048924748367,
          0.30242488208174756,
          0.31211642992622296,
          0.31922436544634647,
          0.3237486886421179,
          0.32568939951353737,
          0.3250464980606048,
          0.32181998428332037,
          0.3160098581816839,
          0.3076161197556954,
          0.30079569476892093,
          0.29970550898492637,
          0.30434556240371186,
          0.3147158550252773,
          0.3308163868496227,
          0.35264715787674805,
          0.38020816810665337
         ],
         "z": [
          0.2970064002117985,
          0.3066533710535939,
          0.3149081475832743,
          0.3217707298008396,
          0.3272411177062899,
          0.33131931129962516,
          0.33400531058084537,
          0.3352991155499506,
          0.33520072620694075,
          0.3338338582455041,
          0.3313222273593287,
          0.32766583354841466,
          0.32286467681276204,
          0.3169187571523707,
          0.3098280745672407,
          0.301592629057372,
          0.2922124206227647,
          0.2847923411235621,
          0.28243728241990784,
          0.28514724451180173,
          0.2929222273992438,
          0.3057622310822341,
          0.3236672555607726,
          0.34663730083485933,
          0.3746723669044943,
          0.40043707914340665,
          0.4165960629253257,
          0.42314931825025126,
          0.4200968451181835,
          0.4074386435291224,
          0.38517471348306787,
          0.35330505498001996
         ]
        },
        {
         "colorscale": [
          [
           0,
           "black"
          ],
          [
           1,
           "white"
          ]
         ],
         "hoverinfo": "skip",
         "showscale": false,
         "surfacecolor": [
          [
           1,
           1,
           1,
           1,
           1,
           1,
           0,
           0,
           0,
           0,
           0,
           0,
           0
          ],
          [
           1,
           1,
           1,
           1,
           1,
           1,
           0,
           0,
           0,
           0,
           0,
           0,
           0
          ],
          [
           1,
           1,
           1,
           1,
           1,
           1,
           0,
           0,
           0,
           0,
           0,
           0,
           0
          ],
          [
           1,
           1,
           1,
           1,
           1,
           1,
           0,
           0,
           0,
           0,
           0,
           0,
           0
          ],
          [
           1,
           1,
           1,
           1,
           1,
           1,
           0,
           0,
           0,
           0,
           0,
           0,
           0
          ],
          [
           1,
           1,
           1,
           1,
           1,
           1,
           0,
           0,
           0,
           0,
           0,
           0,
           0
          ],
          [
           1,
           1,
           1,
           1,
           1,
           1,
           0,
           0,
           0,
           0,
           0,
           0,
           0
          ],
          [
           1,
           1,
           1,
           1,
           1,
           1,
           0,
           0,
           0,
           0,
           0,
           0,
           0
          ],
          [
           0,
           0,
           0,
           0,
           0,
           0,
           1,
           1,
           1,
           1,
           1,
           1,
           1
          ],
          [
           0,
           0,
           0,
           0,
           0,
           0,
           1,
           1,
           1,
           1,
           1,
           1,
           1
          ],
          [
           0,
           0,
           0,
           0,
           0,
           0,
           1,
           1,
           1,
           1,
           1,
           1,
           1
          ],
          [
           0,
           0,
           0,
           0,
           0,
           0,
           1,
           1,
           1,
           1,
           1,
           1,
           1
          ],
          [
           0,
           0,
           0,
           0,
           0,
           0,
           1,
           1,
           1,
           1,
           1,
           1,
           1
          ],
          [
           0,
           0,
           0,
           0,
           0,
           0,
           1,
           1,
           1,
           1,
           1,
           1,
           1
          ],
          [
           0,
           0,
           0,
           0,
           0,
           0,
           1,
           1,
           1,
           1,
           1,
           1,
           1
          ],
          [
           0,
           0,
           0,
           0,
           0,
           0,
           1,
           1,
           1,
           1,
           1,
           1,
           1
          ],
          [
           1,
           1,
           1,
           1,
           1,
           1,
           0,
           0,
           0,
           0,
           0,
           0,
           0
          ],
          [
           1,
           1,
           1,
           1,
           1,
           1,
           0,
           0,
           0,
           0,
           0,
           0,
           0
          ],
          [
           1,
           1,
           1,
           1,
           1,
           1,
           0,
           0,
           0,
           0,
           0,
           0,
           0
          ],
          [
           1,
           1,
           1,
           1,
           1,
           1,
           0,
           0,
           0,
           0,
           0,
           0,
           0
          ],
          [
           1,
           1,
           1,
           1,
           1,
           1,
           0,
           0,
           0,
           0,
           0,
           0,
           0
          ],
          [
           1,
           1,
           1,
           1,
           1,
           1,
           0,
           0,
           0,
           0,
           0,
           0,
           0
          ],
          [
           1,
           1,
           1,
           1,
           1,
           1,
           0,
           0,
           0,
           0,
           0,
           0,
           0
          ],
          [
           1,
           1,
           1,
           1,
           1,
           1,
           0,
           0,
           0,
           0,
           0,
           0,
           0
          ],
          [
           0,
           0,
           0,
           0,
           0,
           0,
           1,
           1,
           1,
           1,
           1,
           1,
           1
          ],
          [
           0,
           0,
           0,
           0,
           0,
           0,
           1,
           1,
           1,
           1,
           1,
           1,
           1
          ],
          [
           0,
           0,
           0,
           0,
           0,
           0,
           1,
           1,
           1,
           1,
           1,
           1,
           1
          ],
          [
           0,
           0,
           0,
           0,
           0,
           0,
           1,
           1,
           1,
           1,
           1,
           1,
           1
          ],
          [
           0,
           0,
           0,
           0,
           0,
           0,
           1,
           1,
           1,
           1,
           1,
           1,
           1
          ],
          [
           0,
           0,
           0,
           0,
           0,
           0,
           1,
           1,
           1,
           1,
           1,
           1,
           1
          ],
          [
           0,
           0,
           0,
           0,
           0,
           0,
           1,
           1,
           1,
           1,
           1,
           1,
           1
          ],
          [
           0,
           0,
           0,
           0,
           0,
           0,
           1,
           1,
           1,
           1,
           1,
           1,
           1
          ]
         ],
         "type": "surface",
         "x": [
          [
           0.7470818569633382,
           0.7403378327820117,
           0.72974860532629,
           0.7160358129477551,
           0.7001339597855432,
           0.6831267308536039,
           0.6661731406978744,
           0.6504285484703352,
           0.6369659221121242,
           0.6267027173615115,
           0.6203383546615037,
           0.6183065548124994,
           0.6207457816165005
          ],
          [
           0.8814649125749858,
           0.875297426430085,
           0.8652949923910206,
           0.8521392598077513,
           0.8367267701149507,
           0.8201078590148396,
           0.8034150778348416,
           0.7877860120262483,
           0.7742857565956629,
           0.7638343316404527,
           0.757143984499519,
           0.7546706512741951,
           0.7565828855364103
          ],
          [
           1.0138836076878737,
           1.0083125259242682,
           0.9989169734062829,
           0.9863372415111337,
           0.971430618178485,
           0.955212965154097,
           0.938789488690643,
           0.9232794215680293,
           0.9097397492290642,
           0.8990931779682816,
           0.8920652540228129,
           0.8891349187953485,
           0.890501869789032
          ],
          [
           1.1443368449925717,
           1.1393828855395083,
           1.1306151709771568,
           1.1186312065636077,
           1.1042476796692071,
           1.0884448038819061,
           1.0722995190711222,
           1.0569120997153658,
           1.0433311730148187,
           1.032482256680581,
           1.0251046864321487,
           1.0217012314899412,
           1.0225038316837949
          ],
          [
           1.2728234581790756,
           1.2685082252101023,
           1.2603902103682554,
           1.249022642949353,
           1.2351802038871995,
           1.219806232528169,
           1.2039484396136904,
           1.1886875075246435,
           1.175063443563014,
           1.1640047051729567,
           1.156264927100325,
           1.1523715624301805,
           1.1525899375307043
          ],
          [
           1.3993422065591008,
           1.3956882252805758,
           1.3882427147409073,
           1.3775130741790855,
           1.3642305108678294,
           1.3493002095463273,
           1.33373964557615,
           1.3186092456768175,
           1.3049401215973009,
           1.2936638015543236,
           1.285548748123815,
           1.2811479887863042,
           1.2807614280180437
          ],
          [
           1.5238917691914096,
           1.5209225204500565,
           1.5141732993292558,
           1.504104054094775,
           1.4914009871691294,
           1.4769297915704913,
           1.4616766553641258,
           1.446681054575498,
           1.4329649146169505,
           1.4214629677596655,
           1.412959052674101,
           1.4080326971199537,
           1.4070196240870518
          ],
          [
           1.6464707384575081,
           1.6442106927877844,
           1.6381825643715662,
           1.6287971601984652,
           1.616694080052765,
           1.6026981288451092,
           1.5877631075208967,
           1.5729068131020825,
           1.5591416775021218,
           1.5474057719641898,
           1.5384988790561955,
           1.5330279888104823,
           1.531365933356222
          ],
          [
           1.7670776130288572,
           1.7655522636796974,
           1.7602710865850104,
           1.7515939852362408,
           1.7401122897507193,
           1.7266084587013857,
           1.7120027558581157,
           1.697290535732613,
           1.6834744118133376,
           1.6714959301131633,
           1.6621714043645806,
           1.6561362855878476,
           1.6538018571540933
          ],
          [
           1.8781562405643897,
           1.8775523938161434,
           1.8737739327147083,
           1.867078353139945,
           1.8579219477749052,
           1.846928710513541,
           1.8348478123080307,
           1.822502546406452,
           1.8107342222784804,
           1.8003448317653625,
           1.7920423946612873,
           1.7863927083344717,
           1.78378078957154
          ],
          [
           1.9889693133917274,
           1.9893096944716377,
           1.987070224604832,
           1.982403519961834,
           1.9756276087519702,
           1.96720425812647,
           1.957707505510216,
           1.9477845388998805,
           1.93811159207148,
           1.9293478603660694,
           1.9220905776166213,
           1.9168343156492837,
           1.913937280030747
          ],
          [
           2.0995557541368455,
           2.1008562738034753,
           2.100183067826137,
           2.097582014079662,
           2.0932303700784267,
           2.0874246931696847,
           2.080560630640431,
           2.0731059570086354,
           2.065568695962874,
           2.058462499387502,
           2.0522716428355867,
           2.047418022950266,
           2.0442324059057397
          ],
          [
           2.2099586259692194,
           2.2122277653613214,
           2.213138237940958,
           2.2126279965064533,
           2.2107318131683553,
           2.207578909687564,
           2.203384151225877,
           2.198433403640291,
           2.1930640521972666,
           2.1876420093243736,
           2.18253677828305,
           2.1780962721319685,
           2.174623104027042
          ],
          [
           2.32022428524557,
           2.3234626842706922,
           2.325963784101449,
           2.327557138917637,
           2.3281341642216766,
           2.327655536692677,
           2.3261538740057692,
           2.3237315119914523,
           2.320553530617859,
           2.3168365040637364,
           2.312833741546072,
           2.308818024715567,
           2.3050630180379335
          ],
          [
           2.4304013588754523,
           2.434601639105941,
           2.4386895291395296,
           2.4423864460259868,
           2.4454404509889445,
           2.447643418637159,
           2.448845220365981,
           2.448963955373662,
           2.4479915320656476,
           2.4459942194833735,
           2.4431081311786067,
           2.4395299492998306,
           2.4355035210288585
          ],
          [
           2.5405395959310524,
           2.5456864345199652,
           2.551346484370799,
           2.557134022439895,
           2.5626546375722015,
           2.567532108969701,
           2.5714340450170563,
           2.5740945352208944,
           2.575332271570491,
           2.575062904379078,
           2.573304790575599,
           2.5701777427103414,
           2.5658948639276313
          ],
          [
           2.6506886552771713,
           2.656759109779657,
           2.663966204557675,
           2.671818788012391,
           2.6797817195583735,
           2.6873123385701305,
           2.6938974458069476,
           2.6990882770930393,
           2.702531085854513,
           2.7039912503637846,
           2.7033692628225836,
           2.7007075106539595,
           2.696187387869451
          ],
          [
           2.7756158263529622,
           2.7788502549733947,
           2.783061056620157,
           2.787961272119702,
           2.7932169598837238,
           2.7984699534765394,
           2.8033622700657808,
           2.8075605063608267,
           2.810778559496083,
           2.812797124468466,
           2.8134786394109446,
           2.8127766602064455,
           2.8107390255776794
          ],
          [
           2.8997281587250305,
           2.900049471205281,
           2.9011850598697437,
           2.903057536227584,
           2.9055392941094285,
           2.9084612058169284,
           2.9116241478959046,
           2.914812571070685,
           2.9178091895710256,
           2.9204097887982745,
           2.9224371422127886,
           2.9237530890297285,
           2.924267949648225
          ],
          [
           3.023021445996663,
           3.0203725464800413,
           3.018372920786166,
           3.017158840101536,
           3.0168130420184465,
           3.0173590921048015,
           3.0187597779496067,
           3.0209196451272806,
           3.0236915022590147,
           3.0268864518619916,
           3.0302867634006723,
           3.0336607112629763,
           3.0367783664777996
          ],
          [
           3.1454907874060005,
           3.1398369878937467,
           3.1346633612437604,
           3.130322481562416,
           3.127110172626355,
           3.1252453479809774,
           3.124855092344098,
           3.1259660009924417,
           3.1285023673374877,
           3.132291342204364,
           3.1370747132174706,
           3.1425265015471586,
           3.1482751768282657
          ],
          [
           3.267130574540431,
           3.2584613870830803,
           3.25009790593919,
           3.242610088527411,
           3.2365082172301527,
           3.232208124492504,
           3.230002854528296,
           3.230042692841209,
           3.2323249245160537,
           3.236694019235756,
           3.242852230415438,
           3.25037988614013,
           3.258763989112233
          ],
          [
           3.3879344864360608,
           3.376264649418287,
           3.3647193982070993,
           3.3540855225931105,
           3.3450877036261035,
           3.338339127799081,
           3.334299699402106,
           3.333244698804961,
           3.335246022554871,
           3.3401672837456227,
           3.347673106559835,
           3.3572519815766793,
           3.3682511242935957
          ],
          [
           3.507895494089074,
           3.493265142117451,
           3.478570349791913,
           3.4648125429251517,
           3.4529292933192868,
           3.443730424796959,
           3.437842825046116,
           3.4356677242600595,
           3.4373533519628348,
           3.4427848354121298,
           3.451592027986825,
           3.46317473406753,
           3.47674361137617
          ],
          [
           3.6270058752708305,
           3.6094798297186976,
           3.591691255893282,
           3.5748524157037775,
           3.5601108482815995,
           3.548471167084977,
           3.540726597151978,
           3.537404918125029,
           3.538732496940482,
           3.5446188612959926,
           3.554662865188409,
           3.5681800263509644,
           3.5842491725885957
          ],
          [
           3.7296691117309684,
           3.71813245031274,
           3.706813949611841,
           3.69648494674633,
           3.687849346192008,
           3.6814956498556466,
           3.67785685164259,
           3.6771809296376587,
           3.6795139468084757,
           3.684696911890342,
           3.6923766143781847,
           3.7020296952387644,
           3.712998312963903
          ],
          [
           3.839185013521694,
           3.8334199242643296,
           3.828291012581576,
           3.824147805328685,
           3.8212726552329683,
           3.8198614990220383,
           3.820010504659624,
           3.821709517657768,
           3.8248427530883973,
           3.829196686134832,
           3.8344746034551713,
           3.8403168237062055,
           3.846325209232552
          ],
          [
           3.955482049518025,
           3.955104761066063,
           3.955735179498272,
           3.957330342840312,
           3.9597815433465557,
           3.9629217357533024,
           3.966536921137446,
           3.9703807305894334,
           3.9741912148473073,
           3.977708695706016,
           3.980693462657951,
           3.9829421087678982,
           3.9843013925195283
          ],
          [
           4.078476780684051,
           4.083007558905793,
           4.088883311710566,
           4.095703616254865,
           4.1030036800550835,
           4.11028601582716,
           4.11705434442286,
           4.122847415433574,
           4.127270440643428,
           4.130021998193763,
           4.130914573984689,
           4.129887340451104,
           4.127010301860739
          ],
          [
           4.208081957527213,
           4.217003764152186,
           4.227582039572492,
           4.239095891799662,
           4.250760670831957,
           4.261781441255284,
           4.271407155777976,
           4.27898183786256,
           4.283989285442723,
           4.286088249241076,
           4.2851356883434635,
           4.281196518200876,
           4.274539186748745
          ],
          [
           4.3442117249717045,
           4.357012341332208,
           4.371760669647355,
           4.3874516357152356,
           4.4030159261288695,
           4.417392860217775,
           4.4296026736827985,
           4.43881328791397,
           4.4443970147726946,
           4.445973332501096,
           4.443434817650972,
           4.436954465814264,
           4.426973902259355
          ],
          [
           4.486784713709148,
           4.502982895766587,
           4.521403216199107,
           4.540790360610248,
           4.559823127147162,
           4.577204464223493,
           4.591749862441507,
           4.602468076950052,
           4.608628679143059,
           4.60981183416195,
           4.6059369119474445,
           4.597267982044849,
           4.584395817700941
          ]
         ],
         "y": [
          [
           0.8668472776266998,
           0.8598042281002704,
           0.8367568840773446,
           0.7992758839655483,
           0.7499154959822187,
           0.6920395489965222,
           0.6295921931510089,
           0.566829112547416,
           0.5080275074079832,
           0.4571946099487161,
           0.4177945981261286,
           0.3925125176343319,
           0.3830713004782287
          ],
          [
           0.8319676196157628,
           0.8247610941511364,
           0.8015485556792562,
           0.7639119003364474,
           0.7144160039868088,
           0.656433930170732,
           0.5939170613988751,
           0.5311258189640298,
           0.4723393222706962,
           0.4215637739192459,
           0.3822594436192692,
           0.3571048565272325,
           0.3478142561835375
          ],
          [
           0.7980286315667883,
           0.790656861081015,
           0.7672772370445181,
           0.7294830421987293,
           0.6798498884645289,
           0.6217601932462382,
           0.5591726732752232,
           0.4963525646067416,
           0.4375809538314122,
           0.3868630290988947,
           0.3476551331643767,
           0.32262921934168387,
           0.31349076230055484
          ],
          [
           0.7650303661091316,
           0.7574917132684413,
           0.7339432317357525,
           0.6959897116118119,
           0.6462176225719085,
           0.5880188502318456,
           0.5253595447485797,
           0.46250983424139724,
           0.40375282261730505,
           0.3530927031179323,
           0.3139818791673554,
           0.28908568878411345,
           0.28010076619992463
          ],
          [
           0.7329728715933126,
           0.7252658548208727,
           0.701546885707768,
           0.6634323728016067,
           0.6135197571697331,
           0.5552105010829618,
           0.49247828398300475,
           0.42959820279533345,
           0.3708554311386404,
           0.320253191824309,
           0.2812399438374567,
           0.2564743755559467,
           0.24764421953112728
          ],
          [
           0.7018561911212051,
           0.6939795116818888,
           0.6700885923481688,
           0.6318115597910273,
           0.5817569305234465,
           0.5233358448108258,
           0.4605296030990715,
           0.3976183469686177,
           0.33888937455898843,
           0.2883449682856841,
           0.2494296459076497,
           0.22479542233433733,
           0.2161210791922889
          ],
          [
           0.6716803614205783,
           0.6636329339489913,
           0.6395687980804579,
           0.6011278849065539,
           0.5509298791334684,
           0.4923956918985101,
           0.42951433132942346,
           0.3665710582326301,
           0.30785535265099945,
           0.25736859288762826,
           0.21855136818707507,
           0.19404900826418559,
           0.18553130845564045
          ],
          [
           0.6424454115392224,
           0.634226398417546,
           0.60998800858443,
           0.571382048251168,
           0.5210394498151057,
           0.4623909781645835,
           0.39943342972140233,
           0.3364572573696969,
           0.2777541831821905,
           0.22732472465334447,
           0.18860556604327938,
           0.16423535402483597,
           0.15587487827339166
          ],
          [
           0.6141513613297356,
           0.6057602113657681,
           0.5813467956915622,
           0.5425748482402384,
           0.49208661315693164,
           0.4333227802268158,
           0.3702880075522527,
           0.3072780107211267,
           0.24858681688853596,
           0.19821413392238763,
           0.15959277692203036,
           0.13535472754222813,
           0.1271517687929441
          ],
          [
           0.5905567510207061,
           0.5819983468811596,
           0.5572923386525013,
           0.5181223999669052,
           0.4671578974144105,
           0.40787197762114696,
           0.3443048780464106,
           0.28078859147662083,
           0.22165164787588232,
           0.17092413222216526,
           0.13206304087608728,
           0.10771669299189354,
           0.09954425194364974
          ],
          [
           0.5714964288879207,
           0.5628286549994164,
           0.537907412015614,
           0.49843104146155837,
           0.44708979275272165,
           0.3873824871431858,
           0.3233780788392529,
           0.2594383624945502,
           0.19992072411259187,
           0.14888119239156042,
           0.10979802707143,
           0.08533468128078284,
           0.07715829160766124
          ],
          [
           0.5569470921764486,
           0.5482311328389227,
           0.5231766759359258,
           0.48349114130094917,
           0.43187903253591997,
           0.37185762956013224,
           0.3075172917963275,
           0.24324270693567374,
           0.18341408171765078,
           0.13210863807938886,
           0.09282275721858116,
           0.06823370699290388,
           0.06001719053991014
          ],
          [
           0.5468897638053466,
           0.5381891034578938,
           0.5130868901168328,
           0.47329379813798783,
           0.42152166097852345,
           0.3612986642283552,
           0.29672890559279924,
           0.23221270741629738,
           0.17214674198651964,
           0.1206244055838041,
           0.08115686028930924,
           0.0564337540916523,
           0.04813992582133894
          ],
          [
           0.5413105121707236,
           0.5326898081862859,
           0.5076273383044172,
           0.4678310684298772,
           0.41601304858817045,
           0.35570459119818243,
           0.29101561796660264,
           0.2263545755155805,
           0.16612800703072814,
           0.11444025362517785,
           0.07481375027546677,
           0.04994897769898457,
           0.04154042905583896
          ],
          [
           0.5402010023898234,
           0.5317248786703539,
           0.5067901889634239,
           0.46709619116603773,
           0.41534796563065435,
           0.355072068409524,
           0.29037620228763666,
           0.2256692836262253,
           0.16536098199882587,
           0.113561208497165,
           0.0738000320822077,
           0.04878711121818244,
           0.040227035126166405
          ],
          [
           0.5435588375202272,
           0.535290655135427,
           0.5105707688945255,
           0.4710837981932966,
           0.4195207148297247,
           0.35939545772301296,
           0.29480546378329836,
           0.23015243435756075,
           0.1698423665569812,
           0.11798529183506967,
           0.07811518413625662,
           0.052949125411747816,
           0.04420214097474012
          ],
          [
           0.55138766310157,
           0.5433883273947859,
           0.5189677311008396,
           0.47979009750022017,
           0.42852531757870904,
           0.3686670013689027,
           0.3042943941999547,
           0.2397943828696658,
           0.1795625365588866,
           0.12770355605586434,
           0.08775154518086264,
           0.062429167451193174,
           0.053462101061925116
          ],
          [
           0.5614988475483464,
           0.553186978025663,
           0.5284465490379199,
           0.4889635799351397,
           0.4374287698129855,
           0.3773541308159816,
           0.3128336503137388,
           0.24826429242734954,
           0.1880463521908621,
           0.1362835827165416,
           0.09650353120204194,
           0.07141714241843278,
           0.0627340123040995
          ],
          [
           0.5689230832351279,
           0.5604100503881264,
           0.5354606116905324,
           0.49577503015868996,
           0.4440578125904699,
           0.38383340189640325,
           0.3192059921397463,
           0.25457983449357086,
           0.19435909480168856,
           0.14264771695462336,
           0.10296974589556046,
           0.07802916978122734,
           0.06952564765756511
          ],
          [
           0.5736540442964514,
           0.5650593657177719,
           0.5400197632811357,
           0.5002416445126999,
           0.4484358224700841,
           0.38813277831232373,
           0.32344206484327764,
           0.25877224727940284,
           0.19853046681575065,
           0.14682210123666967,
           0.10717099020425991,
           0.08227929140882084,
           0.07384333298778442
          ],
          [
           0.5756855230712563,
           0.5671353623075897,
           0.5421310581878275,
           0.5023766127161654,
           0.4505812256541698,
           0.3902746670341915,
           0.32556672916488155,
           0.2608671510771102,
           0.2005851020964509,
           0.14882870424013922,
           0.1091250704905915,
           0.08417993787448216,
           0.07569327595581837
          ],
          [
           0.5750114957344155,
           0.5666368427722537,
           0.5417982070649148,
           0.5021883005880674,
           0.45050647300964347,
           0.39027475547085416,
           0.3255978399843484,
           0.26088335145687513,
           0.20054147533583283,
           0.14868441075920527,
           0.10884613098003848,
           0.08374154892941255,
           0.07508150038679415
          ],
          [
           0.5716261917996512,
           0.563560799578686,
           0.5390211702909278,
           0.4996796391186822,
           0.4482172663963837,
           0.38814112777946497,
           0.32354531283415566,
           0.2588319195993472,
           0.19841105888005295,
           0.14640031248409935,
           0.10634412682654837,
           0.08097226476398536,
           0.07201377676698953
          ],
          [
           0.565524166490567,
           0.5579023416521904,
           0.5337959438115285,
           0.4948477841437161,
           0.4437121153652378,
           0.38387374879765845,
           0.31941057023498226,
           0.25471563876581627,
           0.1941978070563547,
           0.14198126532715186,
           0.10162448460513773,
           0.075877712803784,
           0.06649554987280082
          ],
          [
           0.5567003747657939,
           0.5496547351390412,
           0.5261145638616376,
           0.48768408470416547,
           0.43698227131183714,
           0.37746436847863146,
           0.3131864229246464,
           0.24852887041505856,
           0.18789801630173872,
           0.13542575309528568,
           0.09468797881870433,
           0.0684609054665885,
           0.05853186474559696
          ],
          [
           0.5506566983631533,
           0.5425182808141626,
           0.5179068684916497,
           0.47849968847311153,
           0.4269822749533676,
           0.36686545452723723,
           0.302246089159018,
           0.23752788181000375,
           0.17712127135913527,
           0.12514286848199546,
           0.08513491543628934,
           0.059823888105813156,
           0.050934691174688546
          ],
          [
           0.5496800164877969,
           0.5410782682087144,
           0.5160273652758754,
           0.47623448532557844,
           0.4244114473655928,
           0.36408990579127204,
           0.29938067397484525,
           0.2346935791275403,
           0.17443693986272235,
           0.122717146567484,
           0.08305881768389622,
           0.05816460278688826,
           0.049731001482055864
          ],
          [
           0.5539299396536519,
           0.5453754280166959,
           0.5203951293589013,
           0.48069140975190117,
           0.4289700120734138,
           0.368755664101577,
           0.30415187414175654,
           0.2395612837169034,
           0.1793856348234737,
           0.12772579848859292,
           0.0881023071865672,
           0.06321543636871413,
           0.05476118515377176
          ],
          [
           0.5635353163432135,
           0.55541823202895,
           0.5308976785013718,
           0.49164469096125274,
           0.440334295640823,
           0.3804632111867323,
           0.31611155306288174,
           0.2516647804242686,
           0.1915148343228868,
           0.13976083418305962,
           0.09992972958678731,
           0.07473594448829315,
           0.06589639370734107
          ],
          [
           0.5785982650632023,
           0.5711999169831217,
           0.5474198285770093,
           0.5088785735712876,
           0.45820267480216126,
           0.3988456110248638,
           0.3348524680436321,
           0.27058427279896824,
           0.2104207965885817,
           0.15846208089136488,
           0.11824902631624556,
           0.09252208607730333,
           0.08303450863604311
          ],
          [
           0.5991985835523095,
           0.5927093393216596,
           0.5698602541470514,
           0.5322084554232359,
           0.4823198510107018,
           0.42359426685534635,
           0.3600337544687405,
           0.29596985773131845,
           0.23576842533514036,
           0.18353208541043478,
           0.14282065819843717,
           0.11640856018483056,
           0.1060957322011866
          ],
          [
           0.6253979274653505,
           0.6199365466809643,
           0.5981380730666161,
           0.5614880365754426,
           0.5124840766272684,
           0.45446573210968866,
           0.39138685732172873,
           0.3275461733374189,
           0.2672943172685712,
           0.21473735353537762,
           0.17345695236176606,
           0.1462663048686297,
           0.13501840874795623
          ]
         ],
         "z": [
          [
           0.2970064002117985,
           0.36153689924191923,
           0.421669751404829,
           0.47330700219986244,
           0.5129296583199295,
           0.5378375012299831,
           0.5463331025978595,
           0.5378375012299832,
           0.5129296583199296,
           0.47330700219986244,
           0.4216697514048291,
           0.3615368992419193,
           0.2970064002117985
          ],
          [
           0.3066533710535939,
           0.37122348658118615,
           0.43139325544273416,
           0.48306220732556804,
           0.5227091885458527,
           0.5476323228531602,
           0.5561331398318745,
           0.5476323228531603,
           0.5227091885458528,
           0.48306220732556804,
           0.43139325544273427,
           0.3712234865811862,
           0.3066533710535939
          ],
          [
           0.3149081475832743,
           0.37951381112568183,
           0.4397167054635814,
           0.49141410283783205,
           0.5310829110513672,
           0.5560197663802396,
           0.5645252633438885,
           0.5560197663802396,
           0.5310829110513673,
           0.49141410283783205,
           0.4397167054635815,
           0.37951381112568194,
           0.3149081475832743
          ],
          [
           0.3217707298008396,
           0.3864073967395937,
           0.44663918164361427,
           0.49836138790942325,
           0.5380492326549929,
           0.5629980548481773,
           0.5715076334863889,
           0.5629980548481773,
           0.5380492326549929,
           0.49836138790942325,
           0.4466391816436144,
           0.38640739673959373,
           0.3217707298008396
          ],
          [
           0.3272411177062899,
           0.39190372181994493,
           0.4521596763232602,
           0.5039026374945078,
           0.5436064080391535,
           0.5685652416081629,
           0.5770782349402306,
           0.5685652416081629,
           0.5436064080391536,
           0.5039026374945078,
           0.4521596763232603,
           0.39190372181994504,
           0.3272411177062899
          ],
          [
           0.33131931129962516,
           0.3960022151900111,
           0.45627708607382,
           0.5080362911092542,
           0.5477525260092793,
           0.5727191949996401,
           0.5812348608480149,
           0.5727191949996401,
           0.5477525260092793,
           0.5080362911092542,
           0.4562770860738201,
           0.39600221519001116,
           0.33131931129962516
          ],
          [
           0.33400531058084537,
           0.39870225167443946,
           0.4589902031492554,
           0.5107606407428351,
           0.5504854946878694,
           0.5754575818364291,
           0.5839750957176655,
           0.5754575818364293,
           0.5504854946878694,
           0.5107606407428351,
           0.45899020314925554,
           0.3987022516744395,
           0.33400531058084537
          ],
          [
           0.3352991155499506,
           0.4000031473466087,
           0.46029770630479283,
           0.5120738178729727,
           0.5518030256118467,
           0.5767778496696307,
           0.585296297059635,
           0.5767778496696307,
           0.5518030256118467,
           0.5120738178729727,
           0.46029770630479294,
           0.40000314734660875,
           0.3352991155499506
          ],
          [
           0.33520072620694075,
           0.39990415444309907,
           0.46019815097243405,
           0.5119737795720121,
           0.5517026167160435,
           0.5766772078081703,
           0.5851955757379274,
           0.5766772078081703,
           0.5517026167160435,
           0.5119737795720121,
           0.46019815097243416,
           0.3999041544430991,
           0.33520072620694075
          ],
          [
           0.3338338582455041,
           0.39853054132551435,
           0.4588182523699459,
           0.510588483501274,
           0.5503131790222504,
           0.5752851665812841,
           0.5838026464943877,
           0.5752851665812843,
           0.5503131790222504,
           0.510588483501274,
           0.458818252369946,
           0.39853054132551446,
           0.3338338582455041
          ],
          [
           0.3313222273593287,
           0.39600627137641736,
           0.45628220468917835,
           0.5080423220530366,
           0.5477592570072835,
           0.5727263660701253,
           0.5812421820190281,
           0.5727263660701253,
           0.5477592570072835,
           0.5080423220530366,
           0.45628220468917846,
           0.3960062713764174,
           0.3313222273593287
          ],
          [
           0.32766583354841466,
           0.392331221626503,
           0.45258977037167614,
           0.5043349592689108,
           0.5440404392078281,
           0.5690003473469991,
           0.5775137071949377,
           0.5690003473469991,
           0.5440404392078282,
           0.5043349592689108,
           0.45258977037167625,
           0.392331221626503,
           0.32766583354841466
          ],
          [
           0.32286467681276204,
           0.38750538557901815,
           0.44774093686667593,
           0.49946637739943667,
           0.5391567038853247,
           0.5641070861656927,
           0.5726171969205898,
           0.5641070861656927,
           0.5391567038853248,
           0.49946637739943667,
           0.44774093686667604,
           0.3875053855790182,
           0.32286467681276204
          ],
          [
           0.3169187571523707,
           0.3815288797991607,
           0.4417359293608481,
           0.49343689490665765,
           0.5331084410745276,
           0.5580470175534477,
           0.5665531015693255,
           0.5580470175534477,
           0.5331084410745277,
           0.49343689490665765,
           0.4417359293608482,
           0.38152887979916084,
           0.3169187571523707
          ],
          [
           0.3098280745672407,
           0.37440194456543796,
           0.43457521203662375,
           0.4862471682436632,
           0.5258964547629914,
           0.5508210382418604,
           0.5593223495060069,
           0.5508210382418604,
           0.5258964547629914,
           0.4862471682436632,
           0.43457521203662386,
           0.37440194456543796,
           0.3098280745672407
          ],
          [
           0.301592629057372,
           0.3661249382246242,
           0.42625947716681134,
           0.4778981764320478,
           0.517521944002393,
           0.5424304855993,
           0.5509263252762507,
           0.5424304855993001,
           0.517521944002393,
           0.4778981764320478,
           0.42625947716681145,
           0.3661249382246242,
           0.301592629057372
          ],
          [
           0.2922124206227647,
           0.3566983254721958,
           0.4167896224741347,
           0.4683911890434629,
           0.5079864636941012,
           0.532877093892894,
           0.5413668243255048,
           0.532877093892894,
           0.5079864636941012,
           0.4683911890434629,
           0.4167896224741348,
           0.3566983254721959,
           0.2922124206227647
          ],
          [
           0.2847923411235621,
           0.34944311846153137,
           0.4096880521643791,
           0.4614215495597167,
           0.5011180582936984,
           0.5260723268976859,
           0.5345837632051962,
           0.5260723268976859,
           0.5011180582936984,
           0.4614215495597167,
           0.4096880521643792,
           0.3494431184615314,
           0.2847923411235621
          ],
          [
           0.28243728241990784,
           0.3471419711518875,
           0.40743714227633665,
           0.45921377952360565,
           0.49894339063023185,
           0.5239184682555853,
           0.5324370021327655,
           0.5239184682555853,
           0.49894339063023185,
           0.45921377952360565,
           0.40743714227633676,
           0.34714197115188755,
           0.28243728241990784
          ],
          [
           0.28514724451180173,
           0.3497876849910133,
           0.41002298627494527,
           0.4617482121246397,
           0.501438373878417,
           0.5263886526038513,
           0.5348987280380888,
           0.5263886526038513,
           0.5014383738784172,
           0.4617482121246397,
           0.4100229862749454,
           0.34978768499101337,
           0.28514724451180173
          ],
          [
           0.2929222273992438,
           0.3573753189919452,
           0.41743603890637393,
           0.4690113483353945,
           0.5085864751736475,
           0.5334644399280958,
           0.5419498504135042,
           0.5334644399280959,
           0.5085864751736476,
           0.4690113483353945,
           0.41743603890637404,
           0.35737531899194525,
           0.2929222273992438
          ],
          [
           0.3057622310822341,
           0.3699025623135205,
           0.4296718359683037,
           0.4809968748204053,
           0.5203799622906915,
           0.5451372060516916,
           0.5535814408543733,
           0.5451372060516917,
           0.5203799622906915,
           0.4809968748204053,
           0.42967183596830383,
           0.3699025623135205,
           0.3057622310822341
          ],
          [
           0.3236672555607726,
           0.3873699718777951,
           0.44673145335152875,
           0.49770631311902513,
           0.536820698727068,
           0.5614090294360476,
           0.569795651142285,
           0.5614090294360476,
           0.536820698727068,
           0.49770631311902513,
           0.44673145335152886,
           0.3873699718777952,
           0.3236672555607726
          ],
          [
           0.34663730083485933,
           0.4097810440022232,
           0.4686216454227006,
           0.5191492153481776,
           0.5579203833889901,
           0.5822929585155414,
           0.5906059900105419,
           0.5822929585155414,
           0.5579203833889901,
           0.5191492153481776,
           0.4686216454227007,
           0.40978104400222326,
           0.34663730083485933
          ],
          [
           0.3746723669044943,
           0.4371421068064738,
           0.49535463717025974,
           0.5453428702523151,
           0.583700190577559,
           0.6078126101542947,
           0.6160369074360252,
           0.6078126101542947,
           0.583700190577559,
           0.5453428702523151,
           0.49535463717025985,
           0.43714210680647386,
           0.3746723669044943
          ],
          [
           0.40043707914340665,
           0.46415476363512304,
           0.5235301932271812,
           0.5745170305154194,
           0.6136406067983764,
           0.6382347150071357,
           0.6466233073109559,
           0.6382347150071357,
           0.6136406067983764,
           0.5745170305154194,
           0.5235301932271813,
           0.4641547636351231,
           0.40043707914340665
          ],
          [
           0.4165960629253257,
           0.4810324298795883,
           0.5410775649120492,
           0.5926394912995234,
           0.6322043489688168,
           0.657075858253786,
           0.6655590668987726,
           0.657075858253786,
           0.6322043489688169,
           0.5926394912995234,
           0.5410775649120493,
           0.4810324298795884,
           0.4165960629253257
          ],
          [
           0.42314931825025126,
           0.4878482339903443,
           0.5481380255427637,
           0.5999100432468033,
           0.6396361096532375,
           0.6646089589868964,
           0.6731267328352761,
           0.6646089589868964,
           0.6396361096532375,
           0.5999100432468033,
           0.5481380255427638,
           0.4878482339903444,
           0.42314931825025126
          ],
          [
           0.4200968451181835,
           0.48469449758951555,
           0.5448899267975944,
           0.5965809137195399,
           0.6362448030200161,
           0.6611785661908718,
           0.6696830084770053,
           0.6611785661908719,
           0.6362448030200161,
           0.5965809137195399,
           0.5448899267975945,
           0.4846944975895156,
           0.4200968451181835
          ],
          [
           0.4074386435291224,
           0.47166432006194703,
           0.5315131228770085,
           0.5829064549672833,
           0.6223419456823164,
           0.647132131500108,
           0.6555876022248945,
           0.647132131500108,
           0.6223419456823165,
           0.5829064549672833,
           0.5315131228770086,
           0.47166432006194703,
           0.4074386435291224
          ],
          [
           0.38517471348306787,
           0.4488402900843416,
           0.5081671628525786,
           0.5591123034509161,
           0.5982038847384031,
           0.6227778800521899,
           0.6311596122220893,
           0.6227778800521899,
           0.5982038847384031,
           0.5591123034509161,
           0.5081671628525787,
           0.4488402900843417,
           0.38517471348306787
          ],
          [
           0.35330505498001996,
           0.41628968748532585,
           0.47498202137242174,
           0.5253822710805699,
           0.5640557428825107,
           0.5883669035858758,
           0.5966589877648236,
           0.5883669035858758,
           0.5640557428825107,
           0.5253822710805699,
           0.47498202137242185,
           0.4162896874853259,
           0.35330505498001996
          ]
         ]
        },
        {
         "hoverinfo": "skip",
         "showscale": false,
         "type": "cone",
         "u": [
          0.25267215069367555,
          0.2256960539683693,
          0.183339144145483,
          0.1284879746313432,
          0.06488056198249507,
          -0.003148353745261831,
          -0.0709627143681798,
          -0.13394108327833654,
          -0.18779158871118043,
          -0.22884440771363118,
          -0.25430185851366277,
          -0.26242905790967974,
          -0.25267215069367555,
          0.24976405407715113,
          0.22509410949754763,
          0.1850843733412903,
          0.13246144300821278,
          0.07081148423701025,
          0.004335839836566199,
          -0.062435284883425826,
          -0.12495154811779907,
          -0.17895256984014085,
          -0.22075826966098144,
          -0.24751965822471608,
          -0.25741299112601185,
          -0.24976405407715113,
          0.2467634757976831,
          0.22447914874326186,
          0.18689693867132062,
          0.13657801109072354,
          0.07695151776012871,
          0.012080905662576975,
          -0.05361300019123888,
          -0.1156532686816937,
          -0.16981195803755433,
          -0.2123982430806849,
          -0.24050993886255947,
          -0.25223127977241727,
          -0.2467634757976831,
          0.24366602661755324,
          0.22385018880530036,
          0.18877933055589416,
          0.14084347290169802,
          0.08330936532409523,
          0.02009786217489106,
          -0.04448327706824437,
          -0.10603295449127001,
          -0.16035666129345796,
          -0.20375232663040932,
          -0.23326260762413847,
          -0.24687642739296806,
          -0.24366602661755324,
          0.24046704129674265,
          0.2232061094208495,
          0.1907340500534619,
          0.14526378037785181,
          0.08989402412923866,
          0.02839813869311681,
          -0.03503303296479791,
          -0.09607676132098592,
          -0.15057301716750393,
          -0.19480797072773276,
          -0.22576708301825976,
          -0.24134054169883776,
          -0.24046704129674265,
          0.23716155708211456,
          0.2225456319680145,
          0.19276358980934002,
          0.149845027562053,
          0.09671477431702859,
          0.0369935690310202,
          -0.02524868684968892,
          -0.08577028644701955,
          -0.14044678276508593,
          -0.1855520629369943,
          -0.2180122766590289,
          -0.2356153140090726,
          -0.23716155708211456,
          0.2337442902087155,
          0.2218672952433028,
          0.19487041076010037,
          0.1545934298221773,
          0.10378116211959511,
          0.04589637972504203,
          -0.015116165100419049,
          -0.07509856825493047,
          -0.12996312808912036,
          -0.1759709155182608,
          -0.20998657586051936,
          -0.2296919980771078,
          -0.2337442902087155,
          0.2302096102025725,
          0.22116942752367744,
          0.1970569138588042,
          0.15951529716640092,
          0.11110297658359997,
          0.05511917175297673,
          -0.00462091354387379,
          -0.06404609121912996,
          -0.11910663361897249,
          -0.16605025577070073,
          -0.20167782740267792,
          -0.22356138838553086,
          -0.2302096102025725,
          0.22655151174952753,
          0.22045011435288892,
          0.19932540597414014,
          0.16461700057906167,
          0.11869021863697621,
          0.0646748944396412,
          0.006252083066561115,
          -0.052596797435449275,
          -0.10786129311255128,
          -0.15577521991324775,
          -0.19307332290757898,
          -0.21721379801451096,
          -0.22655151174952753,
          0.18875090198569913,
          0.18633551499271422,
          0.17122167058697396,
          0.14443935228792074,
          0.10781373082776141,
          0.06384078178230453,
          0.015517188960263741,
          -0.03386387464605176,
          -0.08093717115793769,
          -0.12249473321040968,
          -0.1557044816267102,
          -0.17830322693397252,
          -0.18875090198569913,
          0.150064066721961,
          0.15142559104160194,
          0.14246771157437882,
          0.12380089300238704,
          0.09669724816293171,
          0.06300384566093076,
          0.025016835195915195,
          -0.014675031245427062,
          -0.05336681855902925,
          -0.0884217453806712,
          -0.11745087637846356,
          -0.1384759242478141,
          -0.150064066721961,
          0.11064669646221195,
          0.11584877512873022,
          0.11315595121937844,
          0.10275173623347704,
          0.08534516022853697,
          0.06212245259356797,
          0.03466620247655424,
          0.004847507949371652,
          -0.02530153623367496,
          -0.053726322535162255,
          -0.07848974874282419,
          -0.09790422828410539,
          -0.11064669646221195,
          0.07067104388435429,
          0.07974760145276276,
          0.08338949177130807,
          0.08134852603328964,
          0.0737637926808981,
          0.061152178757734404,
          0.04437314491098472,
          0.024570154568640572,
          0.0030927487965438233,
          -0.018595422695028355,
          -0.03901634686032332,
          -0.05677837146464906,
          -0.07067104388435429,
          0.030322534415272134,
          0.04327613051576162,
          0.05328052983878906,
          0.05965394910354176,
          0.06196205031970014,
          0.06004754020370061,
          0.05404088945607097,
          0.044351441398802496,
          0.03163951590442802,
          0.01677140968793899,
          0.0007603596172819221,
          -0.01530250770473926,
          -0.030322534415272127,
          -0.010204324306811813,
          0.006596796615142545,
          0.022948356749496794,
          0.03773602429532549,
          0.04995204414715645,
          0.05876391474001473,
          0.06357112165530174,
          0.0640460616860257,
          0.06015636845396827,
          0.052167118124872194,
          0.04062276490580495,
          0.026310037390700213,
          0.01020432430681182,
          -0.050710535993157786,
          -0.03012318163750657,
          -0.007482982234170668,
          0.01566717004221116,
          0.03774963057143894,
          0.05725951616143731,
          0.07286726035085826,
          0.08350922116620954,
          0.08846016656459674,
          0.08738269779894389,
          0.08035024258502893,
          0.0678420511239984,
          0.0507105359931578,
          -0.09099746518455842,
          -0.0667156471746168,
          -0.03788726806254493,
          -0.00647693424368144,
          0.02537479194024897,
          0.05549726798727779,
          0.08183769693454539,
          0.10260102207891239,
          0.1163722571248074,
          0.1222129151618946,
          0.11972496499709032,
          0.10907795632259386,
          0.09099746518455842,
          -0.07024639844943516,
          -0.05730868396770526,
          -0.040465477380654424,
          -0.02086461538247517,
          0.0001581356736125375,
          0.021170110044875103,
          0.040739376401840464,
          0.05753232158202312,
          0.07040453412304769,
          0.07847879401258039,
          0.08120485378249488,
          0.07839693696449829,
          0.07024639844943516,
          -0.0490795818463885,
          -0.04779433192538565,
          -0.043251977267535754,
          -0.035762071836175295,
          -0.025835040308797526,
          -0.014147393478797985,
          -0.0014956251628914995,
          0.011258067536228586,
          0.023244541537590965,
          0.033646938446587664,
          0.04175635210464424,
          0.04702013937240388,
          0.0490795818463885,
          -0.02751384096227319,
          -0.03810943902876027,
          -0.04610794180426307,
          -0.05096426454278189,
          -0.05234745687513946,
          -0.050163256529719015,
          -0.04456051315049921,
          -0.03592104443980268,
          -0.024833615912866286,
          -0.012053817500958748,
          0.0015474286537638382,
          0.015043220102979205,
          0.027513840962273182,
          -0.005568778844529723,
          -0.028183976893545595,
          -0.04887848349349035,
          -0.06624200221886693,
          -0.07909123796311229,
          -0.0865505365446222,
          -0.08811155909214054,
          -0.08366792449876562,
          -0.07352245911858259,
          -0.05836655965107663,
          -0.039233075598650205,
          -0.017425922279898712,
          0.005568778844529713,
          0.016733170856396015,
          -0.017943578973007895,
          -0.05139750354856761,
          -0.08134877319568312,
          -0.1057562583847168,
          -0.12295662933531248,
          -0.131777709192144,
          -0.13161835594049198,
          -0.12248942924111283,
          -0.1050130503623046,
          -0.0803802056435764,
          -0.05026958274480889,
          -0.01673317085639603,
          0.03936672428493067,
          -0.007312623786165304,
          -0.053493628630916314,
          -0.09602913108687153,
          -0.13202040695489892,
          -0.15901471026298805,
          -0.1751724238508882,
          -0.17939242623946802,
          -0.1713871312398296,
          -0.1517020864768228,
          -0.12167879521997191,
          -0.08336329515259655,
          -0.039366724284930696,
          0.0623037654258074,
          0.0037823575393171605,
          -0.05499681176283617,
          -0.110028039229881,
          -0.15756103765334137,
          -0.19435651174265256,
          -0.21790691074602403,
          -0.22660731389025043,
          -0.2198648030791488,
          -0.19813886928196975,
          -0.1629100989831879,
          -0.1165792746603695,
          -0.06230376542580743,
          0.08551340536446883,
          0.015409223155938664,
          -0.055745072145723426,
          -0.123100432903742,
          -0.18206670259245447,
          -0.22862542737894329,
          -0.25960370711093994,
          -0.2728904232187365,
          -0.26758010795692333,
          -0.244034650534882,
          -0.20385863496521656,
          -0.14978999031499463,
          -0.08551340536446886,
          0.03334159753412986,
          -0.012805048138782048,
          -0.05807905094237856,
          -0.09939506240442178,
          -0.13393746462171063,
          -0.15935224996715563,
          -0.17390744281938328,
          -0.17661113083910773,
          -0.1672790621558405,
          -0.14654720182837358,
          -0.11582839187700475,
          -0.07721606843468601,
          -0.03334159753412989,
          -0.014280391421715829,
          -0.03734074845117379,
          -0.05785639518218876,
          -0.07442922419375132,
          -0.08592982457661834,
          -0.09157444942033818,
          -0.09097842686999498,
          -0.08418237487742077,
          -0.07164943315490252,
          -0.0542337009691644,
          -0.03312203168780624,
          -0.009753150683669456,
          0.014280391421715818,
          -0.05763868600300675,
          -0.059147839810854634,
          -0.05662616608201968,
          -0.0502455127138591,
          -0.04044071068888481,
          -0.027879941061897326,
          -0.013419199525322579,
          0.001956038282627146,
          0.01719797531412193,
          0.031267898748957315,
          0.04320696655669709,
          0.05220155099648625,
          0.05763868600300675,
          -0.0970670423533776,
          -0.07894392946640912,
          -0.055440918247316694,
          -0.028159700070118983,
          0.0010405551307526295,
          0.030169898219062113,
          0.05724321260185672,
          0.08041549664471638,
          0.09810759748413023,
          0.10911382768547123,
          0.1126841308491734,
          0.10857519671483538,
          0.0970670423533776,
          -0.13291445844306324,
          -0.09722723194317079,
          -0.054914130261949044,
          -0.008858721353266485,
          0.03780039477591189,
          0.08188347646921784,
          0.12038633455998961,
          0.15068506289832248,
          0.17071485321897512,
          0.17911070841238866,
          0.17530046482193865,
          0.159543784251589,
          0.13291445844306324,
          -0.1655243545753004,
          -0.11432188913328778,
          -0.055328575872696115,
          0.007435288398825041,
          0.06969245005336125,
          0.12720018640898012,
          0.1760394402690741,
          0.21288189719376077,
          0.23521680462866165,
          0.24152207554226793,
          0.2313680161417702,
          0.20544660879493576,
          0.1655243545753004,
          -0.19522220798358766,
          -0.1304294797538284,
          -0.056748198023752375,
          0.020800379620811132,
          0.09693144576846886,
          0.16645679407379346,
          0.22463838694584767,
          0.2675112449800292,
          0.29215365375205654,
          0.2968862738276219,
          0.2813865849696,
          0.24671086535921816,
          0.19522220798358766
         ],
         "v": [
          0.9675519542969423,
          0.9393797561912244,
          0.8471903800995216,
          0.6972663796523361,
          0.4998248277190182,
          0.2683210397762318,
          0.01853161639417883,
          -0.23252070602019312,
          -0.4677271265779239,
          -0.6710587164149927,
          -0.8286587637053425,
          -0.9297870856725291,
          -0.9675519542969423,
          0.9683067268644507,
          0.9394806250059448,
          0.8466304711184242,
          0.6960838497471891,
          0.49810026434863464,
          0.2661719690843275,
          0.01610449399689987,
          -0.23506047574248162,
          -0.47020646251581594,
          -0.6733086559216173,
          -0.830525977121524,
          -0.9311443254896707,
          -0.9683067268644507,
          0.969075738532467,
          0.9395886565893738,
          0.8460701604433861,
          0.6948933810602307,
          0.49636076612342944,
          0.2640019852502666,
          0.013651905366206543,
          -0.2376285293077199,
          -0.47271497240903737,
          -0.6755866713391074,
          -0.8324182550771794,
          -0.9325219103679506,
          -0.969075738532467,
          0.9698591998184137,
          0.9397045884556532,
          0.8455106623248977,
          0.693696581829135,
          0.4946082256695215,
          0.26181313630927006,
          0.011175914376206589,
          -0.2402229276525234,
          -0.47525097414889206,
          -0.6778914521463832,
          -0.8343347479486908,
          -0.9339195094816585,
          -0.9698591998184137,
          0.9706573041243706,
          0.9398292370346112,
          0.8449533605821924,
          0.6924953089575471,
          0.4928448464300524,
          0.2596078220829676,
          0.008678953683139232,
          -0.24284137106754577,
          -0.477812457694318,
          -0.6802214149516436,
          -0.8362744068990529,
          -0.9353366800250928,
          -0.9706573041243706,
          0.9714702238578323,
          0.9399635061005669,
          0.8443998287656873,
          0.6912916985371215,
          0.491073181466798,
          0.25738883861631545,
          0.006163871769298034,
          -0.2454811527525171,
          -0.48039704239103415,
          -0.6825746674842516,
          -0.8382359569963891,
          -0.9367728512896386,
          -0.9714702238578323,
          0.9722981059298758,
          0.9401083960435274,
          0.8438518525693938,
          0.6900881998737779,
          0.4892961767814358,
          0.25515942784160295,
          0.003633985565256298,
          -0.24813910682191723,
          -0.4830019291484398,
          -0.6849489682019244,
          -0.8402178670041373,
          -0.9382273066956952,
          -0.9722981059298758,
          0.9731410665316614,
          0.9402650140449561,
          0.843311454712492,
          0.6888876133794437,
          0.48751721963519495,
          0.2529233330331061,
          0.00109313926038118,
          -0.2508115501464404,
          -0.4856238468964663,
          -0.6873416810118502,
          -0.8422183154521106,
          -0.9396991635258842,
          -0.9731410665316614,
          0.973999185073583,
          0.9404345852177127,
          0.8427809225208897,
          0.6876931327155944,
          0.48574019238236726,
          0.2506848606619039,
          -0.0014542300363485788,
          -0.2534942173608524,
          -0.48825899269121553,
          -0.6897497245558089,
          -0.8442351525572379,
          -0.9411873500764468,
          -0.973999185073583,
          0.9820249981541127,
          0.9477913815959267,
          0.8489673486812934,
          0.6922875939389092,
          0.4884295837289302,
          0.2512859045558761,
          -0.0029824937430693328,
          -0.2570476400222283,
          -0.49359541442518234,
          -0.6965054770400506,
          -0.8519498424243626,
          -0.9493352339611375,
          -0.9820249981541127,
          0.9886762745605191,
          0.9540051790065016,
          0.8543202070712919,
          0.6964147248550695,
          0.4910497300197224,
          0.2522205075815792,
          -0.003797125634152477,
          -0.2595559910129632,
          -0.4976265445407965,
          -0.7017846714249224,
          -0.8581173327054441,
          -0.9559707158680327,
          -0.9886762745605191,
          0.9938598032730769,
          0.9589959659229733,
          0.8587781383109855,
          0.7000359997710793,
          0.4935875647109624,
          0.2535019528078114,
          -0.0038593982474075016,
          -0.2609577376900225,
          -0.5002722385621143,
          -0.705494013115162,
          -0.8626375365583928,
          -0.960993737461102,
          -0.9938598032730769,
          0.9974996759680154,
          0.9626970345782043,
          0.8622881812139602,
          0.7031158132985802,
          0.4960272646607226,
          0.2551352776600496,
          -0.0031437568821742305,
          -0.2612085495881816,
          -0.5014724113072926,
          -0.7075617569181547,
          -0.8654319380961342,
          -0.9643243628867619,
          -0.9974996759680154,
          0.9995401662297693,
          0.9650573502920181,
          0.8648074707645437,
          0.7056223912663837,
          0.4983503118995566,
          0.2571164823396045,
          -0.0016394105867146738,
          -0.2602835803908031,
          -0.5011898543302126,
          -0.7079408679524137,
          -0.866446881351258,
          -0.9659059716571868,
          -0.9995401662297693,
          0.999947934527314,
          0.966043439649436,
          0.8663046808217161,
          0.7075286896321713,
          0.5005357874906378,
          0.25943219860611627,
          0.0006487341185670173,
          -0.2581789405270785,
          -0.4994121470366761,
          -0.7066112410433196,
          -0.8656559467031488,
          -0.9657076301592499,
          -0.999947934527314,
          0.9987133930909742,
          0.9656406635517731,
          0.8667611185881672,
          0.7088132357832517,
          0.5025609023289641,
          0.26205987390211716,
          0.003699898143258806,
          -0.2549122195596917,
          -0.4961524907620099,
          -0.703580789649656,
          -0.8630612204449082,
          -0.9637254553429434,
          -0.9987133930909742,
          0.9958511240792898,
          0.9638537812521533,
          0.8661713960763684,
          0.7094608616738906,
          0.5044017419878458,
          0.2649684771486205,
          0.0074780484728285595,
          -0.250521996848327,
          -0.4914493820914438,
          -0.6988853041035329,
          -0.8586933476035397,
          -0.9599828585222175,
          -0.9958511240792898,
          0.9975296704884938,
          0.9642821923977601,
          0.8653204764467876,
          0.707388600035667,
          0.5012493595470503,
          0.26095080355903466,
          0.002868881550063338,
          -0.25540854999549367,
          -0.4962803109414434,
          -0.7033313888387255,
          -0.8624515948967241,
          -0.9627971500311607,
          -0.9975296704884938,
          0.9987948711551254,
          0.9647427397671196,
          0.8649449849767437,
          0.7062026588493739,
          0.49933378857649363,
          0.2584361458002272,
          -0.00007349322640068984,
          -0.25857812381110246,
          -0.49946108257863164,
          -0.7063065939668924,
          -0.865018478203144,
          -0.9647807826604765,
          -0.9987948711551254,
          0.999621422617334,
          0.9652427083026162,
          0.8650842985560712,
          0.705971823482328,
          0.4987485353118648,
          0.2575363586808232,
          -0.0012264951953610305,
          -0.25990576545086036,
          -0.5008728873054691,
          -0.707706349621793,
          -0.866310793751432,
          -0.9658775889331883,
          -0.999621422617334,
          0.999984494230876,
          0.9657838511762089,
          0.8657666346971604,
          0.7067488528105121,
          0.49956730456252985,
          0.25834107008261653,
          -0.0004906813946232608,
          -0.2592889937457086,
          -0.5004171896683459,
          -0.7074427810935926,
          -0.8662573160917835,
          -0.9660378465562208,
          -0.999984494230876,
          0.9998599906952427,
          0.9663613788465956,
          0.8670068360172398,
          0.7085672101098505,
          0.5018398997961546,
          0.26091302964099744,
          0.0022053676949743218,
          -0.25665258641491867,
          -0.4980200908990879,
          -0.7054483492055982,
          -0.8648014683222653,
          -0.9652197965247691,
          -0.9998599906952427,
          0.9992248300653234,
          0.9669632611814625,
          0.8688047440304294,
          0.7114386193414473,
          0.5055891284522535,
          0.26528457398457844,
          0.006901314203341117,
          -0.2519522587358927,
          -0.49363570161306974,
          -0.7016786871968841,
          -0.861903429827088,
          -0.96339087807734,
          -0.9992248300653234,
          0.9980572332355324,
          0.9675699338820263,
          0.8711443425193783,
          0.7153517038481289,
          0.5108090287342154,
          0.271455562463898,
          0.013602848213193323,
          -0.24517687766347074,
          -0.48724820450131684,
          -0.6961143714181283,
          -0.8575414943061848,
          -0.9605285815115997,
          -0.9980572332355324,
          0.9963370200403938,
          0.9681544615333831,
          0.8739937764237684,
          0.7202718597938801,
          0.5174646062245669,
          0.27939299489174424,
          0.02228121267580384,
          -0.23634899736254747,
          -0.4788724138158268,
          -0.688761466641639,
          -0.8517125637479643,
          -0.9566208571564276,
          -0.9963370200403938,
          0.9994440143769295,
          0.9668903441809671,
          0.8684446948909149,
          0.7108159748167624,
          0.5047463207377868,
          0.2642790390332652,
          0.005801577560388286,
          -0.2530712518356687,
          -0.4946976936391426,
          -0.7026113051477019,
          -0.8626431173305263,
          -0.9638872266524311,
          -0.9994440143769295,
          0.999898030011482,
          0.9654910368951521,
          0.8652874251637963,
          0.7061159053626083,
          0.4988237535226657,
          0.2575375872253827,
          -0.0012993400403244696,
          -0.26004771942954424,
          -0.5010742764888161,
          -0.7079534496697695,
          -0.8665867652041206,
          -0.9661636247921525,
          -0.999898030011482,
          0.9983375089997604,
          0.9641194624519364,
          0.8641982678207576,
          0.7053833893927571,
          0.4984977986788076,
          0.2576404067914607,
          -0.0007747530478211763,
          -0.2591371147472338,
          -0.4998397103209526,
          -0.7064790556604758,
          -0.8649730208685786,
          -0.9645205041399909,
          -0.9983375089997604,
          0.995277845271745,
          0.9628095080146908,
          0.864727293904378,
          0.7077153437439017,
          0.5024737624621827,
          0.26298942464582004,
          0.005582792150417785,
          -0.25220429840403497,
          -0.49280408280956217,
          -0.6998200833688708,
          -0.8591445017539601,
          -0.9599196421479367,
          -0.995277845271745,
          0.9911275128543184,
          0.9615341205339957,
          0.8664137669095464,
          0.7122487468866596,
          0.5095451518101543,
          0.27211689670096434,
          0.01614432477603755,
          -0.24092845620261785,
          -0.481582361044164,
          -0.6894172238330314,
          -0.8502694421335086,
          -0.9531772030892776,
          -0.9911275128543184,
          0.9862057027022458,
          0.9602487257796462,
          0.8688523850812134,
          0.7182451901859513,
          0.518690772535815,
          0.2837884359143931,
          0.029546386367969718,
          -0.22670920058171845,
          -0.46751493016643075,
          -0.6764602898652531,
          -0.8393059987132435,
          -0.94495439076767,
          -0.9862057027022458,
          0.9807590374347885,
          0.958913514297244,
          0.8717196198398509,
          0.7251194738751569,
          0.5291036340824599,
          0.29703025601214106,
          0.04471475686030151,
          -0.21064797907693777,
          -0.45165540335232846,
          -0.661883258285103,
          -0.8270048629795492,
          -0.9357674529520946,
          -0.9807590374347885
         ],
         "w": [
          6.106742960381087e-17,
          0.25812199612048276,
          0.49865340477212194,
          0.7052024079522557,
          0.8636930324325242,
          0.9633244040727383,
          0.9973068095442441,
          0.9633244040727384,
          0.8636930324325243,
          0.7052024079522557,
          0.4986534047721224,
          0.258121996120483,
          6.106742960381087e-17,
          6.110492005726861e-17,
          0.258280462110369,
          0.49895953755656103,
          0.7056353450878965,
          0.8642232699690352,
          0.9639158071982653,
          0.9979190751131223,
          0.9639158071982654,
          0.8642232699690353,
          0.7056353450878965,
          0.49895953755656147,
          0.2582804621103692,
          6.110492005726861e-17,
          6.113856036572612e-17,
          0.2584226541696303,
          0.4992342315212284,
          0.7060238210182311,
          0.8646990538723717,
          0.9644464751878613,
          0.9984684630424571,
          0.9644464751878614,
          0.8646990538723718,
          0.7060238210182311,
          0.49923423152122887,
          0.2584226541696305,
          6.113856036572612e-17,
          6.116789994549578e-17,
          0.2585466677550163,
          0.4994738073710986,
          0.7063626324343346,
          0.8651140114166133,
          0.9649093001893508,
          0.9989476147421974,
          0.964909300189351,
          0.8651140114166134,
          0.7063626324343346,
          0.49947380737109903,
          0.2585466677550165,
          6.116789994549578e-17,
          6.119244518574951e-17,
          0.2586504164546203,
          0.49967423446788134,
          0.7066460791528718,
          0.8654611613314546,
          0.965296495607492,
          0.9993484689357629,
          0.9652964956074921,
          0.8654611613314547,
          0.7066460791528718,
          0.4996742344678818,
          0.2586504164546205,
          6.119244518574951e-17,
          6.121165556231744e-17,
          0.2587316155615437,
          0.4998310990967793,
          0.706867919238516,
          0.8657328588386163,
          0.9655995348000596,
          0.9996621981935588,
          0.9655995348000597,
          0.8657328588386164,
          0.706867919238516,
          0.49983109909677975,
          0.25873161556154395,
          6.121165556231744e-17,
          6.122493945027169e-17,
          0.2587877643743763,
          0.49993957027364017,
          0.7070213206479592,
          0.8659207364280961,
          0.9658090850223353,
          0.9998791405472806,
          0.9658090850223354,
          0.8659207364280962,
          0.7070213206479592,
          0.4999395702736406,
          0.2587877643743765,
          6.122493945027169e-17,
          6.123164962633898e-17,
          0.2588161271866323,
          0.4999943630193687,
          0.7070988092920881,
          0.8660156402475842,
          0.9659149364787203,
          0.9999887260387377,
          0.9659149364787204,
          0.8660156402475843,
          0.7070988092920881,
          0.49999436301936917,
          0.25881612718663255,
          6.123164962633898e-17,
          6.12310784562894e-17,
          0.2588137129446333,
          0.49998969906197316,
          0.7070922134602851,
          0.8660075620364107,
          0.9659059264049181,
          0.9999793981239465,
          0.9659059264049182,
          0.8660075620364108,
          0.7070922134602851,
          0.4999896990619736,
          0.2588137129446335,
          6.12310784562894e-17,
          6.122469528314759e-17,
          0.2587867323200411,
          0.49993757649776727,
          0.7070185010230794,
          0.8659172831069853,
          0.9658052333431204,
          0.9998751529955348,
          0.9658052333431205,
          0.8659172831069855,
          0.7070185010230794,
          0.4999375764977677,
          0.25878673232004135,
          6.122469528314759e-17,
          6.12127345034105e-17,
          0.25873617606835464,
          0.4998399093193986,
          0.7068803787748317,
          0.8657481185918189,
          0.9656165548431862,
          0.9996798186387974,
          0.9656165548431863,
          0.865748118591819,
          0.7068803787748317,
          0.49983990931939903,
          0.25873617606835486,
          6.12127345034105e-17,
          6.119507974699734e-17,
          0.2586615523123533,
          0.49969574729304583,
          0.7066765028819845,
          0.8654984226376538,
          0.9653380551943377,
          0.9993914945860919,
          0.9653380551943378,
          0.8654984226376539,
          0.7066765028819845,
          0.4996957472930463,
          0.25866155231235355,
          6.119507974699734e-17,
          6.117172486580725e-17,
          0.25856283506502437,
          0.49950504021565545,
          0.7064068023466984,
          0.8651681082902507,
          0.9649696374117227,
          0.9990100804313111,
          0.9649696374117228,
          0.8651681082902508,
          0.7064068023466984,
          0.4995050402156559,
          0.2585628350650246,
          6.117172486580725e-17,
          6.114278016949433e-17,
          0.2584404905871601,
          0.4992686888339095,
          0.7060725510171477,
          0.8647587356886276,
          0.9645130416043076,
          0.9985373776678192,
          0.9645130416043077,
          0.8647587356886277,
          0.7060725510171477,
          0.49926868883390996,
          0.25844049058716034,
          6.114278016949433e-17,
          6.110847304186994e-17,
          0.2582954799927889,
          0.4989885498775322,
          0.7056763747056899,
          0.8642735207830028,
          0.9639718546984787,
          0.9979770997550647,
          0.9639718546984788,
          0.8642735207830029,
          0.7056763747056899,
          0.49898854987753266,
          0.2582954799927891,
          6.110847304186994e-17,
          6.106914259880568e-17,
          0.2581292366690088,
          0.49866739243775743,
          0.7052221894987033,
          0.8637172597800842,
          0.963351426167712,
          0.9973347848755151,
          0.9633514261677121,
          0.8637172597800843,
          0.7052221894987033,
          0.4986673924377579,
          0.258129236669009,
          6.106914259880568e-17,
          6.10252285976056e-17,
          0.25794361939772453,
          0.49830880740548,
          0.7047150736827926,
          0.863096172285346,
          0.9626586930805171,
          0.9966176148109602,
          0.9626586930805172,
          0.8630961722853461,
          0.7047150736827926,
          0.49830880740548045,
          0.25794361939772475,
          6.10252285976056e-17,
          6.118125310134772e-17,
          0.25860310935187697,
          0.499582844163268,
          0.7065168337446183,
          0.8653028686805451,
          0.9651199430964951,
          0.9991656883265362,
          0.9651199430964952,
          0.8653028686805452,
          0.7065168337446183,
          0.4995828441632684,
          0.2586031093518772,
          6.118125310134772e-17,
          6.123227130681731e-17,
          0.25881875492791856,
          0.4999994394257151,
          0.7071059884147913,
          0.8660244328412959,
          0.9659247433427097,
          0.9999988788514305,
          0.9659247433427098,
          0.866024432841296,
          0.7071059884147913,
          0.49999943942571556,
          0.2588187549279188,
          6.123227130681731e-17,
          6.117147097655409e-17,
          0.25856176191684627,
          0.4995029670525741,
          0.7064038704513517,
          0.8651645174664614,
          0.9649656323681979,
          0.9990059341051484,
          0.964965632368198,
          0.8651645174664615,
          0.7064038704513517,
          0.4995029670525745,
          0.2585617619168465,
          6.117147097655409e-17,
          6.099417628473755e-17,
          0.25781236637080557,
          0.49805524602852064,
          0.7043564837446027,
          0.8626569910976152,
          0.9621688501154081,
          0.9961104920570415,
          0.9621688501154082,
          0.8626569910976153,
          0.7043564837446027,
          0.4980552460285211,
          0.2578123663708058,
          6.099417628473755e-17,
          6.069820040293536e-17,
          0.2565613249251454,
          0.49563841954427834,
          0.7009385749526847,
          0.8584709248338295,
          0.95749989987783,
          0.9912768390885569,
          0.9574998998778301,
          0.8584709248338296,
          0.7009385749526847,
          0.4956384195442788,
          0.2565613249251456,
          6.069820040293536e-17,
          6.028407036563455e-17,
          0.25481086526809016,
          0.4922567911630248,
          0.6961562302330102,
          0.8526137726651815,
          0.9509670955011003,
          0.9845135823260498,
          0.9509670955011004,
          0.8526137726651816,
          0.6961562302330102,
          0.49225679116302523,
          0.2548108652680904,
          6.028407036563455e-17,
          5.975509485823504e-17,
          0.25257497266945544,
          0.4879373783513651,
          0.690047658053273,
          0.8451323302165229,
          0.9426226307227282,
          0.9758747567027304,
          0.9426226307227283,
          0.845132330216523,
          0.690047658053273,
          0.4879373783513655,
          0.25257497266945567,
          5.975509485823504e-17,
          5.91172623979222e-17,
          0.24987895960791803,
          0.48272908106306184,
          0.6826820133912834,
          0.8361112946922584,
          0.9325609729992014,
          0.9654581621261239,
          0.9325609729992015,
          0.8361112946922585,
          0.6826820133912834,
          0.4827290810630623,
          0.24987895960791826,
          5.91172623979222e-17,
          6.029823526390983e-17,
          0.25487073796686555,
          0.49237245633509835,
          0.6963198054880508,
          0.852814110619879,
          0.9511905434549163,
          0.9847449126701969,
          0.9511905434549164,
          0.8528141106198791,
          0.6963198054880508,
          0.4923724563350988,
          0.25487073796686577,
          6.029823526390983e-17,
          6.09783491844383e-17,
          0.25774546781705043,
          0.49792600794689373,
          0.7041737134967908,
          0.8624331441739647,
          0.9619191813138411,
          0.9958520158937877,
          0.9619191813138412,
          0.8624331441739648,
          0.7041737134967908,
          0.4979260079468942,
          0.25774546781705066,
          6.09783491844383e-17,
          6.122680812613632e-17,
          0.2587956629603723,
          0.49995482917004963,
          0.7070428999862083,
          0.8659471656119447,
          0.9658385629465804,
          0.9999096583400995,
          0.9658385629465805,
          0.8659471656119448,
          0.7070428999862083,
          0.4999548291700501,
          0.25879566296037254,
          6.122680812613632e-17,
          6.113097921376991e-17,
          0.2583906098853281,
          0.49917232671764356,
          0.7059362744054254,
          0.8645918316073301,
          0.9643268842907533,
          0.9983446534352873,
          0.9643268842907534,
          0.8645918316073302,
          0.7059362744054254,
          0.499172326717644,
          0.2583906098853283,
          6.113097921376991e-17,
          6.077896559570522e-17,
          0.2569027061312984,
          0.4962979173915441,
          0.7018712457526438,
          0.859613208612776,
          0.9587739518839421,
          0.9925958347830884,
          0.9587739518839422,
          0.8596132086127761,
          0.7018712457526438,
          0.49629791739154455,
          0.2569027061312986,
          6.077896559570522e-17,
          6.024892377586567e-17,
          0.2546623064050951,
          0.49196979747804265,
          0.695750359871393,
          0.852116685021341,
          0.950412666276488,
          0.9839395949560855,
          0.9504126662764881,
          0.8521166850213411,
          0.695750359871393,
          0.4919697974780431,
          0.2546623064050953,
          6.024892377586567e-17,
          5.960452296896598e-17,
          0.2519385300212236,
          0.4867078655696072,
          0.6883088644021998,
          0.8430027516099629,
          0.9402473944234233,
          0.9734157311392146,
          0.9402473944234234,
          0.843002751609963,
          0.6883088644021998,
          0.48670786556960766,
          0.2519385300212238,
          5.960452296896598e-17
         ],
         "x": [
          0.7470818569633382,
          0.7403378327820117,
          0.72974860532629,
          0.7160358129477551,
          0.7001339597855432,
          0.6831267308536039,
          0.6661731406978744,
          0.6504285484703352,
          0.6369659221121242,
          0.6267027173615115,
          0.6203383546615037,
          0.6183065548124994,
          0.6207457816165005,
          0.8814649125749858,
          0.875297426430085,
          0.8652949923910206,
          0.8521392598077513,
          0.8367267701149507,
          0.8201078590148396,
          0.8034150778348416,
          0.7877860120262483,
          0.7742857565956629,
          0.7638343316404527,
          0.757143984499519,
          0.7546706512741951,
          0.7565828855364103,
          1.0138836076878737,
          1.0083125259242682,
          0.9989169734062829,
          0.9863372415111337,
          0.971430618178485,
          0.955212965154097,
          0.938789488690643,
          0.9232794215680293,
          0.9097397492290642,
          0.8990931779682816,
          0.8920652540228129,
          0.8891349187953485,
          0.890501869789032,
          1.1443368449925717,
          1.1393828855395083,
          1.1306151709771568,
          1.1186312065636077,
          1.1042476796692071,
          1.0884448038819061,
          1.0722995190711222,
          1.0569120997153658,
          1.0433311730148187,
          1.032482256680581,
          1.0251046864321487,
          1.0217012314899412,
          1.0225038316837949,
          1.2728234581790756,
          1.2685082252101023,
          1.2603902103682554,
          1.249022642949353,
          1.2351802038871995,
          1.219806232528169,
          1.2039484396136904,
          1.1886875075246435,
          1.175063443563014,
          1.1640047051729567,
          1.156264927100325,
          1.1523715624301805,
          1.1525899375307043,
          1.3993422065591008,
          1.3956882252805758,
          1.3882427147409073,
          1.3775130741790855,
          1.3642305108678294,
          1.3493002095463273,
          1.33373964557615,
          1.3186092456768175,
          1.3049401215973009,
          1.2936638015543236,
          1.285548748123815,
          1.2811479887863042,
          1.2807614280180437,
          1.5238917691914096,
          1.5209225204500565,
          1.5141732993292558,
          1.504104054094775,
          1.4914009871691294,
          1.4769297915704913,
          1.4616766553641258,
          1.446681054575498,
          1.4329649146169505,
          1.4214629677596655,
          1.412959052674101,
          1.4080326971199537,
          1.4070196240870518,
          1.6464707384575081,
          1.6442106927877844,
          1.6381825643715662,
          1.6287971601984652,
          1.616694080052765,
          1.6026981288451092,
          1.5877631075208967,
          1.5729068131020825,
          1.5591416775021218,
          1.5474057719641898,
          1.5384988790561955,
          1.5330279888104823,
          1.531365933356222,
          1.7670776130288572,
          1.7655522636796974,
          1.7602710865850104,
          1.7515939852362408,
          1.7401122897507193,
          1.7266084587013857,
          1.7120027558581157,
          1.697290535732613,
          1.6834744118133376,
          1.6714959301131633,
          1.6621714043645806,
          1.6561362855878476,
          1.6538018571540933,
          1.8781562405643897,
          1.8775523938161434,
          1.8737739327147083,
          1.867078353139945,
          1.8579219477749052,
          1.846928710513541,
          1.8348478123080307,
          1.822502546406452,
          1.8107342222784804,
          1.8003448317653625,
          1.7920423946612873,
          1.7863927083344717,
          1.78378078957154,
          1.9889693133917274,
          1.9893096944716377,
          1.987070224604832,
          1.982403519961834,
          1.9756276087519702,
          1.96720425812647,
          1.957707505510216,
          1.9477845388998805,
          1.93811159207148,
          1.9293478603660694,
          1.9220905776166213,
          1.9168343156492837,
          1.913937280030747,
          2.0995557541368455,
          2.1008562738034753,
          2.100183067826137,
          2.097582014079662,
          2.0932303700784267,
          2.0874246931696847,
          2.080560630640431,
          2.0731059570086354,
          2.065568695962874,
          2.058462499387502,
          2.0522716428355867,
          2.047418022950266,
          2.0442324059057397,
          2.2099586259692194,
          2.2122277653613214,
          2.213138237940958,
          2.2126279965064533,
          2.2107318131683553,
          2.207578909687564,
          2.203384151225877,
          2.198433403640291,
          2.1930640521972666,
          2.1876420093243736,
          2.18253677828305,
          2.1780962721319685,
          2.174623104027042,
          2.32022428524557,
          2.3234626842706922,
          2.325963784101449,
          2.327557138917637,
          2.3281341642216766,
          2.327655536692677,
          2.3261538740057692,
          2.3237315119914523,
          2.320553530617859,
          2.3168365040637364,
          2.312833741546072,
          2.308818024715567,
          2.3050630180379335,
          2.4304013588754523,
          2.434601639105941,
          2.4386895291395296,
          2.4423864460259868,
          2.4454404509889445,
          2.447643418637159,
          2.448845220365981,
          2.448963955373662,
          2.4479915320656476,
          2.4459942194833735,
          2.4431081311786067,
          2.4395299492998306,
          2.4355035210288585,
          2.5405395959310524,
          2.5456864345199652,
          2.551346484370799,
          2.557134022439895,
          2.5626546375722015,
          2.567532108969701,
          2.5714340450170563,
          2.5740945352208944,
          2.575332271570491,
          2.575062904379078,
          2.573304790575599,
          2.5701777427103414,
          2.5658948639276313,
          2.6506886552771713,
          2.656759109779657,
          2.663966204557675,
          2.671818788012391,
          2.6797817195583735,
          2.6873123385701305,
          2.6938974458069476,
          2.6990882770930393,
          2.702531085854513,
          2.7039912503637846,
          2.7033692628225836,
          2.7007075106539595,
          2.696187387869451,
          2.7756158263529622,
          2.7788502549733947,
          2.783061056620157,
          2.787961272119702,
          2.7932169598837238,
          2.7984699534765394,
          2.8033622700657808,
          2.8075605063608267,
          2.810778559496083,
          2.812797124468466,
          2.8134786394109446,
          2.8127766602064455,
          2.8107390255776794,
          2.8997281587250305,
          2.900049471205281,
          2.9011850598697437,
          2.903057536227584,
          2.9055392941094285,
          2.9084612058169284,
          2.9116241478959046,
          2.914812571070685,
          2.9178091895710256,
          2.9204097887982745,
          2.9224371422127886,
          2.9237530890297285,
          2.924267949648225,
          3.023021445996663,
          3.0203725464800413,
          3.018372920786166,
          3.017158840101536,
          3.0168130420184465,
          3.0173590921048015,
          3.0187597779496067,
          3.0209196451272806,
          3.0236915022590147,
          3.0268864518619916,
          3.0302867634006723,
          3.0336607112629763,
          3.0367783664777996,
          3.1454907874060005,
          3.1398369878937467,
          3.1346633612437604,
          3.130322481562416,
          3.127110172626355,
          3.1252453479809774,
          3.124855092344098,
          3.1259660009924417,
          3.1285023673374877,
          3.132291342204364,
          3.1370747132174706,
          3.1425265015471586,
          3.1482751768282657,
          3.267130574540431,
          3.2584613870830803,
          3.25009790593919,
          3.242610088527411,
          3.2365082172301527,
          3.232208124492504,
          3.230002854528296,
          3.230042692841209,
          3.2323249245160537,
          3.236694019235756,
          3.242852230415438,
          3.25037988614013,
          3.258763989112233,
          3.3879344864360608,
          3.376264649418287,
          3.3647193982070993,
          3.3540855225931105,
          3.3450877036261035,
          3.338339127799081,
          3.334299699402106,
          3.333244698804961,
          3.335246022554871,
          3.3401672837456227,
          3.347673106559835,
          3.3572519815766793,
          3.3682511242935957,
          3.507895494089074,
          3.493265142117451,
          3.478570349791913,
          3.4648125429251517,
          3.4529292933192868,
          3.443730424796959,
          3.437842825046116,
          3.4356677242600595,
          3.4373533519628348,
          3.4427848354121298,
          3.451592027986825,
          3.46317473406753,
          3.47674361137617,
          3.6270058752708305,
          3.6094798297186976,
          3.591691255893282,
          3.5748524157037775,
          3.5601108482815995,
          3.548471167084977,
          3.540726597151978,
          3.537404918125029,
          3.538732496940482,
          3.5446188612959926,
          3.554662865188409,
          3.5681800263509644,
          3.5842491725885957,
          3.7296691117309684,
          3.71813245031274,
          3.706813949611841,
          3.69648494674633,
          3.687849346192008,
          3.6814956498556466,
          3.67785685164259,
          3.6771809296376587,
          3.6795139468084757,
          3.684696911890342,
          3.6923766143781847,
          3.7020296952387644,
          3.712998312963903,
          3.839185013521694,
          3.8334199242643296,
          3.828291012581576,
          3.824147805328685,
          3.8212726552329683,
          3.8198614990220383,
          3.820010504659624,
          3.821709517657768,
          3.8248427530883973,
          3.829196686134832,
          3.8344746034551713,
          3.8403168237062055,
          3.846325209232552,
          3.955482049518025,
          3.955104761066063,
          3.955735179498272,
          3.957330342840312,
          3.9597815433465557,
          3.9629217357533024,
          3.966536921137446,
          3.9703807305894334,
          3.9741912148473073,
          3.977708695706016,
          3.980693462657951,
          3.9829421087678982,
          3.9843013925195283,
          4.078476780684051,
          4.083007558905793,
          4.088883311710566,
          4.095703616254865,
          4.1030036800550835,
          4.11028601582716,
          4.11705434442286,
          4.122847415433574,
          4.127270440643428,
          4.130021998193763,
          4.130914573984689,
          4.129887340451104,
          4.127010301860739,
          4.208081957527213,
          4.217003764152186,
          4.227582039572492,
          4.239095891799662,
          4.250760670831957,
          4.261781441255284,
          4.271407155777976,
          4.27898183786256,
          4.283989285442723,
          4.286088249241076,
          4.2851356883434635,
          4.281196518200876,
          4.274539186748745,
          4.3442117249717045,
          4.357012341332208,
          4.371760669647355,
          4.3874516357152356,
          4.4030159261288695,
          4.417392860217775,
          4.4296026736827985,
          4.43881328791397,
          4.4443970147726946,
          4.445973332501096,
          4.443434817650972,
          4.436954465814264,
          4.426973902259355,
          4.486784713709148,
          4.502982895766587,
          4.521403216199107,
          4.540790360610248,
          4.559823127147162,
          4.577204464223493,
          4.591749862441507,
          4.602468076950052,
          4.608628679143059,
          4.60981183416195,
          4.6059369119474445,
          4.597267982044849,
          4.584395817700941
         ],
         "y": [
          0.8668472776266998,
          0.8598042281002704,
          0.8367568840773446,
          0.7992758839655483,
          0.7499154959822187,
          0.6920395489965222,
          0.6295921931510089,
          0.566829112547416,
          0.5080275074079832,
          0.4571946099487161,
          0.4177945981261286,
          0.3925125176343319,
          0.3830713004782287,
          0.8319676196157628,
          0.8247610941511364,
          0.8015485556792562,
          0.7639119003364474,
          0.7144160039868088,
          0.656433930170732,
          0.5939170613988751,
          0.5311258189640298,
          0.4723393222706962,
          0.4215637739192459,
          0.3822594436192692,
          0.3571048565272325,
          0.3478142561835375,
          0.7980286315667883,
          0.790656861081015,
          0.7672772370445181,
          0.7294830421987293,
          0.6798498884645289,
          0.6217601932462382,
          0.5591726732752232,
          0.4963525646067416,
          0.4375809538314122,
          0.3868630290988947,
          0.3476551331643767,
          0.32262921934168387,
          0.31349076230055484,
          0.7650303661091316,
          0.7574917132684413,
          0.7339432317357525,
          0.6959897116118119,
          0.6462176225719085,
          0.5880188502318456,
          0.5253595447485797,
          0.46250983424139724,
          0.40375282261730505,
          0.3530927031179323,
          0.3139818791673554,
          0.28908568878411345,
          0.28010076619992463,
          0.7329728715933126,
          0.7252658548208727,
          0.701546885707768,
          0.6634323728016067,
          0.6135197571697331,
          0.5552105010829618,
          0.49247828398300475,
          0.42959820279533345,
          0.3708554311386404,
          0.320253191824309,
          0.2812399438374567,
          0.2564743755559467,
          0.24764421953112728,
          0.7018561911212051,
          0.6939795116818888,
          0.6700885923481688,
          0.6318115597910273,
          0.5817569305234465,
          0.5233358448108258,
          0.4605296030990715,
          0.3976183469686177,
          0.33888937455898843,
          0.2883449682856841,
          0.2494296459076497,
          0.22479542233433733,
          0.2161210791922889,
          0.6716803614205783,
          0.6636329339489913,
          0.6395687980804579,
          0.6011278849065539,
          0.5509298791334684,
          0.4923956918985101,
          0.42951433132942346,
          0.3665710582326301,
          0.30785535265099945,
          0.25736859288762826,
          0.21855136818707507,
          0.19404900826418559,
          0.18553130845564045,
          0.6424454115392224,
          0.634226398417546,
          0.60998800858443,
          0.571382048251168,
          0.5210394498151057,
          0.4623909781645835,
          0.39943342972140233,
          0.3364572573696969,
          0.2777541831821905,
          0.22732472465334447,
          0.18860556604327938,
          0.16423535402483597,
          0.15587487827339166,
          0.6141513613297356,
          0.6057602113657681,
          0.5813467956915622,
          0.5425748482402384,
          0.49208661315693164,
          0.4333227802268158,
          0.3702880075522527,
          0.3072780107211267,
          0.24858681688853596,
          0.19821413392238763,
          0.15959277692203036,
          0.13535472754222813,
          0.1271517687929441,
          0.5905567510207061,
          0.5819983468811596,
          0.5572923386525013,
          0.5181223999669052,
          0.4671578974144105,
          0.40787197762114696,
          0.3443048780464106,
          0.28078859147662083,
          0.22165164787588232,
          0.17092413222216526,
          0.13206304087608728,
          0.10771669299189354,
          0.09954425194364974,
          0.5714964288879207,
          0.5628286549994164,
          0.537907412015614,
          0.49843104146155837,
          0.44708979275272165,
          0.3873824871431858,
          0.3233780788392529,
          0.2594383624945502,
          0.19992072411259187,
          0.14888119239156042,
          0.10979802707143,
          0.08533468128078284,
          0.07715829160766124,
          0.5569470921764486,
          0.5482311328389227,
          0.5231766759359258,
          0.48349114130094917,
          0.43187903253591997,
          0.37185762956013224,
          0.3075172917963275,
          0.24324270693567374,
          0.18341408171765078,
          0.13210863807938886,
          0.09282275721858116,
          0.06823370699290388,
          0.06001719053991014,
          0.5468897638053466,
          0.5381891034578938,
          0.5130868901168328,
          0.47329379813798783,
          0.42152166097852345,
          0.3612986642283552,
          0.29672890559279924,
          0.23221270741629738,
          0.17214674198651964,
          0.1206244055838041,
          0.08115686028930924,
          0.0564337540916523,
          0.04813992582133894,
          0.5413105121707236,
          0.5326898081862859,
          0.5076273383044172,
          0.4678310684298772,
          0.41601304858817045,
          0.35570459119818243,
          0.29101561796660264,
          0.2263545755155805,
          0.16612800703072814,
          0.11444025362517785,
          0.07481375027546677,
          0.04994897769898457,
          0.04154042905583896,
          0.5402010023898234,
          0.5317248786703539,
          0.5067901889634239,
          0.46709619116603773,
          0.41534796563065435,
          0.355072068409524,
          0.29037620228763666,
          0.2256692836262253,
          0.16536098199882587,
          0.113561208497165,
          0.0738000320822077,
          0.04878711121818244,
          0.040227035126166405,
          0.5435588375202272,
          0.535290655135427,
          0.5105707688945255,
          0.4710837981932966,
          0.4195207148297247,
          0.35939545772301296,
          0.29480546378329836,
          0.23015243435756075,
          0.1698423665569812,
          0.11798529183506967,
          0.07811518413625662,
          0.052949125411747816,
          0.04420214097474012,
          0.55138766310157,
          0.5433883273947859,
          0.5189677311008396,
          0.47979009750022017,
          0.42852531757870904,
          0.3686670013689027,
          0.3042943941999547,
          0.2397943828696658,
          0.1795625365588866,
          0.12770355605586434,
          0.08775154518086264,
          0.062429167451193174,
          0.053462101061925116,
          0.5614988475483464,
          0.553186978025663,
          0.5284465490379199,
          0.4889635799351397,
          0.4374287698129855,
          0.3773541308159816,
          0.3128336503137388,
          0.24826429242734954,
          0.1880463521908621,
          0.1362835827165416,
          0.09650353120204194,
          0.07141714241843278,
          0.0627340123040995,
          0.5689230832351279,
          0.5604100503881264,
          0.5354606116905324,
          0.49577503015868996,
          0.4440578125904699,
          0.38383340189640325,
          0.3192059921397463,
          0.25457983449357086,
          0.19435909480168856,
          0.14264771695462336,
          0.10296974589556046,
          0.07802916978122734,
          0.06952564765756511,
          0.5736540442964514,
          0.5650593657177719,
          0.5400197632811357,
          0.5002416445126999,
          0.4484358224700841,
          0.38813277831232373,
          0.32344206484327764,
          0.25877224727940284,
          0.19853046681575065,
          0.14682210123666967,
          0.10717099020425991,
          0.08227929140882084,
          0.07384333298778442,
          0.5756855230712563,
          0.5671353623075897,
          0.5421310581878275,
          0.5023766127161654,
          0.4505812256541698,
          0.3902746670341915,
          0.32556672916488155,
          0.2608671510771102,
          0.2005851020964509,
          0.14882870424013922,
          0.1091250704905915,
          0.08417993787448216,
          0.07569327595581837,
          0.5750114957344155,
          0.5666368427722537,
          0.5417982070649148,
          0.5021883005880674,
          0.45050647300964347,
          0.39027475547085416,
          0.3255978399843484,
          0.26088335145687513,
          0.20054147533583283,
          0.14868441075920527,
          0.10884613098003848,
          0.08374154892941255,
          0.07508150038679415,
          0.5716261917996512,
          0.563560799578686,
          0.5390211702909278,
          0.4996796391186822,
          0.4482172663963837,
          0.38814112777946497,
          0.32354531283415566,
          0.2588319195993472,
          0.19841105888005295,
          0.14640031248409935,
          0.10634412682654837,
          0.08097226476398536,
          0.07201377676698953,
          0.565524166490567,
          0.5579023416521904,
          0.5337959438115285,
          0.4948477841437161,
          0.4437121153652378,
          0.38387374879765845,
          0.31941057023498226,
          0.25471563876581627,
          0.1941978070563547,
          0.14198126532715186,
          0.10162448460513773,
          0.075877712803784,
          0.06649554987280082,
          0.5567003747657939,
          0.5496547351390412,
          0.5261145638616376,
          0.48768408470416547,
          0.43698227131183714,
          0.37746436847863146,
          0.3131864229246464,
          0.24852887041505856,
          0.18789801630173872,
          0.13542575309528568,
          0.09468797881870433,
          0.0684609054665885,
          0.05853186474559696,
          0.5506566983631533,
          0.5425182808141626,
          0.5179068684916497,
          0.47849968847311153,
          0.4269822749533676,
          0.36686545452723723,
          0.302246089159018,
          0.23752788181000375,
          0.17712127135913527,
          0.12514286848199546,
          0.08513491543628934,
          0.059823888105813156,
          0.050934691174688546,
          0.5496800164877969,
          0.5410782682087144,
          0.5160273652758754,
          0.47623448532557844,
          0.4244114473655928,
          0.36408990579127204,
          0.29938067397484525,
          0.2346935791275403,
          0.17443693986272235,
          0.122717146567484,
          0.08305881768389622,
          0.05816460278688826,
          0.049731001482055864,
          0.5539299396536519,
          0.5453754280166959,
          0.5203951293589013,
          0.48069140975190117,
          0.4289700120734138,
          0.368755664101577,
          0.30415187414175654,
          0.2395612837169034,
          0.1793856348234737,
          0.12772579848859292,
          0.0881023071865672,
          0.06321543636871413,
          0.05476118515377176,
          0.5635353163432135,
          0.55541823202895,
          0.5308976785013718,
          0.49164469096125274,
          0.440334295640823,
          0.3804632111867323,
          0.31611155306288174,
          0.2516647804242686,
          0.1915148343228868,
          0.13976083418305962,
          0.09992972958678731,
          0.07473594448829315,
          0.06589639370734107,
          0.5785982650632023,
          0.5711999169831217,
          0.5474198285770093,
          0.5088785735712876,
          0.45820267480216126,
          0.3988456110248638,
          0.3348524680436321,
          0.27058427279896824,
          0.2104207965885817,
          0.15846208089136488,
          0.11824902631624556,
          0.09252208607730333,
          0.08303450863604311,
          0.5991985835523095,
          0.5927093393216596,
          0.5698602541470514,
          0.5322084554232359,
          0.4823198510107018,
          0.42359426685534635,
          0.3600337544687405,
          0.29596985773131845,
          0.23576842533514036,
          0.18353208541043478,
          0.14282065819843717,
          0.11640856018483056,
          0.1060957322011866,
          0.6253979274653505,
          0.6199365466809643,
          0.5981380730666161,
          0.5614880365754426,
          0.5124840766272684,
          0.45446573210968866,
          0.39138685732172873,
          0.3275461733374189,
          0.2672943172685712,
          0.21473735353537762,
          0.17345695236176606,
          0.1462663048686297,
          0.13501840874795623
         ],
         "z": [
          0.2970064002117985,
          0.36153689924191923,
          0.421669751404829,
          0.47330700219986244,
          0.5129296583199295,
          0.5378375012299831,
          0.5463331025978595,
          0.5378375012299832,
          0.5129296583199296,
          0.47330700219986244,
          0.4216697514048291,
          0.3615368992419193,
          0.2970064002117985,
          0.3066533710535939,
          0.37122348658118615,
          0.43139325544273416,
          0.48306220732556804,
          0.5227091885458527,
          0.5476323228531602,
          0.5561331398318745,
          0.5476323228531603,
          0.5227091885458528,
          0.48306220732556804,
          0.43139325544273427,
          0.3712234865811862,
          0.3066533710535939,
          0.3149081475832743,
          0.37951381112568183,
          0.4397167054635814,
          0.49141410283783205,
          0.5310829110513672,
          0.5560197663802396,
          0.5645252633438885,
          0.5560197663802396,
          0.5310829110513673,
          0.49141410283783205,
          0.4397167054635815,
          0.37951381112568194,
          0.3149081475832743,
          0.3217707298008396,
          0.3864073967395937,
          0.44663918164361427,
          0.49836138790942325,
          0.5380492326549929,
          0.5629980548481773,
          0.5715076334863889,
          0.5629980548481773,
          0.5380492326549929,
          0.49836138790942325,
          0.4466391816436144,
          0.38640739673959373,
          0.3217707298008396,
          0.3272411177062899,
          0.39190372181994493,
          0.4521596763232602,
          0.5039026374945078,
          0.5436064080391535,
          0.5685652416081629,
          0.5770782349402306,
          0.5685652416081629,
          0.5436064080391536,
          0.5039026374945078,
          0.4521596763232603,
          0.39190372181994504,
          0.3272411177062899,
          0.33131931129962516,
          0.3960022151900111,
          0.45627708607382,
          0.5080362911092542,
          0.5477525260092793,
          0.5727191949996401,
          0.5812348608480149,
          0.5727191949996401,
          0.5477525260092793,
          0.5080362911092542,
          0.4562770860738201,
          0.39600221519001116,
          0.33131931129962516,
          0.33400531058084537,
          0.39870225167443946,
          0.4589902031492554,
          0.5107606407428351,
          0.5504854946878694,
          0.5754575818364291,
          0.5839750957176655,
          0.5754575818364293,
          0.5504854946878694,
          0.5107606407428351,
          0.45899020314925554,
          0.3987022516744395,
          0.33400531058084537,
          0.3352991155499506,
          0.4000031473466087,
          0.46029770630479283,
          0.5120738178729727,
          0.5518030256118467,
          0.5767778496696307,
          0.585296297059635,
          0.5767778496696307,
          0.5518030256118467,
          0.5120738178729727,
          0.46029770630479294,
          0.40000314734660875,
          0.3352991155499506,
          0.33520072620694075,
          0.39990415444309907,
          0.46019815097243405,
          0.5119737795720121,
          0.5517026167160435,
          0.5766772078081703,
          0.5851955757379274,
          0.5766772078081703,
          0.5517026167160435,
          0.5119737795720121,
          0.46019815097243416,
          0.3999041544430991,
          0.33520072620694075,
          0.3338338582455041,
          0.39853054132551435,
          0.4588182523699459,
          0.510588483501274,
          0.5503131790222504,
          0.5752851665812841,
          0.5838026464943877,
          0.5752851665812843,
          0.5503131790222504,
          0.510588483501274,
          0.458818252369946,
          0.39853054132551446,
          0.3338338582455041,
          0.3313222273593287,
          0.39600627137641736,
          0.45628220468917835,
          0.5080423220530366,
          0.5477592570072835,
          0.5727263660701253,
          0.5812421820190281,
          0.5727263660701253,
          0.5477592570072835,
          0.5080423220530366,
          0.45628220468917846,
          0.3960062713764174,
          0.3313222273593287,
          0.32766583354841466,
          0.392331221626503,
          0.45258977037167614,
          0.5043349592689108,
          0.5440404392078281,
          0.5690003473469991,
          0.5775137071949377,
          0.5690003473469991,
          0.5440404392078282,
          0.5043349592689108,
          0.45258977037167625,
          0.392331221626503,
          0.32766583354841466,
          0.32286467681276204,
          0.38750538557901815,
          0.44774093686667593,
          0.49946637739943667,
          0.5391567038853247,
          0.5641070861656927,
          0.5726171969205898,
          0.5641070861656927,
          0.5391567038853248,
          0.49946637739943667,
          0.44774093686667604,
          0.3875053855790182,
          0.32286467681276204,
          0.3169187571523707,
          0.3815288797991607,
          0.4417359293608481,
          0.49343689490665765,
          0.5331084410745276,
          0.5580470175534477,
          0.5665531015693255,
          0.5580470175534477,
          0.5331084410745277,
          0.49343689490665765,
          0.4417359293608482,
          0.38152887979916084,
          0.3169187571523707,
          0.3098280745672407,
          0.37440194456543796,
          0.43457521203662375,
          0.4862471682436632,
          0.5258964547629914,
          0.5508210382418604,
          0.5593223495060069,
          0.5508210382418604,
          0.5258964547629914,
          0.4862471682436632,
          0.43457521203662386,
          0.37440194456543796,
          0.3098280745672407,
          0.301592629057372,
          0.3661249382246242,
          0.42625947716681134,
          0.4778981764320478,
          0.517521944002393,
          0.5424304855993,
          0.5509263252762507,
          0.5424304855993001,
          0.517521944002393,
          0.4778981764320478,
          0.42625947716681145,
          0.3661249382246242,
          0.301592629057372,
          0.2922124206227647,
          0.3566983254721958,
          0.4167896224741347,
          0.4683911890434629,
          0.5079864636941012,
          0.532877093892894,
          0.5413668243255048,
          0.532877093892894,
          0.5079864636941012,
          0.4683911890434629,
          0.4167896224741348,
          0.3566983254721959,
          0.2922124206227647,
          0.2847923411235621,
          0.34944311846153137,
          0.4096880521643791,
          0.4614215495597167,
          0.5011180582936984,
          0.5260723268976859,
          0.5345837632051962,
          0.5260723268976859,
          0.5011180582936984,
          0.4614215495597167,
          0.4096880521643792,
          0.3494431184615314,
          0.2847923411235621,
          0.28243728241990784,
          0.3471419711518875,
          0.40743714227633665,
          0.45921377952360565,
          0.49894339063023185,
          0.5239184682555853,
          0.5324370021327655,
          0.5239184682555853,
          0.49894339063023185,
          0.45921377952360565,
          0.40743714227633676,
          0.34714197115188755,
          0.28243728241990784,
          0.28514724451180173,
          0.3497876849910133,
          0.41002298627494527,
          0.4617482121246397,
          0.501438373878417,
          0.5263886526038513,
          0.5348987280380888,
          0.5263886526038513,
          0.5014383738784172,
          0.4617482121246397,
          0.4100229862749454,
          0.34978768499101337,
          0.28514724451180173,
          0.2929222273992438,
          0.3573753189919452,
          0.41743603890637393,
          0.4690113483353945,
          0.5085864751736475,
          0.5334644399280958,
          0.5419498504135042,
          0.5334644399280959,
          0.5085864751736476,
          0.4690113483353945,
          0.41743603890637404,
          0.35737531899194525,
          0.2929222273992438,
          0.3057622310822341,
          0.3699025623135205,
          0.4296718359683037,
          0.4809968748204053,
          0.5203799622906915,
          0.5451372060516916,
          0.5535814408543733,
          0.5451372060516917,
          0.5203799622906915,
          0.4809968748204053,
          0.42967183596830383,
          0.3699025623135205,
          0.3057622310822341,
          0.3236672555607726,
          0.3873699718777951,
          0.44673145335152875,
          0.49770631311902513,
          0.536820698727068,
          0.5614090294360476,
          0.569795651142285,
          0.5614090294360476,
          0.536820698727068,
          0.49770631311902513,
          0.44673145335152886,
          0.3873699718777952,
          0.3236672555607726,
          0.34663730083485933,
          0.4097810440022232,
          0.4686216454227006,
          0.5191492153481776,
          0.5579203833889901,
          0.5822929585155414,
          0.5906059900105419,
          0.5822929585155414,
          0.5579203833889901,
          0.5191492153481776,
          0.4686216454227007,
          0.40978104400222326,
          0.34663730083485933,
          0.3746723669044943,
          0.4371421068064738,
          0.49535463717025974,
          0.5453428702523151,
          0.583700190577559,
          0.6078126101542947,
          0.6160369074360252,
          0.6078126101542947,
          0.583700190577559,
          0.5453428702523151,
          0.49535463717025985,
          0.43714210680647386,
          0.3746723669044943,
          0.40043707914340665,
          0.46415476363512304,
          0.5235301932271812,
          0.5745170305154194,
          0.6136406067983764,
          0.6382347150071357,
          0.6466233073109559,
          0.6382347150071357,
          0.6136406067983764,
          0.5745170305154194,
          0.5235301932271813,
          0.4641547636351231,
          0.40043707914340665,
          0.4165960629253257,
          0.4810324298795883,
          0.5410775649120492,
          0.5926394912995234,
          0.6322043489688168,
          0.657075858253786,
          0.6655590668987726,
          0.657075858253786,
          0.6322043489688169,
          0.5926394912995234,
          0.5410775649120493,
          0.4810324298795884,
          0.4165960629253257,
          0.42314931825025126,
          0.4878482339903443,
          0.5481380255427637,
          0.5999100432468033,
          0.6396361096532375,
          0.6646089589868964,
          0.6731267328352761,
          0.6646089589868964,
          0.6396361096532375,
          0.5999100432468033,
          0.5481380255427638,
          0.4878482339903444,
          0.42314931825025126,
          0.4200968451181835,
          0.48469449758951555,
          0.5448899267975944,
          0.5965809137195399,
          0.6362448030200161,
          0.6611785661908718,
          0.6696830084770053,
          0.6611785661908719,
          0.6362448030200161,
          0.5965809137195399,
          0.5448899267975945,
          0.4846944975895156,
          0.4200968451181835,
          0.4074386435291224,
          0.47166432006194703,
          0.5315131228770085,
          0.5829064549672833,
          0.6223419456823164,
          0.647132131500108,
          0.6555876022248945,
          0.647132131500108,
          0.6223419456823165,
          0.5829064549672833,
          0.5315131228770086,
          0.47166432006194703,
          0.4074386435291224,
          0.38517471348306787,
          0.4488402900843416,
          0.5081671628525786,
          0.5591123034509161,
          0.5982038847384031,
          0.6227778800521899,
          0.6311596122220893,
          0.6227778800521899,
          0.5982038847384031,
          0.5591123034509161,
          0.5081671628525787,
          0.4488402900843417,
          0.38517471348306787,
          0.35330505498001996,
          0.41628968748532585,
          0.47498202137242174,
          0.5253822710805699,
          0.5640557428825107,
          0.5883669035858758,
          0.5966589877648236,
          0.5883669035858758,
          0.5640557428825107,
          0.5253822710805699,
          0.47498202137242185,
          0.4162896874853259,
          0.35330505498001996
         ]
        }
       ],
       "layout": {
        "height": 512,
        "scene": {
         "aspectmode": "data",
         "aspectratio": {
          "x": 1,
          "y": 1,
          "z": 1
         }
        },
        "template": {
         "data": {
          "bar": [
           {
            "error_x": {
             "color": "#2a3f5f"
            },
            "error_y": {
             "color": "#2a3f5f"
            },
            "marker": {
             "line": {
              "color": "#E5ECF6",
              "width": 0.5
             },
             "pattern": {
              "fillmode": "overlay",
              "size": 10,
              "solidity": 0.2
             }
            },
            "type": "bar"
           }
          ],
          "barpolar": [
           {
            "marker": {
             "line": {
              "color": "#E5ECF6",
              "width": 0.5
             },
             "pattern": {
              "fillmode": "overlay",
              "size": 10,
              "solidity": 0.2
             }
            },
            "type": "barpolar"
           }
          ],
          "carpet": [
           {
            "aaxis": {
             "endlinecolor": "#2a3f5f",
             "gridcolor": "white",
             "linecolor": "white",
             "minorgridcolor": "white",
             "startlinecolor": "#2a3f5f"
            },
            "baxis": {
             "endlinecolor": "#2a3f5f",
             "gridcolor": "white",
             "linecolor": "white",
             "minorgridcolor": "white",
             "startlinecolor": "#2a3f5f"
            },
            "type": "carpet"
           }
          ],
          "choropleth": [
           {
            "colorbar": {
             "outlinewidth": 0,
             "ticks": ""
            },
            "type": "choropleth"
           }
          ],
          "contour": [
           {
            "colorbar": {
             "outlinewidth": 0,
             "ticks": ""
            },
            "colorscale": [
             [
              0,
              "#0d0887"
             ],
             [
              0.1111111111111111,
              "#46039f"
             ],
             [
              0.2222222222222222,
              "#7201a8"
             ],
             [
              0.3333333333333333,
              "#9c179e"
             ],
             [
              0.4444444444444444,
              "#bd3786"
             ],
             [
              0.5555555555555556,
              "#d8576b"
             ],
             [
              0.6666666666666666,
              "#ed7953"
             ],
             [
              0.7777777777777778,
              "#fb9f3a"
             ],
             [
              0.8888888888888888,
              "#fdca26"
             ],
             [
              1,
              "#f0f921"
             ]
            ],
            "type": "contour"
           }
          ],
          "contourcarpet": [
           {
            "colorbar": {
             "outlinewidth": 0,
             "ticks": ""
            },
            "type": "contourcarpet"
           }
          ],
          "heatmap": [
           {
            "colorbar": {
             "outlinewidth": 0,
             "ticks": ""
            },
            "colorscale": [
             [
              0,
              "#0d0887"
             ],
             [
              0.1111111111111111,
              "#46039f"
             ],
             [
              0.2222222222222222,
              "#7201a8"
             ],
             [
              0.3333333333333333,
              "#9c179e"
             ],
             [
              0.4444444444444444,
              "#bd3786"
             ],
             [
              0.5555555555555556,
              "#d8576b"
             ],
             [
              0.6666666666666666,
              "#ed7953"
             ],
             [
              0.7777777777777778,
              "#fb9f3a"
             ],
             [
              0.8888888888888888,
              "#fdca26"
             ],
             [
              1,
              "#f0f921"
             ]
            ],
            "type": "heatmap"
           }
          ],
          "heatmapgl": [
           {
            "colorbar": {
             "outlinewidth": 0,
             "ticks": ""
            },
            "colorscale": [
             [
              0,
              "#0d0887"
             ],
             [
              0.1111111111111111,
              "#46039f"
             ],
             [
              0.2222222222222222,
              "#7201a8"
             ],
             [
              0.3333333333333333,
              "#9c179e"
             ],
             [
              0.4444444444444444,
              "#bd3786"
             ],
             [
              0.5555555555555556,
              "#d8576b"
             ],
             [
              0.6666666666666666,
              "#ed7953"
             ],
             [
              0.7777777777777778,
              "#fb9f3a"
             ],
             [
              0.8888888888888888,
              "#fdca26"
             ],
             [
              1,
              "#f0f921"
             ]
            ],
            "type": "heatmapgl"
           }
          ],
          "histogram": [
           {
            "marker": {
             "pattern": {
              "fillmode": "overlay",
              "size": 10,
              "solidity": 0.2
             }
            },
            "type": "histogram"
           }
          ],
          "histogram2d": [
           {
            "colorbar": {
             "outlinewidth": 0,
             "ticks": ""
            },
            "colorscale": [
             [
              0,
              "#0d0887"
             ],
             [
              0.1111111111111111,
              "#46039f"
             ],
             [
              0.2222222222222222,
              "#7201a8"
             ],
             [
              0.3333333333333333,
              "#9c179e"
             ],
             [
              0.4444444444444444,
              "#bd3786"
             ],
             [
              0.5555555555555556,
              "#d8576b"
             ],
             [
              0.6666666666666666,
              "#ed7953"
             ],
             [
              0.7777777777777778,
              "#fb9f3a"
             ],
             [
              0.8888888888888888,
              "#fdca26"
             ],
             [
              1,
              "#f0f921"
             ]
            ],
            "type": "histogram2d"
           }
          ],
          "histogram2dcontour": [
           {
            "colorbar": {
             "outlinewidth": 0,
             "ticks": ""
            },
            "colorscale": [
             [
              0,
              "#0d0887"
             ],
             [
              0.1111111111111111,
              "#46039f"
             ],
             [
              0.2222222222222222,
              "#7201a8"
             ],
             [
              0.3333333333333333,
              "#9c179e"
             ],
             [
              0.4444444444444444,
              "#bd3786"
             ],
             [
              0.5555555555555556,
              "#d8576b"
             ],
             [
              0.6666666666666666,
              "#ed7953"
             ],
             [
              0.7777777777777778,
              "#fb9f3a"
             ],
             [
              0.8888888888888888,
              "#fdca26"
             ],
             [
              1,
              "#f0f921"
             ]
            ],
            "type": "histogram2dcontour"
           }
          ],
          "mesh3d": [
           {
            "colorbar": {
             "outlinewidth": 0,
             "ticks": ""
            },
            "type": "mesh3d"
           }
          ],
          "parcoords": [
           {
            "line": {
             "colorbar": {
              "outlinewidth": 0,
              "ticks": ""
             }
            },
            "type": "parcoords"
           }
          ],
          "pie": [
           {
            "automargin": true,
            "type": "pie"
           }
          ],
          "scatter": [
           {
            "fillpattern": {
             "fillmode": "overlay",
             "size": 10,
             "solidity": 0.2
            },
            "type": "scatter"
           }
          ],
          "scatter3d": [
           {
            "line": {
             "colorbar": {
              "outlinewidth": 0,
              "ticks": ""
             }
            },
            "marker": {
             "colorbar": {
              "outlinewidth": 0,
              "ticks": ""
             }
            },
            "type": "scatter3d"
           }
          ],
          "scattercarpet": [
           {
            "marker": {
             "colorbar": {
              "outlinewidth": 0,
              "ticks": ""
             }
            },
            "type": "scattercarpet"
           }
          ],
          "scattergeo": [
           {
            "marker": {
             "colorbar": {
              "outlinewidth": 0,
              "ticks": ""
             }
            },
            "type": "scattergeo"
           }
          ],
          "scattergl": [
           {
            "marker": {
             "colorbar": {
              "outlinewidth": 0,
              "ticks": ""
             }
            },
            "type": "scattergl"
           }
          ],
          "scattermapbox": [
           {
            "marker": {
             "colorbar": {
              "outlinewidth": 0,
              "ticks": ""
             }
            },
            "type": "scattermapbox"
           }
          ],
          "scatterpolar": [
           {
            "marker": {
             "colorbar": {
              "outlinewidth": 0,
              "ticks": ""
             }
            },
            "type": "scatterpolar"
           }
          ],
          "scatterpolargl": [
           {
            "marker": {
             "colorbar": {
              "outlinewidth": 0,
              "ticks": ""
             }
            },
            "type": "scatterpolargl"
           }
          ],
          "scatterternary": [
           {
            "marker": {
             "colorbar": {
              "outlinewidth": 0,
              "ticks": ""
             }
            },
            "type": "scatterternary"
           }
          ],
          "surface": [
           {
            "colorbar": {
             "outlinewidth": 0,
             "ticks": ""
            },
            "colorscale": [
             [
              0,
              "#0d0887"
             ],
             [
              0.1111111111111111,
              "#46039f"
             ],
             [
              0.2222222222222222,
              "#7201a8"
             ],
             [
              0.3333333333333333,
              "#9c179e"
             ],
             [
              0.4444444444444444,
              "#bd3786"
             ],
             [
              0.5555555555555556,
              "#d8576b"
             ],
             [
              0.6666666666666666,
              "#ed7953"
             ],
             [
              0.7777777777777778,
              "#fb9f3a"
             ],
             [
              0.8888888888888888,
              "#fdca26"
             ],
             [
              1,
              "#f0f921"
             ]
            ],
            "type": "surface"
           }
          ],
          "table": [
           {
            "cells": {
             "fill": {
              "color": "#EBF0F8"
             },
             "line": {
              "color": "white"
             }
            },
            "header": {
             "fill": {
              "color": "#C8D4E3"
             },
             "line": {
              "color": "white"
             }
            },
            "type": "table"
           }
          ]
         },
         "layout": {
          "annotationdefaults": {
           "arrowcolor": "#2a3f5f",
           "arrowhead": 0,
           "arrowwidth": 1
          },
          "autotypenumbers": "strict",
          "coloraxis": {
           "colorbar": {
            "outlinewidth": 0,
            "ticks": ""
           }
          },
          "colorscale": {
           "diverging": [
            [
             0,
             "#8e0152"
            ],
            [
             0.1,
             "#c51b7d"
            ],
            [
             0.2,
             "#de77ae"
            ],
            [
             0.3,
             "#f1b6da"
            ],
            [
             0.4,
             "#fde0ef"
            ],
            [
             0.5,
             "#f7f7f7"
            ],
            [
             0.6,
             "#e6f5d0"
            ],
            [
             0.7,
             "#b8e186"
            ],
            [
             0.8,
             "#7fbc41"
            ],
            [
             0.9,
             "#4d9221"
            ],
            [
             1,
             "#276419"
            ]
           ],
           "sequential": [
            [
             0,
             "#0d0887"
            ],
            [
             0.1111111111111111,
             "#46039f"
            ],
            [
             0.2222222222222222,
             "#7201a8"
            ],
            [
             0.3333333333333333,
             "#9c179e"
            ],
            [
             0.4444444444444444,
             "#bd3786"
            ],
            [
             0.5555555555555556,
             "#d8576b"
            ],
            [
             0.6666666666666666,
             "#ed7953"
            ],
            [
             0.7777777777777778,
             "#fb9f3a"
            ],
            [
             0.8888888888888888,
             "#fdca26"
            ],
            [
             1,
             "#f0f921"
            ]
           ],
           "sequentialminus": [
            [
             0,
             "#0d0887"
            ],
            [
             0.1111111111111111,
             "#46039f"
            ],
            [
             0.2222222222222222,
             "#7201a8"
            ],
            [
             0.3333333333333333,
             "#9c179e"
            ],
            [
             0.4444444444444444,
             "#bd3786"
            ],
            [
             0.5555555555555556,
             "#d8576b"
            ],
            [
             0.6666666666666666,
             "#ed7953"
            ],
            [
             0.7777777777777778,
             "#fb9f3a"
            ],
            [
             0.8888888888888888,
             "#fdca26"
            ],
            [
             1,
             "#f0f921"
            ]
           ]
          },
          "colorway": [
           "#636efa",
           "#EF553B",
           "#00cc96",
           "#ab63fa",
           "#FFA15A",
           "#19d3f3",
           "#FF6692",
           "#B6E880",
           "#FF97FF",
           "#FECB52"
          ],
          "font": {
           "color": "#2a3f5f"
          },
          "geo": {
           "bgcolor": "white",
           "lakecolor": "white",
           "landcolor": "#E5ECF6",
           "showlakes": true,
           "showland": true,
           "subunitcolor": "white"
          },
          "hoverlabel": {
           "align": "left"
          },
          "hovermode": "closest",
          "mapbox": {
           "style": "light"
          },
          "paper_bgcolor": "white",
          "plot_bgcolor": "#E5ECF6",
          "polar": {
           "angularaxis": {
            "gridcolor": "white",
            "linecolor": "white",
            "ticks": ""
           },
           "bgcolor": "#E5ECF6",
           "radialaxis": {
            "gridcolor": "white",
            "linecolor": "white",
            "ticks": ""
           }
          },
          "scene": {
           "xaxis": {
            "backgroundcolor": "#E5ECF6",
            "gridcolor": "white",
            "gridwidth": 2,
            "linecolor": "white",
            "showbackground": true,
            "ticks": "",
            "zerolinecolor": "white"
           },
           "yaxis": {
            "backgroundcolor": "#E5ECF6",
            "gridcolor": "white",
            "gridwidth": 2,
            "linecolor": "white",
            "showbackground": true,
            "ticks": "",
            "zerolinecolor": "white"
           },
           "zaxis": {
            "backgroundcolor": "#E5ECF6",
            "gridcolor": "white",
            "gridwidth": 2,
            "linecolor": "white",
            "showbackground": true,
            "ticks": "",
            "zerolinecolor": "white"
           }
          },
          "shapedefaults": {
           "line": {
            "color": "#2a3f5f"
           }
          },
          "ternary": {
           "aaxis": {
            "gridcolor": "white",
            "linecolor": "white",
            "ticks": ""
           },
           "baxis": {
            "gridcolor": "white",
            "linecolor": "white",
            "ticks": ""
           },
           "bgcolor": "#E5ECF6",
           "caxis": {
            "gridcolor": "white",
            "linecolor": "white",
            "ticks": ""
           }
          },
          "title": {
           "x": 0.05
          },
          "xaxis": {
           "automargin": true,
           "gridcolor": "white",
           "linecolor": "white",
           "ticks": "",
           "title": {
            "standoff": 15
           },
           "zerolinecolor": "white",
           "zerolinewidth": 2
          },
          "yaxis": {
           "automargin": true,
           "gridcolor": "white",
           "linecolor": "white",
           "ticks": "",
           "title": {
            "standoff": 15
           },
           "zerolinecolor": "white",
           "zerolinewidth": 2
          }
         }
        }
       }
      }
     },
     "metadata": {},
     "output_type": "display_data"
    }
   ],
   "source": [
    "npoints = 6\n",
    "points = genpoints3dx(npoints)\n",
    "\n",
    "M = spl.B2\n",
    "d = M.shape[0]\n",
    "\n",
    "curve, curve_dt = spl.build_curve(M, points)\n",
    "pipe, pipe_norm = pipes.build_pipe(curve, curve_dt, 0.25)\n",
    "\n",
    "t1 = npoints - d + 1\n",
    "tt = np.arange(0, t1, 1/8)\n",
    "ss = np.linspace(-0.5 * math.pi, +0.5 * math.pi, 13)\n",
    "uu, vv = np.meshgrid(tt, ss)\n",
    "\n",
    "pxx, pyy, pzz = points.T\n",
    "cxx, cyy, czz = curve(tt).T\n",
    "xx, yy, zz = pipe(uu, vv).T\n",
    "nxx, nyy, nzz = pipe_norm(uu, vv).T\n",
    "\n",
    "tex = checker(uu, vv / math.pi).T\n",
    "\n",
    "go.Figure(\n",
    "    [\n",
    "        go.Scatter3d(x=pxx, y=pyy, z=pzz, mode=\"lines+markers\", line=dict(dash=\"dot\"), name=\"points\", hoverinfo=\"skip\"),\n",
    "        go.Scatter3d(x=cxx, y=cyy, z=czz, mode=\"lines\", line=dict(width=4), name=\"curve\", hoverinfo=\"skip\"),\n",
    "        go.Surface(x=xx, y=yy, z=zz, surfacecolor=tex, hoverinfo=\"skip\", colorscale=[\"black\",\"white\"], showscale=False),\n",
    "        go.Cone(x=xx.flatten(), y=yy.flatten(), z=zz.flatten(), u=nxx.flatten(), v=nyy.flatten(), w=nzz.flatten(), showscale=False, hoverinfo=\"skip\"),\n",
    "    ],\n",
    "    layout=go.Layout(scene=dict(aspectmode=\"data\", aspectratio={\"x\": 1, \"y\": 1, \"z\": 1}), height=512),\n",
    ")"
   ]
  },
  {
   "cell_type": "markdown",
   "metadata": {},
   "source": [
    "# Texture mapping\n",
    "\n",
    "Mapping of fabric plane points $(u, v)$ into pipe surface $(t, \\phi)$ (with the $t$ approximating arc length)\n",
    "\n",
    "- $p = [u, v]$ ­— point on the UV fabric plane in locality of a curve segment\n",
    "- $p^* = q(t^*)$ — closest point on the curve\n",
    "- $s^*$ — signed distance from the $p$ to $p^*$ \n",
    "- $X(t^*), Y(t^*), Z(t^*)$ — local generatrix frame at the closest point\n",
    "\n",
    "In the local frame with semi-circle profile with $\\phi$ measured from top point, negative to left, positive to right:\n",
    "\n",
    "$x = s^* = r sin(\\phi^*), y = r cos(\\phi^*)$\n",
    "\n",
    "$\\phi^* = \n",
    "\\begin{cases}\n",
    "arcsin(\\frac{s^*}{r}) & \\text { if } |s^*| < r  \\\\\n",
    "\\inf & \\text{ otherwise }\n",
    "\\end{cases}\n",
    "$\n",
    "\n",
    "For low fidelity renders (flat mapping), $arcsin(a) \\approx a \\frac{\\pi}{2}$\n",
    "\n",
    "For texture mapping in range $[0,1]$, $v = 0.5 + \\frac{\\phi}{\\pi}$"
   ]
  },
  {
   "cell_type": "code",
   "execution_count": 20,
   "metadata": {},
   "outputs": [],
   "source": [
    "def vwrap_flat(r):\n",
    "\n",
    "    @np.vectorize\n",
    "    def wrap(s):\n",
    "        if abs(s) <= r:\n",
    "            return s * 0.5 * math.pi\n",
    "        else:\n",
    "            return np.nan\n",
    "\n",
    "    return wrap\n",
    "\n",
    "\n",
    "def vwrap_sin(r):\n",
    "\n",
    "    @np.vectorize\n",
    "    def wrap(s):\n",
    "        if abs(s) <= r:\n",
    "            return math.asin(s / r)\n",
    "        else:\n",
    "            return np.nan\n",
    "\n",
    "    return wrap"
   ]
  },
  {
   "cell_type": "code",
   "execution_count": 21,
   "metadata": {},
   "outputs": [],
   "source": [
    "def wrap3d(fn):\n",
    "\n",
    "    @np.vectorize(signature=\"(),()->(3)\")\n",
    "    def wrapped(u, v):\n",
    "        if np.isnan(u) or np.isnan(v):\n",
    "            return np.array([np.nan, np.nan, np.nan])\n",
    "        else:\n",
    "            return fn(u, v)\n",
    "\n",
    "    return wrapped\n",
    "\n",
    "\n",
    "@np.vectorize(signature=\"(3)->(3)\")\n",
    "def vec2rgb(p):\n",
    "    if np.isnan(p[0]):\n",
    "        return np.array([math.nan, math.nan, math.nan])\n",
    "    return p * 256\n",
    "\n",
    "@np.vectorize(signature=\"()->(3)\")\n",
    "def val2rgb(v):\n",
    "    if np.isnan(v):\n",
    "        return np.array([math.nan, math.nan, math.nan])\n",
    "    b = v * 256\n",
    "    return np.array([b, b, b])\n"
   ]
  },
  {
   "cell_type": "code",
   "execution_count": 23,
   "metadata": {},
   "outputs": [
    {
     "data": {
      "application/vnd.jupyter.widget-view+json": {
       "model_id": "02437ff547a14e95b87cfb445b3bc64e",
       "version_major": 2,
       "version_minor": 0
      },
      "text/plain": [
       "HBox(children=(FigureWidget({\n",
       "    'data': [{'hoverinfo': 'skip',\n",
       "              'line': {'width': 4},\n",
       "         …"
      ]
     },
     "metadata": {},
     "output_type": "display_data"
    }
   ],
   "source": [
    "points = genpoints3d(3)\n",
    "points2d = points[:, :2]\n",
    "\n",
    "# flatten a bit\n",
    "points[0][2] = 0.5\n",
    "points[1][2] = 0.5 + 0.5 * points[1][2]\n",
    "points[2][2] = 0.5\n",
    "\n",
    "thickness = 0.25 / 4\n",
    "\n",
    "#### 3d model\n",
    "\n",
    "curve3, curve3_dt = spl.build_curve(spl.B2, points)\n",
    "curve2, curve2_dt = spl.build_curve(spl.B2, points2d)\n",
    "proj2 = project_B2_lin(curve2)\n",
    "pipe, pipe_norm = pipes.build_pipe(curve3, curve3_dt, thickness)\n",
    "\n",
    "pxx, pyy, pzz = points.T\n",
    "cxx, cyy, czz = curve3(np.arange(0, 1, 1 / 8)).T\n",
    "suu, svv = np.meshgrid(np.arange(0, 1, 1 / 8), np.linspace(-0.5 * math.pi, +0.5 * math.pi, 7))\n",
    "sxx, syy, szz = pipe(suu, svv).T\n",
    "nxx, nyy, nzz = pipe_norm(suu, svv).T\n",
    "stex = checker(suu * 4, svv / math.pi).T\n",
    "\n",
    "#### projection\n",
    "\n",
    "range_x = np.min(cxx) - thickness, np.max(cxx) + thickness\n",
    "range_y = np.min(cyy) - thickness, np.max(cyy) + thickness\n",
    "\n",
    "pixelsize = 1 / 128\n",
    "\n",
    "xx = np.arange(*range_x, pixelsize)\n",
    "yy = np.arange(*range_y, pixelsize)\n",
    "img_range = dict(x0=range_x[0], dx=pixelsize, y0=range_y[0], dy=pixelsize)\n",
    "\n",
    "xxx, yyy = np.meshgrid(xx, yy)\n",
    "\n",
    "# [x][y]\n",
    "tproj, sdist = distmap(curve2, curve2_dt, proj2)(xxx, yyy)\n",
    "uuu = tproj\n",
    "vvv = vwrap_sin(thickness)(sdist)\n",
    "\n",
    "tex = val2rgb(checker(uuu * 4, vvv / math.pi))\n",
    "\n",
    "surface = pipe(uuu, vvv)\n",
    "tex_z = val2rgb(surface[:, :, 2])\n",
    "\n",
    "normals = pipe_norm(uuu, vvv)\n",
    "tex_n = vec2rgb(normals * vec(0.5, 0.5, 1) + vec(0.5, 0.5, 0))\n",
    "\n",
    "\n",
    "fig3d = go.FigureWidget(\n",
    "    [\n",
    "        go.Scatter3d(x=cxx, y=cyy, z=czz, mode=\"lines\", name=\"curve\", line=dict(width=4), hoverinfo=\"skip\"),\n",
    "        go.Scatter3d(x=pxx, y=pyy, z=pzz, mode=\"lines+markers\", line=dict(dash=\"dot\"), name=\"points\", hoverinfo=\"skip\"),\n",
    "        go.Surface(x=sxx, y=syy, z=szz, surfacecolor=stex, colorscale=[\"black\", \"white\"], hoverinfo=\"skip\", showscale=False),\n",
    "        go.Cone(x=sxx.flatten(), y=syy.flatten(), z=szz.flatten(), u=nxx.flatten(), v=nyy.flatten(), w=nzz.flatten(), showscale=False, hoverinfo=\"skip\"),\n",
    "    ],\n",
    "    layout=go.Layout(\n",
    "        scene=dict(\n",
    "            camera=dict(eye=dict(x=0, y=0, z=5), center=dict(x=0, y=0, z=0), up=dict(x=0, y=-1, z=0)),\n",
    "            aspectmode=\"data\",\n",
    "            aspectratio=dict(x=1, y=1, z=1),\n",
    "            xaxis_autorange=\"reversed\",\n",
    "            yaxis_autorange=\"reversed\",\n",
    "        ),\n",
    "        margin=dict(l=8, r=8, b=8),\n",
    "        title=\"Local segment of curve in 3d\",\n",
    "    ),\n",
    ")\n",
    "\n",
    "fig2tex = go.FigureWidget(\n",
    "    [\n",
    "        go.Image(z=tex, **img_range),\n",
    "    ],\n",
    "    layout=go.Layout(\n",
    "        xaxis=dict(range=(0, 1)),\n",
    "        yaxis=dict(range=(0, 1)),\n",
    "        showlegend=False,\n",
    "        margin=dict(l=8, r=8, b=8),\n",
    "        title=\"Projection of texture to XY\",\n",
    "    ),\n",
    ")\n",
    "\n",
    "fig2z = go.FigureWidget(\n",
    "    [\n",
    "        go.Image(z=tex_z, **img_range),\n",
    "    ],\n",
    "    layout=go.Layout(\n",
    "        xaxis=dict(range=(0, 1)),\n",
    "        yaxis=dict(range=(0, 1)),\n",
    "        showlegend=False,\n",
    "        margin=dict(l=8, r=8, b=8),\n",
    "        title=\"Projection of bump to XY\",\n",
    "    ),\n",
    ")\n",
    "\n",
    "fig2n = go.FigureWidget(\n",
    "    [\n",
    "        go.Image(z=tex_n, **img_range),\n",
    "    ],\n",
    "    layout=go.Layout(\n",
    "        xaxis=dict(range=(0, 1)),\n",
    "        yaxis=dict(range=(0, 1)),\n",
    "        showlegend=False,\n",
    "        margin=dict(l=8, r=8, b=8),\n",
    "        title=\"Projection of normal to XY\",\n",
    "    ),\n",
    ")\n",
    "\n",
    "display(iw.HBox([fig3d, iw.VBox([fig2tex, fig2z, fig2n])]))"
   ]
  },
  {
   "cell_type": "code",
   "execution_count": null,
   "metadata": {},
   "outputs": [],
   "source": []
  }
 ],
 "metadata": {
  "kernelspec": {
   "display_name": ".venv",
   "language": "python",
   "name": "python3"
  },
  "language_info": {
   "codemirror_mode": {
    "name": "ipython",
    "version": 3
   },
   "file_extension": ".py",
   "mimetype": "text/x-python",
   "name": "python",
   "nbconvert_exporter": "python",
   "pygments_lexer": "ipython3",
   "version": "3.10.12"
  }
 },
 "nbformat": 4,
 "nbformat_minor": 2
}
